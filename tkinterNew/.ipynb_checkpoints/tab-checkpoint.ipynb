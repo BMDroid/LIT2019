{
 "cells": [
  {
   "cell_type": "code",
   "execution_count": 26,
   "metadata": {},
   "outputs": [],
   "source": [
    "import tkinter as tk                    # imports\n",
    "from tkinter import ttk"
   ]
  },
  {
   "cell_type": "code",
   "execution_count": 27,
   "metadata": {},
   "outputs": [],
   "source": [
    "win = tk.Tk() \n",
    "win.geometry('600x450')# Create instance      \n",
    "win.title(\"Python GUI\") \n",
    "var = tk.DoubleVar()\n",
    "def print_selection(v):\n",
    "    var.set(v)"
   ]
  },
  {
   "cell_type": "code",
   "execution_count": null,
   "metadata": {},
   "outputs": [],
   "source": [
    "tabControl = ttk.Notebook(win)          # Create Tab Control\n",
    "tab1 = ttk.Frame(tabControl)            # Create a tab \n",
    "b2 = tk.Button(tab1, \n",
    "    text='Classify the Case', \n",
    "    width=15, height=2)\n",
    "b2.pack()\n",
    "s = tk.Scale(tab1, label='try me', from_=0, to=10, orient=tk.HORIZONTAL,\n",
    "             length=300, showvalue=0, tickinterval=1, resolution=0.5, command=print_selection)\n",
    "s.pack()\n",
    "l1 = tk.Label(tab1, \n",
    "    textvariable= var,\n",
    "    fg = '#9aacb8',\n",
    "    bg='#3c455c', \n",
    "    font=('Helvitica', 16)\n",
    "    )\n",
    "    #, width=50, height=5)\n",
    "l1.pack() \n",
    "tabControl.add(tab1, text='Tab 1') \n",
    "tab2 = ttk.Frame(tabControl)\n",
    "b3 = tk.Button(tab2, \n",
    "    text='Classify the Case', \n",
    "    width=15, height=2)\n",
    "b3.pack()#\n",
    "tabControl.add(tab2, text='Tab 2') \n",
    "tabControl.pack(expand=1, fill=\"both\")  # Pack to make visible\n",
    "win.mainloop() "
   ]
  },
  {
   "cell_type": "code",
   "execution_count": null,
   "metadata": {},
   "outputs": [],
   "source": []
  }
 ],
 "metadata": {
  "kernelspec": {
   "display_name": "Python 3",
   "language": "python",
   "name": "python3"
  },
  "language_info": {
   "codemirror_mode": {
    "name": "ipython",
    "version": 3
   },
   "file_extension": ".py",
   "mimetype": "text/x-python",
   "name": "python",
   "nbconvert_exporter": "python",
   "pygments_lexer": "ipython3",
   "version": "3.6.8"
  }
 },
 "nbformat": 4,
 "nbformat_minor": 2
}
