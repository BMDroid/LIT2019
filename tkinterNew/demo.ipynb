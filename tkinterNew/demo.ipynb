{
 "cells": [
  {
   "cell_type": "code",
   "execution_count": 417,
   "metadata": {},
   "outputs": [],
   "source": [
    "import tkinter as tk\n",
    "import webbrowser\n",
    "from tkinter import ttk\n",
    "from tkinter import filedialog\n",
    "from PIL import ImageTk, Image\n",
    "import string\n",
    "import io\n",
    "import csv\n",
    "import os\n",
    "import numpy as np\n",
    "import tensorflow as tf\n",
    "import matplotlib.pyplot as plt\n",
    "from bs4 import BeautifulSoup"
   ]
  },
  {
   "cell_type": "code",
   "execution_count": 418,
   "metadata": {},
   "outputs": [],
   "source": [
    "# global var\n",
    "W = np.array([[-1.234352  ],\n",
    "       [-1.0965089 ],\n",
    "       [ 0.9574655 ],\n",
    "       [ 0.07142846],\n",
    "       [ 0.18221012],\n",
    "       [-1.110761  ],\n",
    "       [ 0.49294937],\n",
    "       [-0.5562565 ],\n",
    "       [-0.27289093],\n",
    "       [-0.3349833 ],\n",
    "       [ 0.2631448 ],\n",
    "       [-0.32123747],\n",
    "       [ 1.0309917 ],\n",
    "       [ 0.5341499 ],\n",
    "       [-1.1661073 ],\n",
    "       [-0.22655593],\n",
    "       [-0.3114538 ],\n",
    "       [ 0.50718987],\n",
    "       [-0.9014772 ],\n",
    "       [ 0.533391  ],\n",
    "       [-0.1640348 ],\n",
    "       [ 0.3487134 ],\n",
    "       [-0.2405224 ],\n",
    "       [ 0.54387933],\n",
    "       [-0.12337092]])\n",
    "b = np.array([[-0.99959964]])\n",
    "\n",
    "wordsBag = ['likelyhood', 'breach', 'trade', 'evidence', 'property', 'public', 'opponents', 'constitution', 'fiduciary', 'confusion', 'crimes', 'copyright', 'intellectual', 'misuse', 'death', 'marks', 'constitutional', 'unregistered', 'contract', 'drugs', 'proprietor', 'similar', 'penalty', 'company', 'criminal']\n",
    "\n",
    "countVec = []\n",
    "\n",
    "\n",
    "Ww = np.array([[ 0.8594918 ],\n",
    "       [ 0.8459306 ],\n",
    "       [ 1.6249211 ],\n",
    "       [ 1.8483686 ],\n",
    "       [-0.36843148],\n",
    "       [ 1.751518  ]])\n",
    "bb = np.array([[-3.5971665]])\n",
    "\n",
    "scoreVec = []"
   ]
  },
  {
   "cell_type": "code",
   "execution_count": 419,
   "metadata": {},
   "outputs": [],
   "source": [
    "def choose_file(event=None):\n",
    "    f = filedialog.askopenfilename()\n",
    "    fileName.set(f)\n",
    "    fileNameShow.set(f[-9:])"
   ]
  },
  {
   "cell_type": "code",
   "execution_count": 420,
   "metadata": {},
   "outputs": [],
   "source": [
    "def open_browser():\n",
    "    if len(fileName.get()) > 0:\n",
    "        webbrowser.open('file://' + os.path.realpath(fileName.get()))"
   ]
  },
  {
   "cell_type": "code",
   "execution_count": 421,
   "metadata": {},
   "outputs": [],
   "source": [
    "def sigmoid(a):\n",
    "    return 1/(1+np.exp(-a))"
   ]
  },
  {
   "cell_type": "code",
   "execution_count": 422,
   "metadata": {},
   "outputs": [],
   "source": [
    "def read_html(fileName):\n",
    "    html = io.open(fileName.get(), mode=\"r\", encoding=\"utf-8\")\n",
    "    soup = BeautifulSoup(html, 'html.parser') \n",
    "    return soup"
   ]
  },
  {
   "cell_type": "code",
   "execution_count": 423,
   "metadata": {},
   "outputs": [],
   "source": [
    "def read_stop_words(stopFileName):\n",
    "    file = open(stopFileName, mode=\"r\", encoding=\"utf-8\")\n",
    "    words = list(map(lambda x: x[0:-1], file.readlines()))\n",
    "    return words"
   ]
  },
  {
   "cell_type": "code",
   "execution_count": 424,
   "metadata": {},
   "outputs": [],
   "source": [
    "def class_contents(soup, className):\n",
    "    lst = soup.find_all(class_=className)\n",
    "    text = '\\n'.join([''.join(l.findAll(text=True)) + ' ' for l in lst])\n",
    "    return text"
   ]
  },
  {
   "cell_type": "code",
   "execution_count": 425,
   "metadata": {},
   "outputs": [],
   "source": [
    "def clean_text(s, stopWords):\n",
    "    puncs = string.punctuation.translate({ord('('): None, ord(')'): None}) + '’' + '“' + '”' + '\\\\'\n",
    "    return list(map(lambda x: x.lower(), list(filter(lambda x:  4 < len(x) <= 16 and not any(p in x for p in puncs) and x not in stopWords and x.count('(') == x.count(')'), s.split(' ')))))"
   ]
  },
  {
   "cell_type": "code",
   "execution_count": 426,
   "metadata": {},
   "outputs": [],
   "source": [
    "def word_counter_vectorizer(text, wordsBag):\n",
    "    vecLength = len(wordsBag)\n",
    "    vec = [None] * vecLength\n",
    "    for idx, word in enumerate(wordsBag):\n",
    "        vec[idx] = text.count(word)\n",
    "    return vec"
   ]
  },
  {
   "cell_type": "code",
   "execution_count": 427,
   "metadata": {},
   "outputs": [],
   "source": [
    "def classify_case():\n",
    "    model = np.matmul(countVec, W) + b\n",
    "    prediction = np.sign(model)\n",
    "    global caseType\n",
    "    if prediction >= 0:\n",
    "        caseType.set('Trade Mark')\n",
    "    else:\n",
    "        caseType.set('None Trade Mark')"
   ]
  },
  {
   "cell_type": "code",
   "execution_count": 428,
   "metadata": {},
   "outputs": [],
   "source": [
    "def create_data(className='txt-body', stopWords='./stopWords.txt'):\n",
    "    global countVec\n",
    "    global caseSum\n",
    "    if len(fileName.get()) > 0:\n",
    "        soup = read_html(fileName)\n",
    "        text = class_contents(soup, className)\n",
    "        caseSum.set('\\n'.join(list(filter(lambda x: len(x) < 50, text.split('\\n')))[:]))\n",
    "        cleanText = clean_text(text, read_stop_words(stopWords))\n",
    "        countVec = word_counter_vectorizer(cleanText, wordsBag)\n",
    "        countVec = np.array(countVec)\n",
    "        countVec.astype(np.float64)\n",
    "        classify_case()\n",
    "    else:\n",
    "        caseType.set('Choose a case first')  "
   ]
  },
  {
   "cell_type": "code",
   "execution_count": 429,
   "metadata": {},
   "outputs": [],
   "source": [
    "def similarity_score(t, score):\n",
    "    def _record_score(v):\n",
    "        score.set(v)\n",
    "    s = tk.Scale(t, label='Score', from_=0, to=10, orient=tk.HORIZONTAL,\n",
    "             length=300, showvalue=0, tickinterval=1, resolution=0.5, command=_record_score, bg = '#ECECEC', fg='#005b96',\n",
    "            font=('Helvitica', 14))\n",
    "    s.pack()\n",
    "    l = tk.Label(t, \n",
    "        textvariable= score,\n",
    "        bg ='#ECECEC',\n",
    "        fg = '#d9534f',\n",
    "        font=('Helvitica', 16)\n",
    "    )\n",
    "    l.pack() "
   ]
  },
  {
   "cell_type": "code",
   "execution_count": 430,
   "metadata": {},
   "outputs": [],
   "source": [
    "def new_window(): # new window definition\n",
    "    def _explain(s):\n",
    "        explaination.set(dic[s])\n",
    "    explaination = tk.StringVar()\n",
    "    dic = {'1': '1', '2':'2', '3':'3', '4':'4', '5':'5', '6':'6'}\n",
    "    newWin = tk.Toplevel(window)\n",
    "    newWin.title('Trade Mark Cases')\n",
    "    newWin.geometry('400x900')\n",
    "    newWin.configure(background='#b3cde0')\n",
    "    path = \"./graph.png\"\n",
    "    img = ImageTk.PhotoImage(Image.open(path))\n",
    "    lp = tk.Label(newWin, image=img, bg='#b3cde0')\n",
    "    lp.pack() \n",
    "    l1 = tk.Label(newWin, text=\"3 Types Trade Mark Cases\", fg = '#011f4b',\n",
    "    bg='#b3cde0', font=('MS Sans Serif', 22))\n",
    "    l1.pack()\n",
    "    l2 = tk.Label(newWin, text=\"1. Text Logo\\n2. Image Logo\\n3. Text + Image Logo\", fg = '#011f4b',\n",
    "    bg='#b3cde0', font=('Helvitica', 20))\n",
    "    l2.pack()\n",
    "    l3 = tk.Label(newWin, \n",
    "        text='6 criterion:',\n",
    "        fg = '#d9534f',\n",
    "        bg='#b3cde0',\n",
    "        font=('Helvitica', 22))\n",
    "    l3.pack()\n",
    "    b1 = tk.Button(newWin, \n",
    "        text =\"1. Marks Similarity\", \n",
    "        command =_explain('2'), \n",
    "        font=('Helvitica', 18),\n",
    "        width=15, height=2)\n",
    "    b1.pack()\n",
    "    l4 = tk.Label(newWin, \n",
    "        textvariable=explaination,\n",
    "        fg = '#d9534f',\n",
    "        bg='#b3cde0',\n",
    "        font=('Helvitica', 22))\n",
    "    l4.pack()    \n",
    "    b2 = tk.Button(newWin, \n",
    "        text =\"Predict the Win Rate\", \n",
    "        command =new_tab, \n",
    "        font=('Helvitica', 18),\n",
    "        width=15, height=2)\n",
    "    b2.pack()\n",
    "    newWin.mainloop()"
   ]
  },
  {
   "cell_type": "code",
   "execution_count": 431,
   "metadata": {},
   "outputs": [],
   "source": [
    "def new_tab():\n",
    "    def _predict_result():\n",
    "        global scoreVec\n",
    "        global Ww\n",
    "        global bb\n",
    "        global winProb\n",
    "        global winOrLose\n",
    "        scoreVec = [score1.get(), score2.get(), score3.get(), score4.get(), score5.get(), score6.get()]\n",
    "        scoreVec = np.asarray(scoreVec)\n",
    "        scoreVec.astype(np.float64)\n",
    "        model = np.matmul(scoreVec, Ww) + bb\n",
    "        prediction = sigmoid(model)\n",
    "        winProb.set(str(prediction[0][0] * 100)[0:4] + '%')\n",
    "        if prediction[0][0] >= 0.7:\n",
    "            winOrLose.set('Win')\n",
    "        else:\n",
    "            winOrLose.set('Lose')\n",
    "        l1 = tk.Label(tab6, text=str(winProb.get()), bg='#ECECEC', fg='#d9534f',font=('Helvitica', 20))\n",
    "        l1.pack()\n",
    "        l2 = tk.Label(tab6, text=winOrLose.get(), bg='#ECECEC', fg='#d9534f', font=('Helvitica', 20))\n",
    "        l2.pack()\n",
    "        \n",
    "    newTab = tk.Toplevel(window)\n",
    "    newTab.title('Predict the Trade Mark Cases')\n",
    "    newTab.geometry('800x600')\n",
    "    newTab.configure(background='#b3cde0')\n",
    "    # tab1\n",
    "    tabControl = ttk.Notebook(newTab)       \n",
    "    tab1 = ttk.Frame(tabControl)\n",
    "    l1 = tk.Label(tab1, text=\"Marks Similarity example...\", anchor='w', bg ='#ECECEC', fg = '#011f4b', font=('Helvitica', 20))\n",
    "    l1.pack(fill='both')\n",
    "    similarity_score(tab1, score1)\n",
    "    tabControl.add(tab1, text='Marks Similarity')\n",
    "    # tab2\n",
    "    tab2 = ttk.Frame(tabControl)\n",
    "    l2 = tk.Label(tab2, text=\"Visual Similarity example...\", anchor='w', bg ='#ECECEC', fg = '#011f4b', font=('Helvitica', 20))\n",
    "    l2.pack(fill='both')\n",
    "    similarity_score(tab2, score2)\n",
    "    tabControl.add(tab2, text='Visual Similarity')\n",
    "    # tab3\n",
    "    tab3 = ttk.Frame(tabControl)\n",
    "    l3 = tk.Label(tab3, text=\"Aural Similarity example...\", anchor='w', bg ='#ECECEC', fg = '#011f4b', font=('Helvitica', 20))\n",
    "    l3.pack(fill='both')\n",
    "    similarity_score(tab3, score3)\n",
    "    tabControl.add(tab3, text='Aural Similarity')\n",
    "    # tab4\n",
    "    tab4 = ttk.Frame(tabControl)\n",
    "    l4 = tk.Label(tab4, text=\"Conceptual Similarity example...\", anchor='w', bg ='#ECECEC', fg = '#011f4b', font=('Helvitica', 20))\n",
    "    l4.pack(fill='both')\n",
    "    similarity_score(tab4, score4)\n",
    "    tabControl.add(tab4, text='Conceptual Similarity')\n",
    "    # tab5\n",
    "    tab5 = ttk.Frame(tabControl)\n",
    "    l5 = tk.Label(tab5, text=\"G&S Similarity example...\", anchor='w', bg ='#ECECEC', fg = '#011f4b', font=('Helvitica', 20))\n",
    "    l5.pack(fill='both')\n",
    "    similarity_score(tab5, score5)\n",
    "    tabControl.add(tab5, text='G&S Similarity')\n",
    "    # tab6\n",
    "    tab6 = ttk.Frame(tabControl)\n",
    "    l6 = tk.Label(tab6, text=\"Likelyhood of Confusion example...\", anchor='w', bg ='#ECECEC', fg = '#011f4b', font=('Helvitica', 20))\n",
    "    l6.pack(fill='both')\n",
    "    similarity_score(tab6, score6)\n",
    "    b = tk.Button(tab6, \n",
    "        text =\"Predict the Win Rate\", \n",
    "        command =_predict_result, \n",
    "        bg ='#ECECEC',\n",
    "        font=('Helvitica', 16))\n",
    "    b.pack()\n",
    "    tabControl.add(tab6, text='Likelyhood of Confusion')\n",
    "    tabControl.pack(expand=1, fill=\"both\") \n",
    "    newTab.mainloop() "
   ]
  },
  {
   "cell_type": "code",
   "execution_count": 432,
   "metadata": {},
   "outputs": [],
   "source": [
    "window = tk.Tk()\n",
    "window.title('LIT')\n",
    "window.geometry('420x900')\n",
    "window.configure(background='#b3cde0')\n",
    "fileName = tk.StringVar()\n",
    "fileNameShow = tk.StringVar()\n",
    "caseType = tk.StringVar()\n",
    "caseSum = tk.StringVar()\n",
    "score1 = tk.DoubleVar()\n",
    "score2 = tk.DoubleVar()\n",
    "score3 = tk.DoubleVar()\n",
    "score4 = tk.DoubleVar()\n",
    "score5 = tk.DoubleVar()\n",
    "score6 = tk.DoubleVar()\n",
    "winProb = tk.StringVar()\n",
    "winOrLose = tk.StringVar()"
   ]
  },
  {
   "cell_type": "code",
   "execution_count": 433,
   "metadata": {},
   "outputs": [],
   "source": [
    "path = \"./stadistics.png\"\n",
    "img = ImageTk.PhotoImage(Image.open(path))\n",
    "lp = tk.Label(window, image=img, bg='#b3cde0')\n",
    "lp.pack() "
   ]
  },
  {
   "cell_type": "code",
   "execution_count": 434,
   "metadata": {},
   "outputs": [],
   "source": [
    "l0 = tk.Label(window, \n",
    "    text= 'Trade Mark Cases',\n",
    "    fg = '#011f4b',\n",
    "    bg='#b3cde0', \n",
    "    font=('MS Sans Serif', 32), \n",
    "    width=20)\n",
    "l0.pack() "
   ]
  },
  {
   "cell_type": "code",
   "execution_count": 435,
   "metadata": {},
   "outputs": [],
   "source": [
    "l1 = tk.Label(window, \n",
    "    textvariable= fileNameShow,\n",
    "    fg = '#011f4b',\n",
    "    bg='#b3cde0',  \n",
    "    font=('Helvitica', 16), \n",
    "    width=50, height=2)\n",
    "l1.pack() "
   ]
  },
  {
   "cell_type": "code",
   "execution_count": 436,
   "metadata": {},
   "outputs": [],
   "source": [
    "b1 = tk.Button(window, \n",
    "    text='Choose a Case',\n",
    "    command=choose_file,\n",
    "    font=('Helvitica', 20),\n",
    "    height = 2)\n",
    "b1.pack()"
   ]
  },
  {
   "cell_type": "code",
   "execution_count": 437,
   "metadata": {},
   "outputs": [],
   "source": [
    "l2 = tk.Label(window, \n",
    "    textvariable=caseType,\n",
    "    fg = '#d9534f',\n",
    "    bg='#b3cde0',  \n",
    "    font=('Helvitica', 20),\n",
    "    width=24, height=2)\n",
    "l2.pack()"
   ]
  },
  {
   "cell_type": "code",
   "execution_count": 438,
   "metadata": {},
   "outputs": [],
   "source": [
    "b2 = tk.Button(window, \n",
    "    text='Classify the Case', \n",
    "    command=create_data,\n",
    "    font=('Helvitica', 20),\n",
    "    height = 2)\n",
    "b2.pack()"
   ]
  },
  {
   "cell_type": "code",
   "execution_count": 439,
   "metadata": {},
   "outputs": [],
   "source": [
    "l3 = tk.Label(window, \n",
    "    textvariable=caseSum,\n",
    "    fg = '#011f4b',\n",
    "    bg='#b3cde0',  \n",
    "    font=('Helvitica', 14),\n",
    "    width=200, height=10)\n",
    "l3.pack()"
   ]
  },
  {
   "cell_type": "code",
   "execution_count": 440,
   "metadata": {},
   "outputs": [],
   "source": [
    "b3 = tk.Button(window, \n",
    "    text =\"More Trade Mark Cases\", \n",
    "    command=new_window,\n",
    "    font=('Helvitica', 20),\n",
    "    width=20, height=2)\n",
    "b3.pack()\n",
    "# b3.grid(row=9, column=1, sticky=S, ipady=30)\n",
    "# b3.grid(column=0, row=7, padx=20, pady=40)"
   ]
  },
  {
   "cell_type": "code",
   "execution_count": 441,
   "metadata": {},
   "outputs": [],
   "source": [
    "b4 = tk.Button(window, \n",
    "    text =\"Read case\", \n",
    "    command=open_browser,\n",
    "    font=('Helvitica', 20),\n",
    "    width=20, height=2)\n",
    "b4.pack()"
   ]
  },
  {
   "cell_type": "code",
   "execution_count": 442,
   "metadata": {},
   "outputs": [],
   "source": [
    "window.mainloop()"
   ]
  }
 ],
 "metadata": {
  "kernelspec": {
   "display_name": "Python 3",
   "language": "python",
   "name": "python3"
  },
  "language_info": {
   "codemirror_mode": {
    "name": "ipython",
    "version": 3
   },
   "file_extension": ".py",
   "mimetype": "text/x-python",
   "name": "python",
   "nbconvert_exporter": "python",
   "pygments_lexer": "ipython3",
   "version": "3.6.8"
  }
 },
 "nbformat": 4,
 "nbformat_minor": 2
}
