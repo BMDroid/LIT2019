{
 "cells": [
  {
   "cell_type": "code",
   "execution_count": 3,
   "metadata": {},
   "outputs": [],
   "source": [
    "from tkinter import *\n",
    "from tkinter import ttk\n",
    "from tkinter.filedialog import askopenfilename\n",
    "\n",
    "root = Tk()\n",
    "\n",
    "#This is where we lauch the file manager bar.\n",
    "def OpenFile():\n",
    "    name = askopenfilename(initialdir=\"~/Users/bmdroid/workspace/github/lit2019/\",\n",
    "                           filetypes =((\"HTML\", \"*.html\"),(\"All Files\",\"*.*\")),\n",
    "                           title = \"Choose a file.\"\n",
    "                           )\n",
    "    print (name)\n",
    "    #Using try in case user types in unknown file or closes without choosing a file.\n",
    "    try:\n",
    "        with open(name,'r') as UseFile:\n",
    "            print(UseFile.read())\n",
    "    except:\n",
    "        print(\"No file exists\")\n",
    "\n",
    "\n",
    "Title = root.title( \"File Opener\")\n",
    "label = ttk.Label(root, text =\"I'm BATMAN!!!\",foreground=\"red\",font=(\"Helvetica\", 16))\n",
    "label.pack()\n",
    "\n",
    "#Menu Bar\n",
    "\n",
    "menu = Menu(root)\n",
    "root.config(menu=menu)\n",
    "\n",
    "file = Menu(menu)\n",
    "\n",
    "file.add_command(label = 'Open', command = OpenFile)\n",
    "file.add_command(label = 'Exit', command = lambda:exit())\n",
    "\n",
    "menu.add_cascade(label = 'File', menu = file)\n",
    "\n",
    "\n",
    "\n",
    "\n",
    "\n",
    "root.mainloop()"
   ]
  },
  {
   "cell_type": "code",
   "execution_count": null,
   "metadata": {},
   "outputs": [],
   "source": []
  }
 ],
 "metadata": {
  "kernelspec": {
   "display_name": "Python 3",
   "language": "python",
   "name": "python3"
  },
  "language_info": {
   "codemirror_mode": {
    "name": "ipython",
    "version": 3
   },
   "file_extension": ".py",
   "mimetype": "text/x-python",
   "name": "python",
   "nbconvert_exporter": "python",
   "pygments_lexer": "ipython3",
   "version": "3.6.8"
  }
 },
 "nbformat": 4,
 "nbformat_minor": 2
}
