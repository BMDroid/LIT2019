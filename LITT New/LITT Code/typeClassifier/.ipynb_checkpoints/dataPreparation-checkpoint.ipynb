{
 "cells": [
  {
   "cell_type": "code",
   "execution_count": 4,
   "metadata": {},
   "outputs": [],
   "source": [
    "import os\n",
    "import string\n",
    "import operator\n",
    "import numpy as np\n",
    "import matplotlib.pyplot as plt\n",
    "import pandas as pd\n",
    "from collections import Counter\n",
    "from bs4 import BeautifulSoup"
   ]
  },
  {
   "cell_type": "code",
   "execution_count": 5,
   "metadata": {},
   "outputs": [],
   "source": [
    "filesList = os.listdir('./3')\n",
    "if '.DS_store ' in filesList:\n",
    "    filesList.remove('.DS_store ')\n",
    "fileNameList = list(map(lambda x: './3/' + x, filesList))"
   ]
  },
  {
   "cell_type": "markdown",
   "metadata": {},
   "source": [
    "### Functions"
   ]
  },
  {
   "cell_type": "code",
   "execution_count": 6,
   "metadata": {},
   "outputs": [],
   "source": [
    "def readHtml(fileName):\n",
    "    html = open(fileName)\n",
    "    soup = BeautifulSoup(html, 'html.parser') \n",
    "    return soup"
   ]
  },
  {
   "cell_type": "code",
   "execution_count": 7,
   "metadata": {},
   "outputs": [],
   "source": [
    "fileName = './3/02_OF_3.htm'\n",
    "soup = readHtml(fileName)"
   ]
  },
  {
   "cell_type": "code",
   "execution_count": 8,
   "metadata": {},
   "outputs": [],
   "source": [
    "def read_stop_words(stopFileName):\n",
    "    file = open(stopFileName)\n",
    "    words = list(map(lambda x: x[0:-1], file.readlines()))\n",
    "    return words"
   ]
  },
  {
   "cell_type": "code",
   "execution_count": 9,
   "metadata": {},
   "outputs": [],
   "source": [
    "stopFileName = 'stopWords.txt'\n",
    "stopWords = read_stop_words(stopFileName)"
   ]
  },
  {
   "cell_type": "code",
   "execution_count": 10,
   "metadata": {},
   "outputs": [],
   "source": [
    "def class_contents(className):\n",
    "    lst = soup.find_all(class_=className)\n",
    "    text = ''.join([''.join(l.findAll(text=True)) + ' ' for l in lst])\n",
    "    return text"
   ]
  },
  {
   "cell_type": "code",
   "execution_count": 11,
   "metadata": {},
   "outputs": [],
   "source": [
    "def list_classes():\n",
    "    classes = [value for element in soup.find_all(class_=True) for value in element[\"class\"]]\n",
    "    return classes"
   ]
  },
  {
   "cell_type": "code",
   "execution_count": 12,
   "metadata": {},
   "outputs": [],
   "source": [
    "def found_in_class(className, value):\n",
    "    lst = soup.find_all(class_=className)\n",
    "    return any(value in l.findAll(text=True) for l in lst)"
   ]
  },
  {
   "cell_type": "code",
   "execution_count": 13,
   "metadata": {},
   "outputs": [],
   "source": [
    "def found_in_text(lst, value):\n",
    "    lst = lst[::-1]\n",
    "    found = lst.index(value) if value in lst else None\n",
    "    if found:\n",
    "        return found\n",
    "    return None"
   ]
  },
  {
   "cell_type": "code",
   "execution_count": 14,
   "metadata": {},
   "outputs": [],
   "source": [
    "def clean_soup(soup):\n",
    "    case = list(soup.get_text().split())\n",
    "    puncs = string.punctuation.translate({ord('('): None, ord(')'): None}) + '’'\n",
    "    return list(map(lambda x: x.lower(), list(filter(lambda x:  4 < len(x) <= 20 and not any(p in x for p in puncs) and x not in stopWords and x.count('(') == x.count(')'), case))))"
   ]
  },
  {
   "cell_type": "code",
   "execution_count": 15,
   "metadata": {},
   "outputs": [],
   "source": [
    "def clean_text(lst):\n",
    "    puncs = string.punctuation.translate({ord('('): None, ord(')'): None}) + '’'\n",
    "    return list(map(lambda x: x.lower(), list(filter(lambda x:  4 < len(x) <= 20 and not any(p in x for p in puncs) and x not in stopWords and x.count('(') == x.count(')'), case))))"
   ]
  },
  {
   "cell_type": "code",
   "execution_count": 16,
   "metadata": {},
   "outputs": [],
   "source": [
    "def get_classes(classesList):\n",
    "    lst = ['Judg-Heading-']\n",
    "    headingsList = set(filter(lambda x: x if lst[0] in x else None, classesList))\n",
    "    return headingsList"
   ]
  },
  {
   "cell_type": "markdown",
   "metadata": {},
   "source": [
    "# A. Section of the law"
   ]
  },
  {
   "cell_type": "code",
   "execution_count": 17,
   "metadata": {},
   "outputs": [
    {
     "name": "stdout",
     "output_type": "stream",
     "text": [
      "Tribunal Appeal No 12 of 2015 29 March 2016 High Court  George Wei J   Prithipal Singh and Chow Jian Hong (Mirandah Law LLP) for the appellant; Melvin Pang (Amica Law LLC) for the respondent.   CAESARSTONE SDOT-YAM LTD — CERAMICHE CAESAR SpA  Evidence – Proof of evidence – Judicial notice – Applicant tendered Accounting and Corporate Regulatory Authority report showing number of entities whose names contained common denominator “Caesar” – Whether judicial notice should be taken of such fact Trade Marks and Trade Names – Registration criteria – Conflicts with earlier marks – Registration of trade mark opposed based on earlier trade mark – Whether trade mark similar – Whether likelihood of confusion arising – Whether trade mark well known – Sections 2(7), 2(8), 8(2)(b) and 8(4)(b)(i) Trade Marks Act (Cap 332, 2005 Rev Ed) \n"
     ]
    }
   ],
   "source": [
    "print(class_contents('txt-body'))"
   ]
  },
  {
   "cell_type": "markdown",
   "metadata": {},
   "source": [
    "# B. Conclusion exits?"
   ]
  },
  {
   "cell_type": "code",
   "execution_count": 18,
   "metadata": {},
   "outputs": [
    {
     "data": {
      "text/plain": [
       "False"
      ]
     },
     "execution_count": 18,
     "metadata": {},
     "output_type": "execute_result"
    }
   ],
   "source": [
    "className = 'Judg-Heading-1'\n",
    "value = 'Conclusion'\n",
    "found_in_class(className, value)"
   ]
  },
  {
   "cell_type": "markdown",
   "metadata": {},
   "source": [
    "# Clean the text"
   ]
  },
  {
   "cell_type": "code",
   "execution_count": 19,
   "metadata": {},
   "outputs": [
    {
     "name": "stdout",
     "output_type": "stream",
     "text": [
      "14151\n"
     ]
    }
   ],
   "source": [
    "# get all the text from the html\n",
    "case = list(soup.get_text().split())\n",
    "print(len(case))"
   ]
  },
  {
   "cell_type": "code",
   "execution_count": 20,
   "metadata": {},
   "outputs": [
    {
     "name": "stdout",
     "output_type": "stream",
     "text": [
      "4036\n"
     ]
    }
   ],
   "source": [
    "case = clean_soup(soup)\n",
    "print(len(case))"
   ]
  },
  {
   "cell_type": "code",
   "execution_count": 21,
   "metadata": {},
   "outputs": [],
   "source": [
    "# Find the last 'Conclustion' index\n",
    "lst = case\n",
    "value = 'Conclusion'\n",
    "idx = found_in_text(lst, value)\n",
    "if idx is not None:  \n",
    "    print(case[-idx:])"
   ]
  },
  {
   "cell_type": "markdown",
   "metadata": {},
   "source": [
    "# Make Dataset"
   ]
  },
  {
   "cell_type": "code",
   "execution_count": 22,
   "metadata": {},
   "outputs": [],
   "source": [
    "wordsBag = []\n",
    "for fileName in fileNameList:\n",
    "    soup = readHtml(fileName)\n",
    "    wordsBag += clean_soup(soup)\n",
    "wordsBagHist = dict(Counter(wordsBag))\n",
    "sortedBag = sorted(wordsBagHist.items(), key=operator.itemgetter(1), reverse=True)"
   ]
  },
  {
   "cell_type": "code",
   "execution_count": 23,
   "metadata": {},
   "outputs": [
    {
     "data": {
      "text/plain": [
       "10270"
      ]
     },
     "execution_count": 23,
     "metadata": {},
     "output_type": "execute_result"
    }
   ],
   "source": [
    "len(wordsBagHist)"
   ]
  },
  {
   "cell_type": "code",
   "execution_count": 24,
   "metadata": {},
   "outputs": [],
   "source": [
    "mostFreqWords1 = list(sortedBag[0:650])\n",
    "mostFreqWords2 = list(filter(lambda x: x[1] > 43, wordsBagHist.items()))"
   ]
  },
  {
   "cell_type": "code",
   "execution_count": 34,
   "metadata": {},
   "outputs": [
    {
     "name": "stdout",
     "output_type": "stream",
     "text": [
      "[('marks', 3359), ('trade', 3169), ('goods', 2188), ('application', 1666), ('court', 1473), ('earlier', 1420), ('similarity', 1397), ('evidence', 1255), ('singapore', 1102), ('section', 1046)]\n",
      "[('access', 50), ('sgipos', 181), ('print', 47), ('number', 168), ('trade', 3169), ('decision', 486), ('intellectual', 161), ('property', 177), ('office', 112), ('singapore', 1102)]\n"
     ]
    }
   ],
   "source": [
    "len(mostFreqWords1)\n",
    "print(mostFreqWords1[0:10])\n",
    "print(mostFreqWords2[0:10])"
   ]
  },
  {
   "cell_type": "code",
   "execution_count": 35,
   "metadata": {},
   "outputs": [],
   "source": [
    "wordsBag = list(map(lambda x: x[0], mostFreqWords1))"
   ]
  },
  {
   "cell_type": "code",
   "execution_count": 36,
   "metadata": {},
   "outputs": [],
   "source": [
    "wordsBag.remove('(refd)')\n",
    "wordsBag.remove('(iii)')\n",
    "wordsBag.remove('slr(r)')"
   ]
  },
  {
   "cell_type": "code",
   "execution_count": 37,
   "metadata": {},
   "outputs": [
    {
     "data": {
      "text/plain": [
       "647"
      ]
     },
     "execution_count": 37,
     "metadata": {},
     "output_type": "execute_result"
    }
   ],
   "source": [
    "len(wordsBag)"
   ]
  },
  {
   "cell_type": "code",
   "execution_count": 38,
   "metadata": {},
   "outputs": [],
   "source": [
    "def tf_vectorizer(cleanSoup, wordsBag):\n",
    "    length = len(cleanSoup)\n",
    "    vec = np.zeros(647 + 3) # win or lose then 299\n",
    "    for idx, word in enumerate(wordsBag):\n",
    "        vec[idx] = cleanSoup.count(word) / length\n",
    "    return vec"
   ]
  },
  {
   "cell_type": "code",
   "execution_count": 39,
   "metadata": {},
   "outputs": [],
   "source": [
    "vec = tf_vectorizer(case, wordsBag)"
   ]
  },
  {
   "cell_type": "code",
   "execution_count": 40,
   "metadata": {},
   "outputs": [],
   "source": [
    "def case_class(fileName):\n",
    "    return fileName[-fileName[::-1].index('.') - 2]"
   ]
  },
  {
   "cell_type": "code",
   "execution_count": 41,
   "metadata": {},
   "outputs": [],
   "source": [
    "def has_conclusion(headingsList):\n",
    "    for heading in headingsList:\n",
    "        if found_in_class(heading, 'Conclusion'):\n",
    "            return True\n",
    "    return False  "
   ]
  },
  {
   "cell_type": "markdown",
   "metadata": {},
   "source": [
    "### Add labels"
   ]
  },
  {
   "cell_type": "code",
   "execution_count": 43,
   "metadata": {},
   "outputs": [],
   "source": [
    "# vec[-3] = int(has_conclusion(headingsList))\n",
    "vec[-2] = 1 if 'OS' in fileName else 0\n",
    "vec[-1] = case_class(fileName)"
   ]
  }
 ],
 "metadata": {
  "kernelspec": {
   "display_name": "Python 3",
   "language": "python",
   "name": "python3"
  },
  "language_info": {
   "codemirror_mode": {
    "name": "ipython",
    "version": 3
   },
   "file_extension": ".py",
   "mimetype": "text/x-python",
   "name": "python",
   "nbconvert_exporter": "python",
   "pygments_lexer": "ipython3",
   "version": "3.6.8"
  }
 },
 "nbformat": 4,
 "nbformat_minor": 2
}
