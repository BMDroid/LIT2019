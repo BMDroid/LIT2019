{
 "cells": [
  {
   "cell_type": "code",
   "execution_count": 57,
   "metadata": {},
   "outputs": [],
   "source": [
    "import os\n",
    "import csv\n",
    "import string\n",
    "import numpy as np\n",
    "import operator\n",
    "import random\n",
    "import copy \n",
    "from collections import Counter"
   ]
  },
  {
   "cell_type": "code",
   "execution_count": 58,
   "metadata": {},
   "outputs": [],
   "source": [
    "def load_data(fileName):\n",
    "    with open(fileName, 'r') as f:\n",
    "        reader = csv.reader(f)\n",
    "        lst = list(reader)\n",
    "    dataSet = []\n",
    "    categories = []\n",
    "    for l in lst:\n",
    "        label = 1 if l[0] == 'OS' else 0\n",
    "        data = list(map(int, l[1].replace('X', '-1').split('_')))\n",
    "        category= l[2]\n",
    "        data.append(label)\n",
    "        dataSet.append(data)\n",
    "        categories.append(category)\n",
    "    return dataSet, categories"
   ]
  },
  {
   "cell_type": "code",
   "execution_count": 59,
   "metadata": {},
   "outputs": [],
   "source": [
    "def augment_data(dataSet):\n",
    "    augmentedData = copy.deepcopy(dataSet)\n",
    "    for data in augmentedData:\n",
    "        idx = random.randint(0, 5) # random index for the data\n",
    "        augmented = random.random()\n",
    "        data[idx] += augmented\n",
    "    return augmentedData"
   ]
  },
  {
   "cell_type": "code",
   "execution_count": 60,
   "metadata": {},
   "outputs": [],
   "source": [
    "fileName = './winOrLose.csv'\n",
    "dataSet, categories = load_data(fileName)\n",
    "# create another n sets of augemented data\n",
    "n = 2\n",
    "augmentDataSet = []\n",
    "for _ in range(n):\n",
    "    augmentedData = augment_data(dataSet)\n",
    "    augmentDataSet.extend(augmentedData)\n",
    "dataSet.extend(augmentDataSet)\n",
    "\n",
    "# save the data as csv file\n",
    "# np.savetxt(\"dataAugmented.csv\", dataSet, delimiter=\",\", fmt='%f', header= 'MarksSimilarity,VisualSimilarity,AuralSimilarity,ConceptualSimilarity,G&SSimilarity,LikelyhoodOfConfusion,WinOrLose')\n",
    "\n",
    "# save the data as txt file\n",
    "with open('dataAugmented.txt', 'w') as file:\n",
    "    file.writelines(' '.join(map(str, data)) + '\\n' for data in dataSet)"
   ]
  }
 ],
 "metadata": {
  "kernelspec": {
   "display_name": "Python 3",
   "language": "python",
   "name": "python3"
  },
  "language_info": {
   "codemirror_mode": {
    "name": "ipython",
    "version": 3
   },
   "file_extension": ".py",
   "mimetype": "text/x-python",
   "name": "python",
   "nbconvert_exporter": "python",
   "pygments_lexer": "ipython3",
   "version": "3.6.8"
  }
 },
 "nbformat": 4,
 "nbformat_minor": 2
}
