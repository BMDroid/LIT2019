{
 "cells": [
  {
   "cell_type": "code",
   "execution_count": 3,
   "metadata": {},
   "outputs": [],
   "source": [
    "import os\n",
    "import string\n",
    "from collections import Counter\n",
    "from functools import reduce\n",
    "from bs4 import BeautifulSoup"
   ]
  },
  {
   "cell_type": "markdown",
   "metadata": {},
   "source": [
    "### Functions"
   ]
  },
  {
   "cell_type": "code",
   "execution_count": 6,
   "metadata": {},
   "outputs": [],
   "source": [
    "def readFile(fileName):\n",
    "    file = os.path.expanduser(fileName)\n",
    "    html = open(file)\n",
    "    soup = BeautifulSoup(html, 'html.parser') \n",
    "    return soup"
   ]
  },
  {
   "cell_type": "code",
   "execution_count": 7,
   "metadata": {},
   "outputs": [],
   "source": [
    "fileName = '~/workspace/github/lit2019/html/02_OF_3.htm'\n",
    "soup = readFile(fileName)"
   ]
  },
  {
   "cell_type": "code",
   "execution_count": 41,
   "metadata": {},
   "outputs": [],
   "source": [
    "def class_contents(className):\n",
    "    lst = soup.find_all(class_=className)\n",
    "    text = ''.join([''.join(l.findAll(text=True)) + ' ' for l in lst])\n",
    "    return text"
   ]
  },
  {
   "cell_type": "code",
   "execution_count": 9,
   "metadata": {
    "scrolled": true
   },
   "outputs": [
    {
     "name": "stdout",
     "output_type": "stream",
     "text": [
      "Tribunal Appeal No 12 of 2015 29 March 2016 High Court  George Wei J   Prithipal Singh and Chow Jian Hong (Mirandah Law LLP) for the appellant; Melvin Pang (Amica Law LLC) for the respondent.   CAESARSTONE SDOT-YAM LTD — CERAMICHE CAESAR SpA  Evidence – Proof of evidence – Judicial notice – Applicant tendered Accounting and Corporate Regulatory Authority report showing number of entities whose names contained common denominator “Caesar” – Whether judicial notice should be taken of such fact Trade Marks and Trade Names – Registration criteria – Conflicts with earlier marks – Registration of trade mark opposed based on earlier trade mark – Whether trade mark similar – Whether likelihood of confusion arising – Whether trade mark well known – Sections 2(7), 2(8), 8(2)(b) and 8(4)(b)(i) Trade Marks Act (Cap 332, 2005 Rev Ed) \n"
     ]
    }
   ],
   "source": [
    "print(class_contents('txt-body'))"
   ]
  },
  {
   "cell_type": "code",
   "execution_count": 39,
   "metadata": {},
   "outputs": [],
   "source": [
    "def list_classes():\n",
    "    classes = [value for element in soup.find_all(class_=True) for value in element[\"class\"]]\n",
    "    return classes"
   ]
  },
  {
   "cell_type": "code",
   "execution_count": 40,
   "metadata": {},
   "outputs": [
    {
     "name": "stdout",
     "output_type": "stream",
     "text": [
      "['aui', 'ltr', 'yui3-js-enabled', 'webkit', 'ltr', 'js', 'chrome', 'chrome71', 'chrome71-0', 'mac', 'secure', '', 'lfr-css-file', 'lfr-css-file', 'portal-popup', 'yui3-skin-sam', 'controls-visible', 'signed-in', 'private-page', 'site', 'dockbar-split', 'columns-max', 'portlet-layout', 'row-fluid', 'portlet-column', 'portlet-column-only', 'span12', 'portlet-boundary', 'portlet-boundary_legalresearchpagecontent_WAR_lawnet3legalresearchportlet_', 'portlet-static', 'portlet-static-end', 'portlet-borderless', 'legalresearchpagecontent', '', 'portlet-body', 'documentTitle', 'contentDocID', 'documentId', 'selectedColor', 'ownerId', 'companyId', 'anoAuthor', 'titleCitation', 'sortIconsHolder', 'print', 'resultDisplay', 'contentDetailsHeader', 'iconHolder', 'grouping-category', 'case-reference', 'navi-container', 'contentsOfFile', 'title', 'caseTitle', 'Citation', 'offhyperlink', 'pagecontent', 'Citation', 'offhyperlink', 'pagecontent', 'info-row', 'txt-label', 'info-delim1', 'txt-body', 'info-row', 'txt-label', 'info-delim1', 'txt-body', 'info-row', 'txt-label', 'info-delim1', 'txt-body', 'info-row', 'txt-label', 'info-delim1', 'txt-body', 'metadata-coram', 'info-row', 'txt-label', 'info-delim1', 'txt-body', 'info-row', 'txt-label', 'info-delim1', 'txt-body', 'txt-body', 'txt-body', 'ToggleRoman', 'ToggleRoman', 'HN-Heading', 'HN-Facts', 'HN-Heading', 'HN-Held', 'HN-Held', 'HN-Held', 'HN-Held', 'HN-Held', 'HN-Held', 'HN-Observation-FirstPara', 'HN-Heading', 'Foreign-CasesRefdTo', 'Annotation', 'Foreign-CasesRefdTo', 'Annotation', 'Local-CasesRefdTo', 'pagecontent', 'pagecontent', 'Annotation', 'Foreign-CasesRefdTo', 'Annotation', 'Foreign-CasesRefdTo', 'Annotation', 'Foreign-CasesRefdTo', 'Annotation', 'Foreign-CasesRefdTo', 'Annotation', 'Foreign-CasesRefdTo', 'Annotation', 'Foreign-CasesRefdTo', 'Annotation', 'Local-CasesRefdTo', 'pagecontent', 'pagecontent', 'Annotation', 'Local-CasesRefdTo', 'pagecontent', 'pagecontent', 'Annotation', 'Foreign-CasesRefdTo', 'Annotation', 'Foreign-CasesRefdTo', 'pagecontent', 'pagecontent', 'pagecontent', 'Annotation', 'Local-CasesRefdTo', 'pagecontent', 'pagecontent', 'pagecontent', 'Annotation', 'Local-CasesRefdTo', 'pagecontent', 'pagecontent', 'Annotation', 'Local-CasesRefdTo', 'pagecontent', 'Annotation', 'Local-CasesRefdTo', 'pagecontent', 'Annotation', 'Local-CasesRefdTo', 'pagecontent', 'pagecontent', 'pagecontent', 'Annotation', 'Foreign-CasesRefdTo', 'Annotation', 'Local-CasesRefdTo', 'pagecontent', 'Annotation', 'Foreign-CasesRefdTo', 'Annotation', 'Local-CasesRefdTo', 'pagecontent', 'Annotation', 'Local-CasesRefdTo', 'pagecontent', 'pagecontent', 'Annotation', 'Foreign-CasesRefdTo', 'Annotation', 'Foreign-CasesRefdTo', 'pagecontent', 'Annotation', 'Local-CasesRefdTo', 'pagecontent', 'pagecontent', 'Annotation', 'Foreign-CasesRefdTo', 'ToggleRoman', 'Annotation', 'Foreign-CasesRefdTo', 'Annotation', 'Local-CasesRefdTo', 'pagecontent', 'pagecontent', 'pagecontent', 'Annotation', 'HN-Heading', 'Foreign-LegisRefdTo', 'Foreign-LegisRefdTo', 'Foreign-LegisRefdTo', 'Foreign-LegisRefdTo', 'Annotation', 'Foreign-LegisRefdTo', 'EditorialNote', 'AssociatedDecision', 'pagecontent', 'AssociatedDecision', 'pagecontent', 'Judg-Hearing-Date', 'Judg-Date-Reserved', 'Judg-Author', 'Judg-1', 'Judg-Heading-1', 'Judg-1', 'pagecontent', 'Judg-1', 'Judg-1', 'contentimg', 'Judg-1', 'Judg-Quote-Heading1', 'Judg-Quote-1', 'Judg-1', 'contentimg', 'Judg-1', 'Judg-Quote-Heading1', 'Judg-Quote-1', 'Judg-Quote-Heading1', 'Judg-Quote-1', 'Judg-Quote-Heading1', 'Judg-Quote-1', 'Judg-Quote-Heading1', 'Judg-Quote-1', 'Judg-1', 'Judg-Heading-1', 'Judg-1', 'Judg-2', 'Judg-2', 'Judg-2', 'Judg-2', 'Judg-1', 'Judg-2', 'Judg-2', 'Judg-2', 'Judg-2', 'Judg-1', 'Judg-Heading-1', 'Judg-1', 'Judg-2', 'Judg-2', 'Judg-1', 'Judg-2', 'Judg-2', 'Judg-2', 'Judg-1', 'Judg-2', 'Judg-2', 'Judg-2', 'Judg-2', 'Judg-1', 'Judg-Heading-1', 'Judg-1', 'Judg-1', 'pagecontent', 'pagecontent', 'Judg-1', 'Judg-Heading-1', 'Judg-1', 'Judg-1', 'Judg-Quote-1', 'Judg-QuoteList-2', 'Judg-QuoteList-2', 'Judg-Quote-1', 'Judg-1', 'pagecontent', 'pagecontent', 'Judg-1', 'Judg-2', 'Judg-2', 'Judg-2', 'Judg-1', 'Judg-Heading-2', 'Judg-1', 'Judg-2-tblr', 'br', 'Table-Para-1', 'b', 'contentimg', 'r', 'Table-Para-1', '', 'contentimg', 'Judg-1', 'Judg-Heading-3', 'Judg-1', 'Judg-1', 'Judg-1', 'Judg-1', 'Judg-1', 'Judg-1', 'Judg-1', 'Judg-Heading-3', 'Judg-1', 'Judg-Heading-4', 'Judg-1', 'Judg-1', 'pagecontent', 'Judg-1', 'Judg-1', 'Judg-1', 'Judg-1', 'Judg-1', 'pagecontent', 'pagecontent', 'Judg-2', 'Judg-2', 'Judg-1', 'Judg-1', 'pagecontent', 'pagecontent', 'Judg-1', 'Judg-1', 'Judg-Heading-4', 'Judg-1', 'Judg-2', 'Judg-2', 'Judg-2', 'Judg-2', 'Judg-1', 'Judg-2', 'contentimg', 'Judg-2', 'Judg-2', 'Judg-2', 'contentimg', 'Judg-1', 'Judg-1', 'Judg-1', 'Judg-Heading-4', 'Judg-1', 'Judg-1', 'Judg-1', 'Judg-2', 'Judg-2', 'Judg-2', 'Judg-2', 'Judg-1', 'Judg-1', 'pagecontent', 'pagecontent', 'Judg-1', 'Judg-1', 'Judg-Quote-1', 'Judg-1', 'Judg-1', 'contentimg', 'Judg-1', 'Judg-2', 'Judg-2', 'Judg-2', 'Judg-1', 'Judg-Heading-5', 'Judg-1', 'Judg-1', 'Judg-1', 'Judg-Quote-1', 'Judg-Heading-5', 'Judg-1', 'pagecontent', 'Judg-1', 'Judg-Quote-1', 'Judg-1', 'Judg-Quote-1', 'Judg-1', 'Judg-1', 'Judg-1', 'Judg-Heading-4', 'Judg-1', 'Judg-2', 'Judg-2', 'Judg-1', 'pagecontent', 'pagecontent', 'Judg-1', 'Judg-1', 'Judg-1', 'Judg-1', 'Judg-Heading-4', 'Judg-1', 'Judg-1', 'Judg-1', 'Judg-1', 'Judg-1', 'Judg-1', 'Judg-1', 'Judg-1', 'Judg-Heading-2', 'Judg-1', 'Judg-1', 'Judg-1', 'Judg-2', 'Judg-2', 'Judg-2', 'Judg-1', 'Judg-2', 'Judg-2', 'Judg-2', 'Judg-Heading-3', 'Judg-Heading-4', 'Judg-1', 'Judg-1', 'Judg-1', 'Judg-1', 'Judg-1', 'pagecontent', 'pagecontent', 'Judg-1', 'Judg-1', 'Judg-1', 'Judg-1', 'Judg-1', 'Judg-1', 'Judg-1', 'pagecontent', 'Judg-Quote-1', 'Judg-1', 'Judg-1', 'Judg-1', 'Judg-1', 'Judg-1', 'Judg-1', 'Judg-Quote-1', 'Judg-QuoteList-2', 'Judg-QuoteList-2', 'Judg-Quote-1', 'Judg-1', 'Judg-1', 'pagecontent', 'pagecontent', 'Judg-1', 'Judg-2-tblr', 'b', 'Table-Heading-Center', 'br', 'Table-Heading-Center', 'b', 'Table-Heading-Center', 'br', 'Table-Para-1', 'b', 'Table-Para-1', 'br', 'Table-Para-1', 'b', 'Table-Para-1', 'br', 'Table-Para-1', 'b', 'Table-Para-1', 'br', 'Table-Para-1', 'b', 'Table-Para-1', 'br', 'Table-Para-1', 'b', 'Table-Para-1', 'r', 'Table-Para-1', '', 'Table-Para-1', 'Judg-Heading-4', 'Judg-1']\n"
     ]
    }
   ],
   "source": [
    "print(list_classes())"
   ]
  },
  {
   "cell_type": "code",
   "execution_count": 10,
   "metadata": {},
   "outputs": [],
   "source": [
    "def found_in_class(className, value):\n",
    "    lst = soup.find_all(class_=className)\n",
    "    return any(value in l.findAll(text=True) for l in lst)"
   ]
  },
  {
   "cell_type": "code",
   "execution_count": 11,
   "metadata": {},
   "outputs": [
    {
     "data": {
      "text/plain": [
       "False"
      ]
     },
     "execution_count": 11,
     "metadata": {},
     "output_type": "execute_result"
    }
   ],
   "source": [
    "className = 'Judg-Heading-1'\n",
    "value = 'Conclusion'\n",
    "found_in_class(className, value)"
   ]
  },
  {
   "cell_type": "code",
   "execution_count": 27,
   "metadata": {},
   "outputs": [],
   "source": [
    "def found_in_text(lst, value):\n",
    "    found = lst.index(value) if value in lst else None\n",
    "    if found:\n",
    "        return found\n",
    "    return None"
   ]
  },
  {
   "cell_type": "code",
   "execution_count": 43,
   "metadata": {},
   "outputs": [],
   "source": [
    "def clean_soup():\n",
    "    case = list(soup.get_text().split())\n",
    "    puncs = string.punctuation.translate({ord('('): None, ord(')'): None})\n",
    "    return list(filter(lambda x:  2 < len(x) <= 20 and not any(p in x for p in puncs), case))"
   ]
  },
  {
   "cell_type": "code",
   "execution_count": null,
   "metadata": {},
   "outputs": [],
   "source": [
    "def clean_text(lst):\n",
    "    puncs = string.punctuation.translate({ord('('): None, ord(')'): None})\n",
    "    return list(filter(lambda x:  2 < len(x) <= 20 and not any(p in x for p in puncs), lst))"
   ]
  },
  {
   "cell_type": "markdown",
   "metadata": {},
   "source": [
    "# A. Section of the law"
   ]
  },
  {
   "cell_type": "code",
   "execution_count": 42,
   "metadata": {},
   "outputs": [
    {
     "name": "stdout",
     "output_type": "stream",
     "text": [
      "Tribunal Appeal No 12 of 2015 29 March 2016 High Court  George Wei J   Prithipal Singh and Chow Jian Hong (Mirandah Law LLP) for the appellant; Melvin Pang (Amica Law LLC) for the respondent.   CAESARSTONE SDOT-YAM LTD — CERAMICHE CAESAR SpA  Evidence – Proof of evidence – Judicial notice – Applicant tendered Accounting and Corporate Regulatory Authority report showing number of entities whose names contained common denominator “Caesar” – Whether judicial notice should be taken of such fact Trade Marks and Trade Names – Registration criteria – Conflicts with earlier marks – Registration of trade mark opposed based on earlier trade mark – Whether trade mark similar – Whether likelihood of confusion arising – Whether trade mark well known – Sections 2(7), 2(8), 8(2)(b) and 8(4)(b)(i) Trade Marks Act (Cap 332, 2005 Rev Ed) \n"
     ]
    }
   ],
   "source": [
    "print(class_contents('txt-body'))"
   ]
  },
  {
   "cell_type": "markdown",
   "metadata": {},
   "source": [
    "# B. Conclusion exits?"
   ]
  },
  {
   "cell_type": "code",
   "execution_count": 30,
   "metadata": {},
   "outputs": [
    {
     "data": {
      "text/plain": [
       "False"
      ]
     },
     "execution_count": 30,
     "metadata": {},
     "output_type": "execute_result"
    }
   ],
   "source": [
    "className = 'Judg-Heading-1'\n",
    "value = 'Conclusion'\n",
    "found_in_class(className, value)"
   ]
  },
  {
   "cell_type": "markdown",
   "metadata": {},
   "source": [
    "# Clean the text"
   ]
  },
  {
   "cell_type": "code",
   "execution_count": 45,
   "metadata": {},
   "outputs": [
    {
     "name": "stdout",
     "output_type": "stream",
     "text": [
      "14151\n"
     ]
    }
   ],
   "source": [
    "# get all the text from the html\n",
    "case = list(soup.get_text().split())\n",
    "print(len(case))"
   ]
  },
  {
   "cell_type": "code",
   "execution_count": 46,
   "metadata": {},
   "outputs": [
    {
     "name": "stdout",
     "output_type": "stream",
     "text": [
      "9506\n"
     ]
    }
   ],
   "source": [
    "case = clean_soup()\n",
    "print(len(case))"
   ]
  },
  {
   "cell_type": "code",
   "execution_count": 47,
   "metadata": {},
   "outputs": [],
   "source": [
    "# Find the last 'Conclustion' index\n",
    "lst = case[::-1]\n",
    "value = 'Conclustion'\n",
    "idx = found_in_text(lst, value)\n",
    "if idx:  \n",
    "    print(lst[-idx::])"
   ]
  }
 ],
 "metadata": {
  "kernelspec": {
   "display_name": "Python 3",
   "language": "python",
   "name": "python3"
  },
  "language_info": {
   "codemirror_mode": {
    "name": "ipython",
    "version": 3
   },
   "file_extension": ".py",
   "mimetype": "text/x-python",
   "name": "python",
   "nbconvert_exporter": "python",
   "pygments_lexer": "ipython3",
   "version": "3.7.1"
  }
 },
 "nbformat": 4,
 "nbformat_minor": 2
}
