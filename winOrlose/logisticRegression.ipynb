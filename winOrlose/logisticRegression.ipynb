{
 "cells": [
  {
   "cell_type": "code",
   "execution_count": 1,
   "metadata": {},
   "outputs": [],
   "source": [
    "%matplotlib inline"
   ]
  },
  {
   "cell_type": "code",
   "execution_count": 2,
   "metadata": {},
   "outputs": [],
   "source": [
    "import numpy as np\n",
    "# import seaborn as sns\n",
    "import pandas as pd\n",
    "import matplotlib.pyplot as plt\n",
    "import tensorflow as tf"
   ]
  },
  {
   "cell_type": "code",
   "execution_count": 3,
   "metadata": {},
   "outputs": [],
   "source": [
    "iris = pd.read_csv('data.csv')"
   ]
  },
  {
   "cell_type": "code",
   "execution_count": 4,
   "metadata": {},
   "outputs": [
    {
     "data": {
      "text/plain": [
       "(429, 7)"
      ]
     },
     "execution_count": 4,
     "metadata": {},
     "output_type": "execute_result"
    }
   ],
   "source": [
    "iris.shape"
   ]
  },
  {
   "cell_type": "code",
   "execution_count": 10,
   "metadata": {},
   "outputs": [
    {
     "data": {
      "text/html": [
       "<div>\n",
       "<style scoped>\n",
       "    .dataframe tbody tr th:only-of-type {\n",
       "        vertical-align: middle;\n",
       "    }\n",
       "\n",
       "    .dataframe tbody tr th {\n",
       "        vertical-align: top;\n",
       "    }\n",
       "\n",
       "    .dataframe thead th {\n",
       "        text-align: right;\n",
       "    }\n",
       "</style>\n",
       "<table border=\"1\" class=\"dataframe\">\n",
       "  <thead>\n",
       "    <tr style=\"text-align: right;\">\n",
       "      <th></th>\n",
       "      <th>MarksSimilarity</th>\n",
       "      <th>VisualSimilarity</th>\n",
       "      <th>AuralSimilarity</th>\n",
       "      <th>ConceptualSimilarity</th>\n",
       "      <th>G&amp;SSimilarity</th>\n",
       "      <th>LikelyhoodOfConfusion</th>\n",
       "      <th>WinOrLose</th>\n",
       "    </tr>\n",
       "  </thead>\n",
       "  <tbody>\n",
       "    <tr>\n",
       "      <th>214</th>\n",
       "      <td>5.453301</td>\n",
       "      <td>6.000000</td>\n",
       "      <td>2.00000</td>\n",
       "      <td>2.0</td>\n",
       "      <td>-1.00000</td>\n",
       "      <td>2.0</td>\n",
       "      <td>0</td>\n",
       "    </tr>\n",
       "    <tr>\n",
       "      <th>271</th>\n",
       "      <td>3.000000</td>\n",
       "      <td>3.000000</td>\n",
       "      <td>3.87839</td>\n",
       "      <td>3.0</td>\n",
       "      <td>-1.00000</td>\n",
       "      <td>-1.0</td>\n",
       "      <td>0</td>\n",
       "    </tr>\n",
       "    <tr>\n",
       "      <th>269</th>\n",
       "      <td>5.000000</td>\n",
       "      <td>7.796106</td>\n",
       "      <td>3.00000</td>\n",
       "      <td>4.0</td>\n",
       "      <td>7.00000</td>\n",
       "      <td>2.0</td>\n",
       "      <td>0</td>\n",
       "    </tr>\n",
       "    <tr>\n",
       "      <th>268</th>\n",
       "      <td>2.000000</td>\n",
       "      <td>3.000000</td>\n",
       "      <td>2.00000</td>\n",
       "      <td>2.0</td>\n",
       "      <td>-0.38164</td>\n",
       "      <td>-1.0</td>\n",
       "      <td>0</td>\n",
       "    </tr>\n",
       "    <tr>\n",
       "      <th>267</th>\n",
       "      <td>3.705031</td>\n",
       "      <td>5.000000</td>\n",
       "      <td>6.00000</td>\n",
       "      <td>2.0</td>\n",
       "      <td>6.00000</td>\n",
       "      <td>2.0</td>\n",
       "      <td>0</td>\n",
       "    </tr>\n",
       "  </tbody>\n",
       "</table>\n",
       "</div>"
      ],
      "text/plain": [
       "     MarksSimilarity  VisualSimilarity  AuralSimilarity  ConceptualSimilarity  \\\n",
       "214         5.453301          6.000000          2.00000                   2.0   \n",
       "271         3.000000          3.000000          3.87839                   3.0   \n",
       "269         5.000000          7.796106          3.00000                   4.0   \n",
       "268         2.000000          3.000000          2.00000                   2.0   \n",
       "267         3.705031          5.000000          6.00000                   2.0   \n",
       "\n",
       "     G&SSimilarity  LikelyhoodOfConfusion  WinOrLose  \n",
       "214       -1.00000                    2.0          0  \n",
       "271       -1.00000                   -1.0          0  \n",
       "269        7.00000                    2.0          0  \n",
       "268       -0.38164                   -1.0          0  \n",
       "267        6.00000                    2.0          0  "
      ]
     },
     "execution_count": 10,
     "metadata": {},
     "output_type": "execute_result"
    }
   ],
   "source": [
    "iris.head()"
   ]
  },
  {
   "cell_type": "code",
   "execution_count": 11,
   "metadata": {},
   "outputs": [],
   "source": [
    "iris = iris.sort_values(by=['WinOrLose'])"
   ]
  },
  {
   "cell_type": "code",
   "execution_count": 12,
   "metadata": {},
   "outputs": [
    {
     "data": {
      "text/html": [
       "<div>\n",
       "<style scoped>\n",
       "    .dataframe tbody tr th:only-of-type {\n",
       "        vertical-align: middle;\n",
       "    }\n",
       "\n",
       "    .dataframe tbody tr th {\n",
       "        vertical-align: top;\n",
       "    }\n",
       "\n",
       "    .dataframe thead th {\n",
       "        text-align: right;\n",
       "    }\n",
       "</style>\n",
       "<table border=\"1\" class=\"dataframe\">\n",
       "  <thead>\n",
       "    <tr style=\"text-align: right;\">\n",
       "      <th></th>\n",
       "      <th>MarksSimilarity</th>\n",
       "      <th>VisualSimilarity</th>\n",
       "      <th>AuralSimilarity</th>\n",
       "      <th>ConceptualSimilarity</th>\n",
       "      <th>G&amp;SSimilarity</th>\n",
       "      <th>LikelyhoodOfConfusion</th>\n",
       "      <th>WinOrLose</th>\n",
       "    </tr>\n",
       "  </thead>\n",
       "  <tbody>\n",
       "    <tr>\n",
       "      <th>214</th>\n",
       "      <td>5.453301</td>\n",
       "      <td>6.00000</td>\n",
       "      <td>2.000000</td>\n",
       "      <td>2.0</td>\n",
       "      <td>-1.0</td>\n",
       "      <td>2.0</td>\n",
       "      <td>0</td>\n",
       "    </tr>\n",
       "    <tr>\n",
       "      <th>35</th>\n",
       "      <td>5.000000</td>\n",
       "      <td>7.00000</td>\n",
       "      <td>3.000000</td>\n",
       "      <td>4.0</td>\n",
       "      <td>7.0</td>\n",
       "      <td>2.0</td>\n",
       "      <td>0</td>\n",
       "    </tr>\n",
       "    <tr>\n",
       "      <th>106</th>\n",
       "      <td>3.000000</td>\n",
       "      <td>3.00000</td>\n",
       "      <td>3.897844</td>\n",
       "      <td>3.0</td>\n",
       "      <td>-1.0</td>\n",
       "      <td>-1.0</td>\n",
       "      <td>0</td>\n",
       "    </tr>\n",
       "    <tr>\n",
       "      <th>107</th>\n",
       "      <td>3.808114</td>\n",
       "      <td>3.00000</td>\n",
       "      <td>5.000000</td>\n",
       "      <td>3.0</td>\n",
       "      <td>9.0</td>\n",
       "      <td>3.0</td>\n",
       "      <td>0</td>\n",
       "    </tr>\n",
       "    <tr>\n",
       "      <th>70</th>\n",
       "      <td>3.000000</td>\n",
       "      <td>3.04865</td>\n",
       "      <td>3.000000</td>\n",
       "      <td>3.0</td>\n",
       "      <td>8.0</td>\n",
       "      <td>3.0</td>\n",
       "      <td>0</td>\n",
       "    </tr>\n",
       "  </tbody>\n",
       "</table>\n",
       "</div>"
      ],
      "text/plain": [
       "     MarksSimilarity  VisualSimilarity  AuralSimilarity  ConceptualSimilarity  \\\n",
       "214         5.453301           6.00000         2.000000                   2.0   \n",
       "35          5.000000           7.00000         3.000000                   4.0   \n",
       "106         3.000000           3.00000         3.897844                   3.0   \n",
       "107         3.808114           3.00000         5.000000                   3.0   \n",
       "70          3.000000           3.04865         3.000000                   3.0   \n",
       "\n",
       "     G&SSimilarity  LikelyhoodOfConfusion  WinOrLose  \n",
       "214           -1.0                    2.0          0  \n",
       "35             7.0                    2.0          0  \n",
       "106           -1.0                   -1.0          0  \n",
       "107            9.0                    3.0          0  \n",
       "70             8.0                    3.0          0  "
      ]
     },
     "execution_count": 12,
     "metadata": {},
     "output_type": "execute_result"
    }
   ],
   "source": [
    "iris.head()"
   ]
  },
  {
   "cell_type": "code",
   "execution_count": 14,
   "metadata": {},
   "outputs": [
    {
     "data": {
      "text/plain": [
       "<matplotlib.legend.Legend at 0xb31c5a6d8>"
      ]
     },
     "execution_count": 14,
     "metadata": {},
     "output_type": "execute_result"
    },
    {
     "data": {
      "image/png": "[encoded data removed]",
      "text/plain": [
       "<Figure size 432x288 with 1 Axes>"
      ]
     },
     "metadata": {
      "needs_background": "light"
     },
     "output_type": "display_data"
    }
   ],
   "source": [
    "plt.scatter(iris[:60].MarksSimilarity, iris[:60].AuralSimilarity, label='Lose')\n",
    "plt.scatter(iris[-60:].MarksSimilarity, iris[-60:].AuralSimilarity, label='Win')\n",
    "plt.xlabel('Marks Similarity')\n",
    "plt.ylabel('Visual Similarity')\n",
    "plt.legend(loc='best')"
   ]
  },
  {
   "cell_type": "code",
   "execution_count": 15,
   "metadata": {},
   "outputs": [],
   "source": [
    "X = iris.drop(labels=['WinOrLose'], axis=1).values\n",
    "Y = iris.WinOrLose.values"
   ]
  },
  {
   "cell_type": "code",
   "execution_count": 16,
   "metadata": {},
   "outputs": [],
   "source": [
    "# set seed for numpy and tensorflow\n",
    "# set for reproducible results\n",
    "seed = 5\n",
    "np.random.seed(seed)\n",
    "tf.set_random_seed(seed)"
   ]
  },
  {
   "cell_type": "code",
   "execution_count": 17,
   "metadata": {},
   "outputs": [],
   "source": [
    "# set replace=False, Avoid double sampling\n",
    "trainIndex = np.random.choice(len(X), round(len(X) * 0.8), replace=False)"
   ]
  },
  {
   "cell_type": "code",
   "execution_count": 18,
   "metadata": {},
   "outputs": [],
   "source": [
    "# diff set\n",
    "testIndex = np.array(list(set(range(len(X))) - set(trainIndex)))\n",
    "trainX = X[trainIndex]\n",
    "trainY = Y[trainIndex]\n",
    "testX = X[testIndex]\n",
    "testY = Y[testIndex]"
   ]
  },
  {
   "cell_type": "code",
   "execution_count": 19,
   "metadata": {},
   "outputs": [],
   "source": [
    "# Use the min max normalization to map the the X \n",
    "def min_max_normalized(data):\n",
    "    colMax = np.max(data, axis=0)\n",
    "    colMin = np.min(data, axis=0)\n",
    "    return np.divide(data - colMin, colMax - colMin)"
   ]
  },
  {
   "cell_type": "code",
   "execution_count": 20,
   "metadata": {},
   "outputs": [],
   "source": [
    "# Normalized processing, must be placed after the data set segmentation, \n",
    "# otherwise the test set will be affected by the training set\n",
    "trainX = min_max_normalized(trainX)\n",
    "testX = min_max_normalized(testX)"
   ]
  },
  {
   "cell_type": "code",
   "execution_count": 21,
   "metadata": {},
   "outputs": [],
   "source": [
    "# Begin building the model framework\n",
    "# Declare the variables that need to be learned and initialization\n",
    "# There are 6 features here, A's dimension is (6, 1)\n",
    "W = tf.Variable(tf.random_normal(shape=[6, 1]), name='W')\n",
    "b = tf.Variable(tf.random_normal(shape=[1, 1]), name= 'b')\n",
    "init = tf.global_variables_initializer()\n",
    "sess = tf.Session()\n",
    "sess.run(init)"
   ]
  },
  {
   "cell_type": "code",
   "execution_count": 22,
   "metadata": {},
   "outputs": [],
   "source": [
    "# Define placeholders\n",
    "data = tf.placeholder(dtype=tf.float32, shape=[None, 6])\n",
    "target = tf.placeholder(dtype=tf.float32, shape=[None, 1])"
   ]
  },
  {
   "cell_type": "code",
   "execution_count": 23,
   "metadata": {},
   "outputs": [],
   "source": [
    "# Declare the model you need to learn\n",
    "model = tf.matmul(data, W) + b"
   ]
  },
  {
   "cell_type": "code",
   "execution_count": 25,
   "metadata": {},
   "outputs": [],
   "source": [
    "# Declare loss function\n",
    "# Use the sigmoid cross-entropy loss function,\n",
    "# first doing a sigmoid on the model result and then using the cross-entropy loss function\n",
    "loss = tf.reduce_mean(tf.nn.sigmoid_cross_entropy_with_logits(logits=model, labels=target))"
   ]
  },
  {
   "cell_type": "code",
   "execution_count": 34,
   "metadata": {},
   "outputs": [],
   "source": [
    "# Define the learning rate， batch_size etc.\n",
    "learning_rate = 0.003\n",
    "batch_size = 40\n",
    "iter_num = 10000"
   ]
  },
  {
   "cell_type": "code",
   "execution_count": 35,
   "metadata": {},
   "outputs": [],
   "source": [
    "# Define the optimizer\n",
    "optimizer = tf.train.GradientDescentOptimizer(learning_rate)"
   ]
  },
  {
   "cell_type": "code",
   "execution_count": 36,
   "metadata": {},
   "outputs": [],
   "source": [
    "# Define the goal\n",
    "goal = optimizer.minimize(loss)"
   ]
  },
  {
   "cell_type": "code",
   "execution_count": 37,
   "metadata": {},
   "outputs": [],
   "source": [
    "# Define the accuracy\n",
    "# The default threshold is 0.5, rounded off directly\n",
    "prediction = tf.round(tf.sigmoid(model))\n",
    "# Bool into float32 type\n",
    "correct = tf.cast(tf.equal(prediction, target), dtype=tf.float32)\n",
    "# Average\n",
    "accuracy = tf.reduce_mean(correct)\n",
    "# End of the definition of the model framework"
   ]
  },
  {
   "cell_type": "code",
   "execution_count": 38,
   "metadata": {},
   "outputs": [],
   "source": [
    "# Start training model\n",
    "# Define the variable that stores the result\n",
    "loss_trace = []\n",
    "train_acc = []\n",
    "test_acc = []"
   ]
  },
  {
   "cell_type": "code",
   "execution_count": 40,
   "metadata": {},
   "outputs": [
    {
     "name": "stdout",
     "output_type": "stream",
     "text": [
      "epoch:  300 loss: 0.276343 train_acc: 0.970845 test_acc: 1.000000\n",
      "epoch:  600 loss: 0.245467 train_acc: 0.970845 test_acc: 1.000000\n",
      "epoch:  900 loss: 0.247965 train_acc: 0.970845 test_acc: 1.000000\n",
      "epoch: 1200 loss: 0.268628 train_acc: 0.970845 test_acc: 1.000000\n",
      "epoch: 1500 loss: 0.189013 train_acc: 0.970845 test_acc: 1.000000\n",
      "epoch: 1800 loss: 0.210357 train_acc: 0.970845 test_acc: 1.000000\n",
      "epoch: 2100 loss: 0.237493 train_acc: 0.970845 test_acc: 1.000000\n",
      "epoch: 2400 loss: 0.248726 train_acc: 0.970845 test_acc: 1.000000\n",
      "epoch: 2700 loss: 0.197871 train_acc: 0.970845 test_acc: 1.000000\n",
      "epoch: 3000 loss: 0.192025 train_acc: 0.970845 test_acc: 1.000000\n",
      "epoch: 3300 loss: 0.222964 train_acc: 0.970845 test_acc: 1.000000\n",
      "epoch: 3600 loss: 0.188766 train_acc: 0.970845 test_acc: 1.000000\n",
      "epoch: 3900 loss: 0.189701 train_acc: 0.970845 test_acc: 1.000000\n",
      "epoch: 4200 loss: 0.163149 train_acc: 0.973761 test_acc: 1.000000\n",
      "epoch: 4500 loss: 0.267905 train_acc: 0.973761 test_acc: 1.000000\n",
      "epoch: 4800 loss: 0.237348 train_acc: 0.973761 test_acc: 1.000000\n",
      "epoch: 5100 loss: 0.188981 train_acc: 0.982507 test_acc: 1.000000\n",
      "epoch: 5400 loss: 0.217083 train_acc: 0.982507 test_acc: 1.000000\n",
      "epoch: 5700 loss: 0.174574 train_acc: 0.982507 test_acc: 1.000000\n",
      "epoch: 6000 loss: 0.262089 train_acc: 0.982507 test_acc: 1.000000\n",
      "epoch: 6300 loss: 0.193795 train_acc: 0.982507 test_acc: 1.000000\n",
      "epoch: 6600 loss: 0.208489 train_acc: 0.985423 test_acc: 1.000000\n",
      "epoch: 6900 loss: 0.162054 train_acc: 0.985423 test_acc: 1.000000\n",
      "epoch: 7200 loss: 0.199410 train_acc: 0.991254 test_acc: 1.000000\n",
      "epoch: 7500 loss: 0.214423 train_acc: 0.994169 test_acc: 1.000000\n",
      "epoch: 7800 loss: 0.142143 train_acc: 0.994169 test_acc: 1.000000\n",
      "epoch: 8100 loss: 0.228594 train_acc: 0.997085 test_acc: 1.000000\n",
      "epoch: 8400 loss: 0.178041 train_acc: 1.000000 test_acc: 1.000000\n",
      "epoch: 8700 loss: 0.166718 train_acc: 1.000000 test_acc: 1.000000\n",
      "epoch: 9000 loss: 0.184932 train_acc: 1.000000 test_acc: 1.000000\n",
      "epoch: 9300 loss: 0.161241 train_acc: 1.000000 test_acc: 1.000000\n",
      "epoch: 9600 loss: 0.149640 train_acc: 1.000000 test_acc: 1.000000\n",
      "epoch: 9900 loss: 0.166728 train_acc: 1.000000 test_acc: 1.000000\n"
     ]
    }
   ],
   "source": [
    "# training model\n",
    "for epoch in range(iter_num):\n",
    "    # Generate random batch index\n",
    "    batchIndex = np.random.choice(len(trainX), size=batch_size)\n",
    "    batchTrainX = trainX[batchIndex]\n",
    "    batchTrainY = np.matrix(trainY[batchIndex]).T\n",
    "    sess.run(goal, feed_dict={data: batchTrainX, target: batchTrainY})\n",
    "    temp_loss = sess.run(loss, feed_dict={data: batchTrainX, target: batchTrainY})\n",
    "    # convert into a matrix, and the shape of the placeholder to correspond\n",
    "    temp_train_acc = sess.run(accuracy, feed_dict={data: trainX, target: np.matrix(trainY).T})\n",
    "    temp_test_acc = sess.run(accuracy, feed_dict={data: testX, target: np.matrix(testY).T})\n",
    "    # recode the result\n",
    "    loss_trace.append(temp_loss)\n",
    "    train_acc.append(temp_train_acc)\n",
    "    test_acc.append(temp_test_acc)\n",
    "    # output\n",
    "    if (epoch + 1) % 300 == 0:\n",
    "        print('epoch: {:4d} loss: {:5f} train_acc: {:5f} test_acc: {:5f}'.format(epoch + 1, temp_loss,\n",
    "                                                                          temp_train_acc, temp_test_acc))"
   ]
  },
  {
   "cell_type": "code",
   "execution_count": 41,
   "metadata": {},
   "outputs": [
    {
     "data": {
      "image/png": "[encoded data removed]",
      "text/plain": [
       "<Figure size 432x288 with 1 Axes>"
      ]
     },
     "metadata": {
      "needs_background": "light"
     },
     "output_type": "display_data"
    }
   ],
   "source": [
    "# Visualization of the results\n",
    "# loss function\n",
    "plt.plot(loss_trace)\n",
    "plt.title('Cross Entropy Loss')\n",
    "plt.xlabel('epoch')\n",
    "plt.ylabel('loss')\n",
    "plt.show()"
   ]
  },
  {
   "cell_type": "code",
   "execution_count": 42,
   "metadata": {},
   "outputs": [
    {
     "data": {
      "image/png": "[encoded data removed]",
      "text/plain": [
       "<Figure size 432x288 with 1 Axes>"
      ]
     },
     "metadata": {
      "needs_background": "light"
     },
     "output_type": "display_data"
    }
   ],
   "source": [
    "# accuracy\n",
    "plt.plot(train_acc, 'b-', label='train accuracy')\n",
    "plt.plot(test_acc, 'k-', label='test accuracy')\n",
    "plt.xlabel('epoch')\n",
    "plt.ylabel('accuracy')\n",
    "plt.title('Train and Test Accuracy')\n",
    "plt.legend(loc='best')\n",
    "plt.show()"
   ]
  },
  {
   "cell_type": "code",
   "execution_count": 43,
   "metadata": {},
   "outputs": [],
   "source": [
    "# vars = tf.trainable_variables()\n",
    "# vars_vals = sess.run(vars)\n",
    "# for var, val in zip(vars, vars_vals):\n",
    "#    print(\"var: {}, value: {}\".format(var.name, val))"
   ]
  },
  {
   "cell_type": "code",
   "execution_count": null,
   "metadata": {},
   "outputs": [],
   "source": [
    "sess.run(W)"
   ]
  },
  {
   "cell_type": "code",
   "execution_count": null,
   "metadata": {},
   "outputs": [],
   "source": [
    "sess.run(b)"
   ]
  }
 ],
 "metadata": {
  "kernelspec": {
   "display_name": "Python 3",
   "language": "python",
   "name": "python3"
  },
  "language_info": {
   "codemirror_mode": {
    "name": "ipython",
    "version": 3
   },
   "file_extension": ".py",
   "mimetype": "text/x-python",
   "name": "python",
   "nbconvert_exporter": "python",
   "pygments_lexer": "ipython3",
   "version": "3.6.8"
  }
 },
 "nbformat": 4,
 "nbformat_minor": 2
}
