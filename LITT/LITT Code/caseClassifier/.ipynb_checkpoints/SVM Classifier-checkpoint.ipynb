{
 "cells": [
  {
   "cell_type": "code",
   "execution_count": 1,
   "metadata": {},
   "outputs": [],
   "source": [
    "%matplotlib inline"
   ]
  },
  {
   "cell_type": "code",
   "execution_count": 2,
   "metadata": {},
   "outputs": [],
   "source": [
    "import numpy as np\n",
    "import pandas as pd\n",
    "import matplotlib.pyplot as plt\n",
    "import tensorflow as tf"
   ]
  },
  {
   "cell_type": "code",
   "execution_count": 3,
   "metadata": {},
   "outputs": [],
   "source": [
    "df = pd.read_csv('data.csv')"
   ]
  },
  {
   "cell_type": "code",
   "execution_count": 4,
   "metadata": {},
   "outputs": [
    {
     "data": {
      "text/plain": [
       "(101, 26)"
      ]
     },
     "execution_count": 4,
     "metadata": {},
     "output_type": "execute_result"
    }
   ],
   "source": [
    "df.shape"
   ]
  },
  {
   "cell_type": "code",
   "execution_count": 5,
   "metadata": {},
   "outputs": [],
   "source": [
    "df = df.sort_values(by=['Label'])"
   ]
  },
  {
   "cell_type": "code",
   "execution_count": 6,
   "metadata": {},
   "outputs": [
    {
     "data": {
      "text/html": [
       "<div>\n",
       "<style scoped>\n",
       "    .dataframe tbody tr th:only-of-type {\n",
       "        vertical-align: middle;\n",
       "    }\n",
       "\n",
       "    .dataframe tbody tr th {\n",
       "        vertical-align: top;\n",
       "    }\n",
       "\n",
       "    .dataframe thead th {\n",
       "        text-align: right;\n",
       "    }\n",
       "</style>\n",
       "<table border=\"1\" class=\"dataframe\">\n",
       "  <thead>\n",
       "    <tr style=\"text-align: right;\">\n",
       "      <th></th>\n",
       "      <th># likelyhood</th>\n",
       "      <th>breach</th>\n",
       "      <th>trade</th>\n",
       "      <th>evidence</th>\n",
       "      <th>property</th>\n",
       "      <th>public</th>\n",
       "      <th>opponents</th>\n",
       "      <th>constitution</th>\n",
       "      <th>fiduciary</th>\n",
       "      <th>confusion</th>\n",
       "      <th>...</th>\n",
       "      <th>constitutional</th>\n",
       "      <th>unregistered</th>\n",
       "      <th>contract</th>\n",
       "      <th>drugs</th>\n",
       "      <th>proprietor</th>\n",
       "      <th>similar</th>\n",
       "      <th>penalty</th>\n",
       "      <th>company</th>\n",
       "      <th>criminal</th>\n",
       "      <th>Label</th>\n",
       "    </tr>\n",
       "  </thead>\n",
       "  <tbody>\n",
       "    <tr>\n",
       "      <th>100</th>\n",
       "      <td>0</td>\n",
       "      <td>2</td>\n",
       "      <td>0</td>\n",
       "      <td>0</td>\n",
       "      <td>0</td>\n",
       "      <td>0</td>\n",
       "      <td>0</td>\n",
       "      <td>0</td>\n",
       "      <td>2</td>\n",
       "      <td>0</td>\n",
       "      <td>...</td>\n",
       "      <td>0</td>\n",
       "      <td>0</td>\n",
       "      <td>0</td>\n",
       "      <td>0</td>\n",
       "      <td>0</td>\n",
       "      <td>0</td>\n",
       "      <td>0</td>\n",
       "      <td>0</td>\n",
       "      <td>0</td>\n",
       "      <td>-1</td>\n",
       "    </tr>\n",
       "    <tr>\n",
       "      <th>72</th>\n",
       "      <td>0</td>\n",
       "      <td>0</td>\n",
       "      <td>0</td>\n",
       "      <td>0</td>\n",
       "      <td>0</td>\n",
       "      <td>0</td>\n",
       "      <td>0</td>\n",
       "      <td>0</td>\n",
       "      <td>0</td>\n",
       "      <td>0</td>\n",
       "      <td>...</td>\n",
       "      <td>0</td>\n",
       "      <td>0</td>\n",
       "      <td>1</td>\n",
       "      <td>0</td>\n",
       "      <td>0</td>\n",
       "      <td>0</td>\n",
       "      <td>0</td>\n",
       "      <td>0</td>\n",
       "      <td>0</td>\n",
       "      <td>-1</td>\n",
       "    </tr>\n",
       "    <tr>\n",
       "      <th>71</th>\n",
       "      <td>0</td>\n",
       "      <td>0</td>\n",
       "      <td>0</td>\n",
       "      <td>0</td>\n",
       "      <td>0</td>\n",
       "      <td>0</td>\n",
       "      <td>0</td>\n",
       "      <td>0</td>\n",
       "      <td>0</td>\n",
       "      <td>0</td>\n",
       "      <td>...</td>\n",
       "      <td>0</td>\n",
       "      <td>0</td>\n",
       "      <td>3</td>\n",
       "      <td>0</td>\n",
       "      <td>0</td>\n",
       "      <td>0</td>\n",
       "      <td>0</td>\n",
       "      <td>0</td>\n",
       "      <td>0</td>\n",
       "      <td>-1</td>\n",
       "    </tr>\n",
       "    <tr>\n",
       "      <th>70</th>\n",
       "      <td>0</td>\n",
       "      <td>2</td>\n",
       "      <td>0</td>\n",
       "      <td>0</td>\n",
       "      <td>0</td>\n",
       "      <td>0</td>\n",
       "      <td>0</td>\n",
       "      <td>0</td>\n",
       "      <td>3</td>\n",
       "      <td>0</td>\n",
       "      <td>...</td>\n",
       "      <td>0</td>\n",
       "      <td>0</td>\n",
       "      <td>0</td>\n",
       "      <td>0</td>\n",
       "      <td>0</td>\n",
       "      <td>0</td>\n",
       "      <td>0</td>\n",
       "      <td>2</td>\n",
       "      <td>0</td>\n",
       "      <td>-1</td>\n",
       "    </tr>\n",
       "    <tr>\n",
       "      <th>69</th>\n",
       "      <td>0</td>\n",
       "      <td>0</td>\n",
       "      <td>0</td>\n",
       "      <td>0</td>\n",
       "      <td>0</td>\n",
       "      <td>3</td>\n",
       "      <td>0</td>\n",
       "      <td>0</td>\n",
       "      <td>0</td>\n",
       "      <td>0</td>\n",
       "      <td>...</td>\n",
       "      <td>0</td>\n",
       "      <td>0</td>\n",
       "      <td>0</td>\n",
       "      <td>0</td>\n",
       "      <td>0</td>\n",
       "      <td>0</td>\n",
       "      <td>0</td>\n",
       "      <td>0</td>\n",
       "      <td>3</td>\n",
       "      <td>-1</td>\n",
       "    </tr>\n",
       "  </tbody>\n",
       "</table>\n",
       "<p>5 rows × 26 columns</p>\n",
       "</div>"
      ],
      "text/plain": [
       "     # likelyhood  breach  trade  evidence  property  public  opponents  \\\n",
       "100             0       2      0         0         0       0          0   \n",
       "72              0       0      0         0         0       0          0   \n",
       "71              0       0      0         0         0       0          0   \n",
       "70              0       2      0         0         0       0          0   \n",
       "69              0       0      0         0         0       3          0   \n",
       "\n",
       "     constitution  fiduciary  confusion  ...  constitutional  unregistered  \\\n",
       "100             0          2          0  ...               0             0   \n",
       "72              0          0          0  ...               0             0   \n",
       "71              0          0          0  ...               0             0   \n",
       "70              0          3          0  ...               0             0   \n",
       "69              0          0          0  ...               0             0   \n",
       "\n",
       "     contract  drugs  proprietor  similar  penalty  company  criminal  Label  \n",
       "100         0      0           0        0        0        0         0     -1  \n",
       "72          1      0           0        0        0        0         0     -1  \n",
       "71          3      0           0        0        0        0         0     -1  \n",
       "70          0      0           0        0        0        2         0     -1  \n",
       "69          0      0           0        0        0        0         3     -1  \n",
       "\n",
       "[5 rows x 26 columns]"
      ]
     },
     "execution_count": 6,
     "metadata": {},
     "output_type": "execute_result"
    }
   ],
   "source": [
    "df.head()"
   ]
  },
  {
   "cell_type": "code",
   "execution_count": 7,
   "metadata": {},
   "outputs": [
    {
     "data": {
      "text/plain": [
       "<matplotlib.legend.Legend at 0xb27e41ac8>"
      ]
     },
     "execution_count": 7,
     "metadata": {},
     "output_type": "execute_result"
    },
    {
     "data": {
      "image/png": "[encoded data removed]",
      "text/plain": [
       "<Figure size 432x288 with 1 Axes>"
      ]
     },
     "metadata": {
      "needs_background": "light"
     },
     "output_type": "display_data"
    }
   ],
   "source": [
    "plt.scatter(df[:50].trade, df[:50].constitution, label='Non-Trade mark')\n",
    "plt.scatter(df[50:].trade, df[50:].constitution, label='Trade Mark')\n",
    "plt.xlabel('trade')\n",
    "plt.ylabel('constitution')\n",
    "plt.legend(loc='best')"
   ]
  },
  {
   "cell_type": "code",
   "execution_count": 8,
   "metadata": {},
   "outputs": [],
   "source": [
    "X = df.drop(labels=['Label'], axis=1).values\n",
    "Y = df.Label.values"
   ]
  },
  {
   "cell_type": "code",
   "execution_count": 9,
   "metadata": {},
   "outputs": [],
   "source": [
    "seed = 5\n",
    "np.random.seed(seed)\n",
    "tf.set_random_seed(seed)"
   ]
  },
  {
   "cell_type": "code",
   "execution_count": 10,
   "metadata": {},
   "outputs": [],
   "source": [
    "trainIndex = np.random.choice(len(X), round(len(X) * 0.8), replace=False)"
   ]
  },
  {
   "cell_type": "code",
   "execution_count": 11,
   "metadata": {},
   "outputs": [],
   "source": [
    "testIndex = np.array(list(set(range(len(X))) - set(trainIndex)))\n",
    "trainX = X[trainIndex]\n",
    "trainY = Y[trainIndex]\n",
    "testX = X[testIndex]\n",
    "testY = Y[testIndex]"
   ]
  },
  {
   "cell_type": "code",
   "execution_count": 12,
   "metadata": {},
   "outputs": [],
   "source": [
    "W = tf.Variable(tf.random_normal(shape=[25, 1]), name='W')\n",
    "b = tf.Variable(tf.random_normal(shape=[1, 1]), name= 'b')\n",
    "init = tf.global_variables_initializer()"
   ]
  },
  {
   "cell_type": "code",
   "execution_count": 13,
   "metadata": {},
   "outputs": [],
   "source": [
    "data = tf.placeholder(dtype=tf.float32, shape=[None, 25])\n",
    "target = tf.placeholder(dtype=tf.float32, shape=[None, 1])"
   ]
  },
  {
   "cell_type": "code",
   "execution_count": 14,
   "metadata": {},
   "outputs": [],
   "source": [
    "model = tf.matmul(data, W) + b"
   ]
  },
  {
   "cell_type": "code",
   "execution_count": 15,
   "metadata": {},
   "outputs": [],
   "source": [
    "# l2 norm\n",
    "l2_norm = tf.reduce_sum(tf.square(W))"
   ]
  },
  {
   "cell_type": "code",
   "execution_count": 16,
   "metadata": {},
   "outputs": [],
   "source": [
    "# loss function\n",
    "alpha = tf.constant([0.01])\n",
    "# margin term in loss\n",
    "classification_term = tf.reduce_mean(tf.maximum(0., tf.subtract(1., tf.multiply(model, target))))\n",
    "# loss\n",
    "loss = tf.add(classification_term, tf.multiply(alpha, l2_norm))"
   ]
  },
  {
   "cell_type": "code",
   "execution_count": 17,
   "metadata": {},
   "outputs": [],
   "source": [
    "prediction = tf.sign(model)\n",
    "accuracy = tf.reduce_mean(tf.cast(tf.equal(prediction, target), tf.float32))"
   ]
  },
  {
   "cell_type": "code",
   "execution_count": 18,
   "metadata": {},
   "outputs": [],
   "source": [
    "optimizer = tf.train.GradientDescentOptimizer(0.01)\n",
    "goal = optimizer.minimize(loss)"
   ]
  },
  {
   "cell_type": "code",
   "execution_count": 19,
   "metadata": {},
   "outputs": [],
   "source": [
    "batch_size = 10\n",
    "iter_num = 500"
   ]
  },
  {
   "cell_type": "code",
   "execution_count": 20,
   "metadata": {},
   "outputs": [],
   "source": [
    "loss_trace = []\n",
    "train_acc = []\n",
    "test_acc = []"
   ]
  },
  {
   "cell_type": "code",
   "execution_count": 21,
   "metadata": {},
   "outputs": [],
   "source": [
    "sess = tf.Session()\n",
    "sess.run(init)"
   ]
  },
  {
   "cell_type": "code",
   "execution_count": 22,
   "metadata": {},
   "outputs": [
    {
     "name": "stdout",
     "output_type": "stream",
     "text": [
      "30 Epoch: (loss: [0.4893803] train_acc: 0.8148148 test_acc: 0.8)\n",
      "60 Epoch: (loss: [0.50347364] train_acc: 0.8271605 test_acc: 0.8)\n",
      "90 Epoch: (loss: [0.6486537] train_acc: 0.8271605 test_acc: 0.8)\n",
      "120 Epoch: (loss: [0.41108638] train_acc: 0.91358024 test_acc: 0.95)\n",
      "150 Epoch: (loss: [0.35478973] train_acc: 0.91358024 test_acc: 0.95)\n",
      "180 Epoch: (loss: [0.9782067] train_acc: 0.91358024 test_acc: 0.95)\n",
      "210 Epoch: (loss: [0.40627164] train_acc: 0.962963 test_acc: 1.0)\n",
      "240 Epoch: (loss: [0.32119757] train_acc: 0.962963 test_acc: 1.0)\n",
      "270 Epoch: (loss: [0.32924223] train_acc: 1.0 test_acc: 1.0)\n",
      "300 Epoch: (loss: [0.29524398] train_acc: 1.0 test_acc: 1.0)\n",
      "330 Epoch: (loss: [0.39147437] train_acc: 1.0 test_acc: 1.0)\n",
      "360 Epoch: (loss: [0.22143409] train_acc: 1.0 test_acc: 1.0)\n",
      "390 Epoch: (loss: [0.38434952] train_acc: 1.0 test_acc: 1.0)\n",
      "420 Epoch: (loss: [0.33562526] train_acc: 1.0 test_acc: 1.0)\n",
      "450 Epoch: (loss: [0.2684394] train_acc: 1.0 test_acc: 1.0)\n",
      "480 Epoch: (loss: [0.3125349] train_acc: 1.0 test_acc: 1.0)\n"
     ]
    }
   ],
   "source": [
    "for epoch in range(iter_num):\n",
    "    batchIndex = np.random.choice(len(trainX), size=batch_size)\n",
    "    batchTrainX = trainX[batchIndex]\n",
    "    batchTrainY = np.matrix(trainY[batchIndex]).T\n",
    "    sess.run(goal, feed_dict={data: batchTrainX, target: batchTrainY})\n",
    "\n",
    "    temp_loss = sess.run(loss, feed_dict={data: batchTrainX, target: batchTrainY})\n",
    "    temp_train_acc = sess.run(accuracy, feed_dict={data: trainX, target: np.matrix(trainY).T})\n",
    "    temp_test_acc = sess.run(accuracy, feed_dict={data: testX, target: np.matrix(testY).T})\n",
    "    \n",
    "    loss_trace.append(temp_loss)\n",
    "    train_acc.append(temp_train_acc)\n",
    "    test_acc.append(temp_test_acc)\n",
    "\n",
    "    if (epoch + 1) % 30 == 0:\n",
    "        print('{:d} Epoch: (loss: {:s} train_acc: {:s} test_acc: {:s})'.format(epoch + 1, str(temp_loss), str(temp_train_acc), str(temp_test_acc)))"
   ]
  },
  {
   "cell_type": "code",
   "execution_count": 23,
   "metadata": {},
   "outputs": [
    {
     "data": {
      "image/png": "[encoded data removed]",
      "text/plain": [
       "<Figure size 432x288 with 1 Axes>"
      ]
     },
     "metadata": {
      "needs_background": "light"
     },
     "output_type": "display_data"
    }
   ],
   "source": [
    "# Visualization of the results\n",
    "# loss function\n",
    "plt.plot(loss_trace)\n",
    "plt.title('Loss')\n",
    "plt.xlabel('epoch')\n",
    "plt.ylabel('loss')\n",
    "plt.show()"
   ]
  },
  {
   "cell_type": "code",
   "execution_count": 24,
   "metadata": {},
   "outputs": [
    {
     "data": {
      "image/png": "[encoded data removed]",
      "text/plain": [
       "<Figure size 432x288 with 1 Axes>"
      ]
     },
     "metadata": {
      "needs_background": "light"
     },
     "output_type": "display_data"
    }
   ],
   "source": [
    "# accuracy\n",
    "plt.plot(train_acc, 'b-', label='train accuracy')\n",
    "plt.plot(test_acc, 'k-', label='test accuracy')\n",
    "plt.xlabel('epoch')\n",
    "plt.ylabel('accuracy')\n",
    "plt.title('Train and Test Accuracy')\n",
    "plt.legend(loc='best')\n",
    "plt.show()"
   ]
  },
  {
   "cell_type": "code",
   "execution_count": 25,
   "metadata": {},
   "outputs": [
    {
     "data": {
      "text/plain": [
       "array([[-1.3225865e+00],\n",
       "       [-6.1499536e-01],\n",
       "       [ 7.6704603e-01],\n",
       "       [ 1.9044380e-01],\n",
       "       [-3.6141559e-01],\n",
       "       [-1.4591315e+00],\n",
       "       [ 3.1411245e-02],\n",
       "       [ 3.7982121e-01],\n",
       "       [-2.3592542e-01],\n",
       "       [ 7.1599312e-02],\n",
       "       [-4.1465160e-01],\n",
       "       [ 2.5593987e-01],\n",
       "       [ 1.1160254e+00],\n",
       "       [-8.2399458e-01],\n",
       "       [ 1.1117951e+00],\n",
       "       [ 2.7660599e-01],\n",
       "       [-1.0856606e+00],\n",
       "       [-1.8723272e+00],\n",
       "       [-2.1207915e-01],\n",
       "       [-1.0899974e+00],\n",
       "       [ 4.7284633e-01],\n",
       "       [ 8.7289858e-01],\n",
       "       [-1.5205412e+00],\n",
       "       [-1.3028728e-04],\n",
       "       [-1.8130575e+00]], dtype=float32)"
      ]
     },
     "execution_count": 25,
     "metadata": {},
     "output_type": "execute_result"
    }
   ],
   "source": [
    "sess.run(W)"
   ]
  },
  {
   "cell_type": "code",
   "execution_count": 26,
   "metadata": {},
   "outputs": [
    {
     "data": {
      "text/plain": [
       "array([[-0.5234812]], dtype=float32)"
      ]
     },
     "execution_count": 26,
     "metadata": {},
     "output_type": "execute_result"
    }
   ],
   "source": [
    "sess.run(b)"
   ]
  },
  {
   "cell_type": "code",
   "execution_count": null,
   "metadata": {},
   "outputs": [],
   "source": []
  }
 ],
 "metadata": {
  "kernelspec": {
   "display_name": "Python 3",
   "language": "python",
   "name": "python3"
  },
  "language_info": {
   "codemirror_mode": {
    "name": "ipython",
    "version": 3
   },
   "file_extension": ".py",
   "mimetype": "text/x-python",
   "name": "python",
   "nbconvert_exporter": "python",
   "pygments_lexer": "ipython3",
   "version": "3.6.8"
  }
 },
 "nbformat": 4,
 "nbformat_minor": 2
}
