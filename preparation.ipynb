{
 "cells": [
  {
   "cell_type": "code",
   "execution_count": 1,
   "metadata": {},
   "outputs": [],
   "source": [
    "import os\n",
    "import string\n",
    "import operator\n",
    "import numpy as np\n",
    "from collections import Counter\n",
    "from bs4 import BeautifulSoup"
   ]
  },
  {
   "cell_type": "code",
   "execution_count": 2,
   "metadata": {},
   "outputs": [
    {
     "name": "stdout",
     "output_type": "stream",
     "text": [
      "['./3/36_OF_3.html', './3/43_OS_3.html', './3/41_OF_3.html', './3/34_OS_3.html', './3/11_OF_3.html', './3/45_OS_3.html', './3/24_OF_3.html', './3/53_OF_3.html', './3/29_OF_3.html', './3/47_OF_3.html', './3/23_OF_3.html', './3/40_OF_3.html', './3/14_OS_3.html', './3/31_OF_3.html', './3/25_OF_3.html', './3/33_OS_3.html', './3/52_OF_3.html', './3/28_OF_3.html', './3/15_OF_3.html', './3/20_OF_3.html', './3/06_OS_3.htm', './3/39_OF_3.html', './3/02_OF_3.htm', './3/32_OF_3.html', './3/48_OF_3.html', './3/08_OF_3.htm', './3/05_OF_3.htm', './3/04_OF_3.htm', './3/21_OF_3.html', './3/42_OF_3.html', './3/16_OS_3.html', './3/46_OS_3.html', './3/01_OS_3.htm', './3/44_OF_3.html', './3/50_OF_3.html']\n"
     ]
    }
   ],
   "source": [
    "filesList = os.listdir('./3')\n",
    "if '.DS_store ' in filesList:\n",
    "    filesList.remove('.DS_store ')\n",
    "fileNameList = list(map(lambda x: './3/' + x, filesList))\n",
    "print(fileNameList)"
   ]
  },
  {
   "cell_type": "markdown",
   "metadata": {},
   "source": [
    "### Functions"
   ]
  },
  {
   "cell_type": "code",
   "execution_count": 7,
   "metadata": {},
   "outputs": [],
   "source": [
    "def readHtml(fileName):\n",
    "    html = open(fileName)\n",
    "    soup = BeautifulSoup(html, 'html.parser') \n",
    "    return soup"
   ]
  },
  {
   "cell_type": "code",
   "execution_count": 9,
   "metadata": {},
   "outputs": [],
   "source": [
    "fileName = './3/02_OF_3.htm'\n",
    "soup = readHtml(fileName)"
   ]
  },
  {
   "cell_type": "code",
   "execution_count": 10,
   "metadata": {},
   "outputs": [],
   "source": [
    "def read_stop_words(stopFileName):\n",
    "    file = open(stopFileName)\n",
    "    words = list(map(lambda x: x[0:-1], file.readlines()))\n",
    "    return words"
   ]
  },
  {
   "cell_type": "code",
   "execution_count": 11,
   "metadata": {},
   "outputs": [],
   "source": [
    "stopFileName = 'stopWords.txt'\n",
    "stopWords = read_stop_words(stopFileName)"
   ]
  },
  {
   "cell_type": "code",
   "execution_count": 12,
   "metadata": {},
   "outputs": [],
   "source": [
    "def class_contents(className):\n",
    "    lst = soup.find_all(class_=className)\n",
    "    text = ''.join([''.join(l.findAll(text=True)) + ' ' for l in lst])\n",
    "    return text"
   ]
  },
  {
   "cell_type": "code",
   "execution_count": 13,
   "metadata": {},
   "outputs": [],
   "source": [
    "def list_classes():\n",
    "    classes = [value for element in soup.find_all(class_=True) for value in element[\"class\"]]\n",
    "    return classes"
   ]
  },
  {
   "cell_type": "code",
   "execution_count": 14,
   "metadata": {},
   "outputs": [],
   "source": [
    "classesList = list_classes()"
   ]
  },
  {
   "cell_type": "code",
   "execution_count": 15,
   "metadata": {},
   "outputs": [],
   "source": [
    "def found_in_class(className, value):\n",
    "    lst = soup.find_all(class_=className)\n",
    "    return any(value in l.findAll(text=True) for l in lst)"
   ]
  },
  {
   "cell_type": "code",
   "execution_count": 16,
   "metadata": {},
   "outputs": [
    {
     "data": {
      "text/plain": [
       "False"
      ]
     },
     "execution_count": 16,
     "metadata": {},
     "output_type": "execute_result"
    }
   ],
   "source": [
    "className = 'Judg-Heading-1'\n",
    "value = 'Conclusion'\n",
    "found_in_class(className, value)"
   ]
  },
  {
   "cell_type": "code",
   "execution_count": 17,
   "metadata": {},
   "outputs": [],
   "source": [
    "def found_in_text(lst, value):\n",
    "    lst = lst[::-1]\n",
    "    found = lst.index(value) if value in lst else None\n",
    "    if found:\n",
    "        return found\n",
    "    return None"
   ]
  },
  {
   "cell_type": "code",
   "execution_count": 18,
   "metadata": {},
   "outputs": [],
   "source": [
    "def clean_soup(soup):\n",
    "    case = list(soup.get_text().split())\n",
    "    puncs = string.punctuation.translate({ord('('): None, ord(')'): None}) + '’'\n",
    "    return list(map(lambda x: x.lower(), list(filter(lambda x:  4 < len(x) <= 20 and not any(p in x for p in puncs) and x not in stopWords and x.count('(') == x.count(')'), case))))"
   ]
  },
  {
   "cell_type": "code",
   "execution_count": 19,
   "metadata": {},
   "outputs": [],
   "source": [
    "def clean_text(lst):\n",
    "    puncs = string.punctuation.translate({ord('('): None, ord(')'): None}) + '’'\n",
    "    return list(map(lambda x: x.lower(), list(filter(lambda x:  4 < len(x) <= 20 and not any(p in x for p in puncs) and x not in stopWords and x.count('(') == x.count(')'), case))))"
   ]
  },
  {
   "cell_type": "code",
   "execution_count": 20,
   "metadata": {},
   "outputs": [],
   "source": [
    "def get_classes(classesList):\n",
    "    lst = ['Judg-Heading-']\n",
    "    headingsList = set(filter(lambda x: x if lst[0] in x else None, classesList))\n",
    "    return headingsList"
   ]
  },
  {
   "cell_type": "code",
   "execution_count": 21,
   "metadata": {},
   "outputs": [
    {
     "name": "stdout",
     "output_type": "stream",
     "text": [
      "{'Judg-Heading-2', 'Judg-Heading-4', 'Judg-Heading-5', 'Judg-Heading-3', 'Judg-Heading-1'}\n"
     ]
    }
   ],
   "source": [
    "headingsList = get_classes(classesList)\n",
    "print(headingsList)"
   ]
  },
  {
   "cell_type": "code",
   "execution_count": 22,
   "metadata": {},
   "outputs": [
    {
     "name": "stdout",
     "output_type": "stream",
     "text": [
      "First element: similarity of marks Third element: likelihood of confusion \n",
      "(1)   Inherent distinctiveness (2)   Acquired distinctiveness (3)   Visual similarity (4)   Aural similarity (5)   Conceptual similarity (1)   Date of assessment (2)   Likelihood of confusion \n",
      "(a)   The device (b)   The word “stone” \n",
      "Applicable legal principles Whether the PAR had erred in finding that the competing marks were similar Decision \n",
      "Introduction The opposition proceedings This appeal The court’s role in an appeal The ground of opposition under section 8(2)(b) of the TMA \n"
     ]
    }
   ],
   "source": [
    "for c in headingsList:\n",
    "    print(class_contents(c))"
   ]
  },
  {
   "cell_type": "markdown",
   "metadata": {},
   "source": [
    "# A. Section of the law"
   ]
  },
  {
   "cell_type": "code",
   "execution_count": 23,
   "metadata": {},
   "outputs": [
    {
     "name": "stdout",
     "output_type": "stream",
     "text": [
      "Tribunal Appeal No 12 of 2015 29 March 2016 High Court  George Wei J   Prithipal Singh and Chow Jian Hong (Mirandah Law LLP) for the appellant; Melvin Pang (Amica Law LLC) for the respondent.   CAESARSTONE SDOT-YAM LTD — CERAMICHE CAESAR SpA  Evidence – Proof of evidence – Judicial notice – Applicant tendered Accounting and Corporate Regulatory Authority report showing number of entities whose names contained common denominator “Caesar” – Whether judicial notice should be taken of such fact Trade Marks and Trade Names – Registration criteria – Conflicts with earlier marks – Registration of trade mark opposed based on earlier trade mark – Whether trade mark similar – Whether likelihood of confusion arising – Whether trade mark well known – Sections 2(7), 2(8), 8(2)(b) and 8(4)(b)(i) Trade Marks Act (Cap 332, 2005 Rev Ed) \n"
     ]
    }
   ],
   "source": [
    "print(class_contents('txt-body'))"
   ]
  },
  {
   "cell_type": "markdown",
   "metadata": {},
   "source": [
    "# B. Conclusion exits?"
   ]
  },
  {
   "cell_type": "code",
   "execution_count": 24,
   "metadata": {},
   "outputs": [
    {
     "data": {
      "text/plain": [
       "False"
      ]
     },
     "execution_count": 24,
     "metadata": {},
     "output_type": "execute_result"
    }
   ],
   "source": [
    "className = 'Judg-Heading-1'\n",
    "value = 'Conclusion'\n",
    "found_in_class(className, value)"
   ]
  },
  {
   "cell_type": "markdown",
   "metadata": {},
   "source": [
    "# Clean the text"
   ]
  },
  {
   "cell_type": "code",
   "execution_count": 25,
   "metadata": {},
   "outputs": [
    {
     "name": "stdout",
     "output_type": "stream",
     "text": [
      "14151\n"
     ]
    }
   ],
   "source": [
    "# get all the text from the html\n",
    "case = list(soup.get_text().split())\n",
    "print(len(case))"
   ]
  },
  {
   "cell_type": "code",
   "execution_count": 26,
   "metadata": {},
   "outputs": [
    {
     "name": "stdout",
     "output_type": "stream",
     "text": [
      "4036\n"
     ]
    }
   ],
   "source": [
    "case = clean_soup(soup)\n",
    "print(len(case))"
   ]
  },
  {
   "cell_type": "code",
   "execution_count": 27,
   "metadata": {},
   "outputs": [],
   "source": [
    "# Find the last 'Conclustion' index\n",
    "lst = case\n",
    "value = 'Conclusion'\n",
    "idx = found_in_text(lst, value)\n",
    "if idx is not None:  \n",
    "    print(case[-idx:])"
   ]
  },
  {
   "cell_type": "markdown",
   "metadata": {},
   "source": [
    "# Make Dataset"
   ]
  },
  {
   "cell_type": "code",
   "execution_count": 93,
   "metadata": {},
   "outputs": [],
   "source": [
    "wordsBag = []\n",
    "for fileName in fileNameList:\n",
    "    soup = readHtml(fileName)\n",
    "    wordsBag += clean_soup(soup)\n",
    "wordsBagHist = dict(Counter(wordsBag))\n",
    "sortedBag = sorted(wordsBagHist.items(), key=operator.itemgetter(1), reverse=True)"
   ]
  },
  {
   "cell_type": "code",
   "execution_count": 94,
   "metadata": {},
   "outputs": [
    {
     "data": {
      "text/plain": [
       "10270"
      ]
     },
     "execution_count": 94,
     "metadata": {},
     "output_type": "execute_result"
    }
   ],
   "source": [
    "len(wordsBagHist)"
   ]
  },
  {
   "cell_type": "code",
   "execution_count": 95,
   "metadata": {},
   "outputs": [],
   "source": [
    "mostFreqWords1 = list(sortedBag[0:650])\n",
    "mostFreqWords2 = list(filter(lambda x: x[1] > 43, wordsBagHist.items()))"
   ]
  },
  {
   "cell_type": "code",
   "execution_count": 97,
   "metadata": {},
   "outputs": [
    {
     "name": "stdout",
     "output_type": "stream",
     "text": [
      "[('marks', 3359), ('trade', 3169), ('goods', 2188), ('application', 1666), ('court', 1473), ('earlier', 1420), ('similarity', 1397), ('evidence', 1255), ('singapore', 1102), ('section', 1046)]\n",
      "[('access', 50), ('sgipos', 181), ('print', 47), ('number', 168), ('trade', 3169), ('decision', 486), ('intellectual', 161), ('property', 177), ('office', 112), ('singapore', 1102)]\n"
     ]
    }
   ],
   "source": [
    "len(mostFreqWords1)\n",
    "print(mostFreqWords1[0:10])\n",
    "print(mostFreqWords2[0:10])"
   ]
  },
  {
   "cell_type": "code",
   "execution_count": 79,
   "metadata": {},
   "outputs": [],
   "source": [
    "wordsBag = list(map(lambda x: x[0], mostFreqWords))"
   ]
  },
  {
   "cell_type": "code",
   "execution_count": 80,
   "metadata": {},
   "outputs": [],
   "source": [
    "wordsBag.remove('(refd)')\n",
    "wordsBag.remove('(iii)')\n",
    "wordsBag.remove('slr(r)')"
   ]
  },
  {
   "cell_type": "code",
   "execution_count": 81,
   "metadata": {},
   "outputs": [
    {
     "data": {
      "text/plain": [
       "636"
      ]
     },
     "execution_count": 81,
     "metadata": {},
     "output_type": "execute_result"
    }
   ],
   "source": [
    "len(wordsBag)\n",
    "# wordsBag"
   ]
  },
  {
   "cell_type": "code",
   "execution_count": 82,
   "metadata": {},
   "outputs": [],
   "source": [
    "def tf_idf_vectorizer(cleanSoup, wordsBag):\n",
    "    length = len(cleanSoup)\n",
    "    vec = np.zeros(639 + 3) # win or lose then 299\n",
    "    for idx, word in enumerate(wordsBag):\n",
    "        vec[idx] = 1000 * cleanSoup.count(word) / length\n",
    "    return vec"
   ]
  },
  {
   "cell_type": "code",
   "execution_count": 83,
   "metadata": {},
   "outputs": [],
   "source": [
    "vec = tf_idf_vectorizer(case, wordsBag)"
   ]
  },
  {
   "cell_type": "code",
   "execution_count": 84,
   "metadata": {},
   "outputs": [
    {
     "data": {
      "text/plain": [
       "array([ 0.49554014,  0.99108028,  0.24777007,  1.73439049, 19.57383548,\n",
       "        8.42418236,  0.49554014,  0.24777007,  1.98216056,  4.70763132,\n",
       "        0.24777007,  0.49554014,  0.74331021, 11.39742319,  6.68979187,\n",
       "        8.67195243,  0.99108028,  7.43310208, 11.64519326,  0.        ,\n",
       "        0.        ,  3.71655104,  0.24777007,  1.73439049,  0.74331021,\n",
       "        0.24777007,  7.43310208,  1.98216056,  0.74331021,  0.        ,\n",
       "        0.        ,  3.2210109 ,  1.73439049,  0.        ,  0.        ,\n",
       "        0.49554014,  0.99108028,  1.73439049,  0.74331021, 19.57383548,\n",
       "        5.94648167,  0.99108028,  2.97324083,  7.92864222,  2.97324083,\n",
       "        0.49554014,  0.        ,  0.24777007,  0.74331021,  0.        ,\n",
       "        0.        ,  0.24777007,  0.24777007,  0.49554014,  1.73439049,\n",
       "        0.74331021,  0.        ,  0.49554014,  1.23885035,  0.        ,\n",
       "        1.23885035,  1.23885035,  3.46878097,  0.        ,  0.49554014,\n",
       "        0.        ,  2.97324083,  2.22993062,  0.74331021,  0.        ,\n",
       "        0.49554014,  0.99108028,  0.24777007,  0.99108028,  0.24777007,\n",
       "        1.23885035,  4.95540139,  7.92864222,  4.70763132,  1.48662042,\n",
       "        0.99108028,  9.91080278,  8.9197225 ,  0.74331021,  5.20317146,\n",
       "       10.40634291,  8.17641229,  2.22993062,  0.49554014,  0.49554014,\n",
       "        0.49554014,  0.49554014,  0.49554014,  0.49554014,  0.        ,\n",
       "        7.68087215,  4.21209118,  0.99108028,  0.74331021,  0.49554014,\n",
       "        1.23885035,  0.        ,  4.45986125,  0.74331021,  0.74331021,\n",
       "        0.        ,  1.23885035,  0.74331021,  2.22993062,  0.        ,\n",
       "        0.24777007,  0.24777007,  1.48662042,  1.98216056,  2.47770069,\n",
       "        0.49554014,  2.47770069,  0.        ,  2.22993062,  0.24777007,\n",
       "        3.96432111,  0.        ,  0.49554014,  0.74331021,  1.48662042,\n",
       "        0.99108028,  0.24777007,  0.24777007,  0.24777007,  0.49554014,\n",
       "        0.49554014,  0.74331021,  1.23885035,  0.99108028,  3.2210109 ,\n",
       "        1.48662042,  2.72547076,  0.        ,  0.        ,  1.23885035,\n",
       "        3.46878097,  0.24777007,  1.98216056,  0.        ,  0.        ,\n",
       "        0.24777007,  0.        ,  0.74331021,  1.48662042,  0.        ,\n",
       "        0.        ,  0.24777007,  0.49554014,  0.74331021,  0.74331021,\n",
       "        2.97324083,  4.45986125,  0.        ,  1.98216056,  3.46878097,\n",
       "        0.24777007,  0.        ,  2.47770069,  3.71655104,  3.71655104,\n",
       "        0.        ,  0.        ,  0.74331021,  0.49554014,  0.        ,\n",
       "        1.23885035,  0.49554014,  0.24777007,  0.24777007,  0.        ,\n",
       "        6.4420218 ,  0.49554014,  1.73439049,  0.24777007,  0.24777007,\n",
       "        0.24777007,  1.98216056,  0.99108028,  0.24777007,  0.74331021,\n",
       "        0.24777007,  6.68979187,  0.24777007,  1.73439049,  0.        ,\n",
       "        0.24777007,  0.49554014,  0.99108028,  4.21209118,  0.        ,\n",
       "        1.23885035,  0.        ,  1.48662042,  1.73439049,  0.49554014,\n",
       "        2.47770069,  2.72547076,  0.        ,  9.41526264,  1.23885035,\n",
       "        0.49554014,  0.99108028,  0.24777007,  0.24777007,  0.49554014,\n",
       "        0.99108028, 10.40634291,  4.21209118,  0.24777007,  0.49554014,\n",
       "        0.        ,  0.49554014,  1.23885035,  0.        ,  0.49554014,\n",
       "        0.24777007,  0.74331021,  1.23885035,  0.49554014,  4.95540139,\n",
       "        0.24777007,  0.49554014,  0.99108028,  0.99108028,  5.6987116 ,\n",
       "        0.74331021,  0.49554014,  0.        ,  0.        ,  0.        ,\n",
       "        1.23885035,  1.23885035,  0.74331021,  0.24777007,  0.24777007,\n",
       "        0.99108028,  0.49554014,  0.74331021,  1.48662042,  0.49554014,\n",
       "        0.24777007,  2.72547076,  1.98216056,  0.        ,  1.48662042,\n",
       "        0.49554014,  0.49554014,  0.74331021,  0.24777007,  0.49554014,\n",
       "        1.73439049, 18.33498513, 15.85728444,  0.49554014,  1.48662042,\n",
       "        9.91080278,  1.48662042,  0.24777007,  1.48662042,  0.24777007,\n",
       "        1.23885035,  2.47770069,  2.97324083,  1.98216056,  0.74331021,\n",
       "        2.22993062,  1.23885035,  0.99108028,  0.74331021,  1.98216056,\n",
       "        1.48662042,  0.24777007,  0.74331021,  1.23885035,  1.73439049,\n",
       "        2.22993062,  0.99108028,  0.74331021,  1.23885035,  2.22993062,\n",
       "        2.47770069,  3.71655104,  0.        ,  0.24777007,  0.49554014,\n",
       "        0.24777007,  0.74331021,  0.74331021,  0.49554014,  0.49554014,\n",
       "        0.99108028,  0.        ,  0.        ,  0.49554014,  0.49554014,\n",
       "        0.24777007,  0.99108028,  0.49554014,  0.24777007,  2.72547076,\n",
       "        0.99108028,  0.        ,  0.24777007,  0.24777007,  0.74331021,\n",
       "        0.        ,  0.        ,  0.24777007,  0.99108028,  0.        ,\n",
       "        1.48662042,  2.22993062,  0.        ,  0.        ,  0.49554014,\n",
       "        0.99108028,  0.        ,  0.        ,  0.49554014,  0.74331021,\n",
       "        0.        ,  0.24777007,  0.24777007,  1.48662042,  0.24777007,\n",
       "        1.23885035,  0.49554014,  0.24777007,  1.23885035,  0.24777007,\n",
       "        0.49554014,  0.        ,  1.73439049,  0.        ,  0.        ,\n",
       "        0.        ,  0.        ,  0.24777007,  0.24777007,  0.99108028,\n",
       "        0.74331021,  1.48662042,  0.        ,  0.        ,  0.24777007,\n",
       "        0.99108028,  0.        ,  2.22993062,  0.49554014,  0.        ,\n",
       "        2.97324083,  0.49554014,  0.        ,  0.49554014,  1.73439049,\n",
       "        0.24777007,  0.        ,  0.        ,  1.98216056,  1.48662042,\n",
       "        0.        ,  0.        ,  0.        ,  0.24777007,  0.74331021,\n",
       "        0.        ,  0.        ,  0.49554014,  0.24777007,  0.49554014,\n",
       "        3.2210109 ,  0.24777007,  0.24777007,  0.49554014,  0.49554014,\n",
       "        0.49554014,  0.24777007,  0.99108028,  0.        ,  0.        ,\n",
       "        0.        ,  0.        ,  0.        ,  0.        ,  0.        ,\n",
       "        0.        ,  0.99108028,  0.49554014,  3.46878097,  0.99108028,\n",
       "        0.74331021,  0.49554014,  0.74331021,  0.24777007,  0.49554014,\n",
       "        0.49554014,  0.24777007,  0.24777007,  0.        ,  2.22993062,\n",
       "        0.        ,  0.99108028,  0.74331021,  0.99108028,  0.74331021,\n",
       "        0.49554014,  0.        ,  0.        ,  1.73439049,  0.49554014,\n",
       "        0.        ,  0.        ,  0.        ,  0.99108028,  1.23885035,\n",
       "        0.        ,  0.74331021,  0.74331021,  0.        ,  0.        ,\n",
       "        0.24777007,  0.24777007,  0.        ,  0.49554014,  0.49554014,\n",
       "        0.        ,  0.49554014,  0.99108028,  1.98216056,  0.24777007,\n",
       "        0.24777007,  0.        ,  0.74331021,  0.        ,  0.        ,\n",
       "        0.        ,  0.        ,  0.        ,  0.99108028,  0.        ,\n",
       "        0.49554014,  0.        ,  0.        ,  0.24777007,  0.49554014,\n",
       "        0.74331021,  0.49554014,  0.49554014,  1.23885035,  0.24777007,\n",
       "        0.        ,  0.        ,  0.        ,  0.        ,  0.24777007,\n",
       "        0.24777007,  0.24777007,  0.99108028,  1.23885035,  1.23885035,\n",
       "        0.49554014,  0.24777007,  0.24777007,  0.24777007,  1.73439049,\n",
       "        0.        ,  0.        ,  0.        ,  0.        ,  0.24777007,\n",
       "        0.49554014,  0.24777007,  0.        ,  0.        ,  0.49554014,\n",
       "        0.24777007,  0.        ,  0.        ,  0.24777007,  2.72547076,\n",
       "        0.49554014,  0.99108028,  0.24777007,  0.        ,  0.        ,\n",
       "        0.        ,  0.24777007,  0.49554014,  0.        ,  0.        ,\n",
       "        0.24777007,  0.        ,  0.        ,  0.24777007,  0.49554014,\n",
       "        0.        ,  0.24777007,  2.22993062,  0.49554014,  0.49554014,\n",
       "        0.49554014,  0.        ,  0.        ,  0.        ,  0.24777007,\n",
       "        0.        ,  1.23885035,  1.23885035,  0.24777007,  0.24777007,\n",
       "        0.24777007,  0.        ,  0.        ,  0.        ,  0.        ,\n",
       "        0.74331021,  0.24777007,  0.24777007,  0.24777007,  0.24777007,\n",
       "        0.49554014,  0.24777007,  0.24777007,  0.24777007,  0.        ,\n",
       "        0.        ,  0.24777007,  0.        ,  0.        ,  0.99108028,\n",
       "        0.74331021,  0.        ,  0.        ,  0.24777007,  0.        ,\n",
       "        0.24777007,  0.        ,  0.49554014,  0.49554014,  1.48662042,\n",
       "        0.        ,  0.        ,  0.24777007,  0.        ,  0.        ,\n",
       "        0.        ,  0.        ,  0.49554014,  2.97324083,  0.        ,\n",
       "        0.        ,  1.48662042,  0.49554014,  0.99108028,  0.        ,\n",
       "        0.        ,  0.74331021,  0.        ,  0.        ,  0.24777007,\n",
       "        0.        ,  0.49554014,  0.        ,  0.49554014,  0.        ,\n",
       "        0.49554014,  0.24777007,  0.        ,  0.        ,  0.        ,\n",
       "        0.        ,  0.        ,  0.        ,  0.        ,  0.        ,\n",
       "        0.        ,  0.        ,  0.49554014,  0.        ,  0.        ,\n",
       "        0.74331021,  0.        ,  0.        ,  0.        ,  0.99108028,\n",
       "        0.        ,  0.99108028,  0.24777007,  0.        ,  2.97324083,\n",
       "        1.73439049,  1.73439049,  0.74331021,  0.24777007,  0.        ,\n",
       "        0.        ,  1.48662042,  0.        ,  0.        ,  0.        ,\n",
       "        0.        ,  0.        ,  0.        ,  0.        ,  0.        ,\n",
       "        0.        ,  0.        ,  0.        ,  0.        ,  0.        ,\n",
       "        0.        ,  0.24777007,  0.        ,  0.        ,  0.        ,\n",
       "        0.        ,  0.        ,  0.24777007,  0.        ,  0.        ,\n",
       "        0.        ,  0.        ,  0.74331021,  0.        ,  0.        ,\n",
       "        0.        ,  1.23885035,  0.        ,  0.        ,  0.        ,\n",
       "        0.        ,  0.        ,  0.        ,  0.        ,  0.        ,\n",
       "        0.        ,  0.        ])"
      ]
     },
     "execution_count": 84,
     "metadata": {},
     "output_type": "execute_result"
    }
   ],
   "source": [
    "vec"
   ]
  },
  {
   "cell_type": "code",
   "execution_count": 85,
   "metadata": {},
   "outputs": [],
   "source": [
    "def case_class(fileName):\n",
    "    return fileName[-fileName[::-1].index('.') - 2]"
   ]
  },
  {
   "cell_type": "code",
   "execution_count": 86,
   "metadata": {},
   "outputs": [
    {
     "name": "stdout",
     "output_type": "stream",
     "text": [
      "3\n"
     ]
    }
   ],
   "source": [
    "print(case_class(fileName))"
   ]
  },
  {
   "cell_type": "code",
   "execution_count": 87,
   "metadata": {},
   "outputs": [],
   "source": [
    "def has_conclusion(headingsList):\n",
    "    for heading in headingsList:\n",
    "        if found_in_class(heading, 'Conclusion'):\n",
    "            return True\n",
    "    return False  "
   ]
  },
  {
   "cell_type": "code",
   "execution_count": 88,
   "metadata": {},
   "outputs": [
    {
     "name": "stdout",
     "output_type": "stream",
     "text": [
      "True\n"
     ]
    }
   ],
   "source": [
    "print(has_conclusion(headingsList))"
   ]
  },
  {
   "cell_type": "code",
   "execution_count": 64,
   "metadata": {},
   "outputs": [],
   "source": [
    "vec[-3] = int(has_conclusion(headingsList))\n",
    "vec[-2] = 1 if 'OS' in fileName else 0\n",
    "vec[-1] = case_class(fileName)"
   ]
  },
  {
   "cell_type": "code",
   "execution_count": 65,
   "metadata": {},
   "outputs": [
    {
     "data": {
      "text/plain": [
       "array([ 0.24777007,  0.        ,  0.        ,  0.24777007,  0.        ,\n",
       "        0.        ,  0.74331021,  0.49554014,  0.        ,  0.        ,\n",
       "        0.        ,  0.49554014,  0.        ,  0.        ,  0.24777007,\n",
       "        0.74331021,  0.49554014,  0.        ,  0.        ,  0.        ,\n",
       "        1.23885035,  0.49554014,  0.        ,  0.        ,  0.24777007,\n",
       "        0.        ,  0.99108028,  0.49554014,  0.        ,  0.        ,\n",
       "        0.99108028,  0.        ,  0.74331021,  0.        ,  2.22993062,\n",
       "        2.72547076,  0.        ,  0.        ,  0.        ,  0.74331021,\n",
       "        0.24777007,  0.        ,  0.24777007,  0.74331021,  0.49554014,\n",
       "        0.49554014,  0.        ,  0.24777007,  0.49554014,  0.24777007,\n",
       "        0.        ,  0.        ,  0.        ,  0.        ,  0.24777007,\n",
       "        0.49554014,  0.        ,  0.        ,  0.        ,  0.        ,\n",
       "        0.        ,  0.        ,  0.        ,  0.24777007,  0.74331021,\n",
       "        0.74331021,  0.24777007,  0.24777007,  0.        ,  0.49554014,\n",
       "        0.        ,  1.73439049,  0.        ,  1.23885035,  1.48662042,\n",
       "        0.24777007,  0.49554014,  0.        ,  0.        ,  0.24777007,\n",
       "        0.24777007,  0.        ,  0.24777007,  0.        ,  0.49554014,\n",
       "        0.74331021,  0.24777007,  0.        ,  0.24777007,  0.24777007,\n",
       "        0.        ,  0.49554014,  0.24777007,  0.        ,  0.49554014,\n",
       "        1.73439049,  0.74331021,  0.        ,  0.99108028,  0.        ,\n",
       "        0.24777007,  0.24777007,  0.        ,  0.24777007,  0.        ,\n",
       "        0.49554014,  0.74331021,  0.24777007,  0.24777007,  0.        ,\n",
       "        2.97324083,  0.        ,  0.        ,  0.        ,  1.23885035,\n",
       "        0.        ,  0.24777007,  0.        ,  0.74331021,  0.        ,\n",
       "        0.        ,  0.        ,  0.        ,  0.        ,  0.        ,\n",
       "        0.24777007,  0.99108028,  0.24777007,  0.        ,  0.49554014,\n",
       "        0.99108028,  0.24777007,  0.        ,  0.        ,  1.73439049,\n",
       "        0.        ,  0.        ,  0.49554014,  0.49554014,  0.24777007,\n",
       "        0.99108028,  0.        ,  0.        ,  0.        ,  0.        ,\n",
       "        0.        ,  0.        ,  0.        ,  0.24777007,  0.49554014,\n",
       "        0.24777007,  0.        ,  0.        ,  0.        ,  0.        ,\n",
       "        1.48662042,  0.49554014,  1.48662042,  1.48662042,  0.74331021,\n",
       "        0.24777007,  0.24777007,  0.24777007,  0.        ,  0.49554014,\n",
       "        0.        ,  0.24777007,  0.49554014,  0.        ,  0.49554014,\n",
       "        0.24777007,  0.        ,  0.        ,  0.        ,  0.        ,\n",
       "        0.49554014,  0.74331021,  1.23885035,  0.        ,  0.24777007,\n",
       "        0.        ,  1.23885035,  1.48662042,  0.        ,  0.24777007,\n",
       "        0.99108028,  1.23885035,  0.        ,  0.        ,  0.        ,\n",
       "        0.24777007,  0.        ,  0.49554014,  0.24777007,  0.        ,\n",
       "        0.        ,  0.49554014,  0.49554014,  0.49554014,  0.49554014,\n",
       "        0.24777007,  0.24777007,  0.        ,  0.24777007,  0.49554014,\n",
       "        0.        ,  0.24777007,  0.        ,  0.        ,  0.24777007,\n",
       "        1.48662042,  0.        ,  0.74331021,  0.        ,  0.24777007,\n",
       "        0.24777007,  0.49554014,  0.        ,  0.        ,  0.        ,\n",
       "        0.49554014,  0.        ,  1.23885035,  0.49554014,  0.49554014,\n",
       "        0.        ,  0.74331021,  0.49554014,  0.99108028,  0.49554014,\n",
       "        0.        ,  0.49554014,  0.24777007,  0.        ,  0.        ,\n",
       "        0.24777007,  0.24777007,  0.        ,  0.        ,  0.74331021,\n",
       "        0.99108028,  1.48662042,  0.24777007,  0.24777007,  0.24777007,\n",
       "        0.        ,  0.        ,  0.24777007,  0.24777007,  0.49554014,\n",
       "        1.98216056,  0.        ,  0.        ,  2.22993062,  1.48662042,\n",
       "        0.        ,  0.99108028,  0.        ,  0.49554014,  9.91080278,\n",
       "        0.49554014,  0.74331021,  0.49554014,  0.24777007,  0.24777007,\n",
       "        0.        ,  0.49554014,  0.        ,  0.49554014,  0.24777007,\n",
       "        0.49554014,  0.99108028,  0.99108028,  0.24777007,  0.24777007,\n",
       "        0.        ,  0.24777007,  0.24777007,  0.24777007,  0.49554014,\n",
       "        0.49554014,  0.        ,  0.99108028,  0.24777007,  0.        ,\n",
       "        0.        ,  0.        ,  2.47770069,  0.        ,  0.24777007,\n",
       "        0.        ,  1.73439049,  0.24777007,  0.49554014,  1.23885035,\n",
       "        0.        ,  0.24777007,  0.24777007,  0.        ,  0.        ,\n",
       "        0.        ,  0.24777007,  0.24777007,  0.        ,  0.24777007,\n",
       "        0.24777007,  0.        ,  0.        ,  0.        ,  1.23885035,\n",
       "        0.74331021,  0.49554014,  0.24777007,  0.        ,  0.49554014,\n",
       "        0.        ,  0.99108028,  0.        ,  0.        ,  0.        ,\n",
       "        0.49554014,  0.        ,  0.24777007,  0.24777007,  1.48662042,\n",
       "        1.98216056,  0.74331021,  0.        ,  0.        ,  0.99108028,\n",
       "        0.99108028,  0.24777007,  0.        ,  0.49554014,  0.24777007,\n",
       "        0.        ,  1.23885035,  0.74331021,  0.49554014,  0.        ,\n",
       "        0.        ,  0.        ,  0.24777007,  0.99108028,  0.49554014,\n",
       "        0.        ,  0.99108028,  0.        ,  0.24777007,  0.24777007,\n",
       "        1.48662042,  0.99108028,  0.24777007,  0.24777007,  1.23885035,\n",
       "        1.23885035,  1.23885035,  0.24777007,  1.98216056,  0.        ,\n",
       "        0.24777007,  0.74331021,  0.        ,  0.        ,  0.        ,\n",
       "        0.74331021,  0.        ,  2.97324083,  1.98216056,  0.99108028,\n",
       "        0.74331021,  0.74331021,  0.24777007,  0.99108028,  0.49554014,\n",
       "        0.        ,  0.74331021,  0.99108028,  1.73439049,  0.        ,\n",
       "        2.97324083,  0.49554014,  0.99108028,  0.49554014,  0.74331021,\n",
       "        0.49554014,  0.24777007,  1.23885035,  0.        ,  0.24777007,\n",
       "        0.        ,  0.24777007,  1.98216056,  0.        ,  0.49554014,\n",
       "        0.99108028,  1.98216056,  0.        ,  0.74331021,  0.99108028,\n",
       "        0.        ,  0.49554014,  0.        ,  0.49554014,  0.        ,\n",
       "        0.74331021,  0.        ,  1.48662042,  0.        ,  0.        ,\n",
       "        0.74331021,  0.24777007,  0.99108028,  3.2210109 ,  0.49554014,\n",
       "        2.72547076,  0.24777007,  0.24777007,  0.74331021,  0.49554014,\n",
       "        1.48662042,  0.74331021,  0.74331021,  0.24777007,  2.22993062,\n",
       "        0.49554014,  0.        ,  0.        ,  0.        ,  1.73439049,\n",
       "        0.99108028,  0.99108028,  0.        ,  0.        ,  0.24777007,\n",
       "        2.72547076,  0.        ,  0.        ,  0.24777007,  0.        ,\n",
       "        0.49554014,  0.24777007,  0.49554014,  1.23885035,  0.74331021,\n",
       "        0.99108028,  1.23885035,  0.49554014,  0.        ,  2.97324083,\n",
       "        0.        ,  2.22993062,  0.        ,  0.49554014,  2.22993062,\n",
       "        1.48662042,  1.73439049,  0.24777007,  0.        ,  0.49554014,\n",
       "        0.74331021,  0.        ,  1.98216056,  0.24777007,  0.        ,\n",
       "        0.49554014,  1.23885035,  0.        ,  0.        ,  0.74331021,\n",
       "        2.47770069,  0.49554014,  3.71655104,  2.97324083,  0.74331021,\n",
       "        1.73439049,  2.22993062,  0.24777007,  0.49554014,  0.        ,\n",
       "        0.49554014,  0.        ,  0.        ,  0.24777007,  0.99108028,\n",
       "        1.23885035,  0.49554014,  0.49554014,  0.49554014, 15.85728444,\n",
       "        0.        ,  1.98216056,  1.23885035,  0.99108028,  0.49554014,\n",
       "        1.73439049,  0.24777007,  1.98216056,  0.        ,  1.23885035,\n",
       "        0.24777007,  1.73439049, 18.33498513,  0.99108028,  0.        ,\n",
       "        0.24777007,  1.73439049,  3.2210109 ,  0.99108028,  1.23885035,\n",
       "        1.48662042,  0.74331021,  1.23885035,  0.49554014,  0.        ,\n",
       "        0.49554014,  2.47770069,  0.        ,  0.        ,  0.        ,\n",
       "        0.49554014,  3.46878097,  0.49554014,  2.22993062,  0.99108028,\n",
       "        0.        ,  0.99108028,  0.49554014,  0.74331021,  0.74331021,\n",
       "        1.48662042,  5.94648167,  0.49554014,  0.24777007,  1.23885035,\n",
       "        0.99108028,  1.73439049,  0.74331021,  0.74331021,  2.22993062,\n",
       "        0.24777007,  1.23885035,  0.99108028,  0.74331021,  1.98216056,\n",
       "        0.74331021,  0.99108028,  0.49554014,  1.23885035,  0.74331021,\n",
       "        0.99108028,  0.        ,  0.        ,  1.73439049,  4.21209118,\n",
       "        0.49554014,  0.        ,  1.48662042,  2.22993062,  0.49554014,\n",
       "        0.74331021,  1.98216056,  0.        ,  0.        ,  2.72547076,\n",
       "        1.23885035,  0.74331021,  1.73439049,  0.74331021,  1.48662042,\n",
       "        0.24777007,  2.47770069,  1.73439049,  5.6987116 ,  2.97324083,\n",
       "        2.97324083,  1.48662042,  1.48662042,  2.72547076,  1.23885035,\n",
       "        0.49554014,  0.        ,  0.49554014,  3.2210109 ,  1.73439049,\n",
       "        3.71655104,  2.47770069,  3.71655104,  1.23885035,  0.        ,\n",
       "        0.        ,  3.46878097,  4.21209118,  0.49554014,  0.        ,\n",
       "        2.22993062,  4.95540139,  3.96432111,  0.24777007,  3.46878097,\n",
       "        0.99108028,  4.45986125,  6.4420218 ,  8.42418236,  4.21209118,\n",
       "        4.45986125,  2.97324083,  6.68979187,  2.47770069,  3.71655104,\n",
       "        9.41526264,  6.68979187,  8.17641229,  2.22993062,  0.        ,\n",
       "       11.39742319, 10.40634291,  9.91080278,  8.9197225 ,  3.46878097,\n",
       "        0.49554014,  7.92864222,  7.43310208,  4.70763132,  4.95540139,\n",
       "        5.20317146,  0.74331021,  4.70763132,  7.43310208,  7.68087215,\n",
       "        7.92864222, 10.40634291,  8.67195243, 11.64519326, 19.57383548,\n",
       "       19.57383548,  0.        ,  0.        ,  0.        ,  1.        ,\n",
       "        0.        ,  3.        ])"
      ]
     },
     "execution_count": 65,
     "metadata": {},
     "output_type": "execute_result"
    }
   ],
   "source": [
    "vec"
   ]
  },
  {
   "cell_type": "code",
   "execution_count": 66,
   "metadata": {},
   "outputs": [
    {
     "data": {
      "text/plain": [
       "(642,)"
      ]
     },
     "execution_count": 66,
     "metadata": {},
     "output_type": "execute_result"
    }
   ],
   "source": [
    "np.shape(vec)"
   ]
  },
  {
   "cell_type": "code",
   "execution_count": 150,
   "metadata": {},
   "outputs": [],
   "source": [
    "# np.savetxt(\"data.txt\", tuple([vec, vec]))"
   ]
  },
  {
   "cell_type": "code",
   "execution_count": null,
   "metadata": {},
   "outputs": [],
   "source": []
  }
 ],
 "metadata": {
  "kernelspec": {
   "display_name": "Python 3",
   "language": "python",
   "name": "python3"
  },
  "language_info": {
   "codemirror_mode": {
    "name": "ipython",
    "version": 3
   },
   "file_extension": ".py",
   "mimetype": "text/x-python",
   "name": "python",
   "nbconvert_exporter": "python",
   "pygments_lexer": "ipython3",
   "version": "3.7.1"
  }
 },
 "nbformat": 4,
 "nbformat_minor": 2
}
