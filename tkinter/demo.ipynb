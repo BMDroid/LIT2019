{
 "cells": [
  {
   "cell_type": "code",
   "execution_count": 2219,
   "metadata": {},
   "outputs": [],
   "source": [
    "import tkinter as tk\n",
    "from tkinter import ttk\n",
    "from tkinter import filedialog\n",
    "import io\n",
    "import csv\n",
    "import os\n",
    "import numpy as np\n",
    "import tensorflow as tf\n",
    "import matplotlib.pyplot as plt\n",
    "from bs4 import BeautifulSoup"
   ]
  },
  {
   "cell_type": "code",
   "execution_count": 2220,
   "metadata": {},
   "outputs": [],
   "source": [
    "# global var\n",
    "W = np.array([[-1.2963951 ],\n",
    "       [-0.60281634],\n",
    "       [ 0.7874851 ],\n",
    "       [ 0.18667236],\n",
    "       [-0.31862932],\n",
    "       [-1.4302359 ],\n",
    "       [ 0.03078919],\n",
    "       [ 0.37229955],\n",
    "       [-0.23321606],\n",
    "       [ 0.07018141],\n",
    "       [-0.40644014],\n",
    "       [ 0.25087142],\n",
    "       [ 1.1295534 ],\n",
    "       [-0.80767673],\n",
    "       [ 1.0897778 ],\n",
    "       [ 0.2711283 ],\n",
    "       [-1.0641608 ],\n",
    "       [-1.8352491 ],\n",
    "       [-0.24354084],\n",
    "       [-1.0684117 ],\n",
    "       [ 0.46348244],\n",
    "       [ 0.8556123 ],\n",
    "       [-1.4904287 ],\n",
    "       [ 0.00380506],\n",
    "       [-1.7771525 ]])\n",
    "b = np.array([[-0.6004804]])\n",
    "\n",
    "wordsBag = ['likelyhood', 'breach', 'trade', 'evidence', 'property', 'public', 'opponents', 'constitution', 'fiduciary', 'confusion', 'crimes', 'copyright', 'intellectual', 'misuse', 'death', 'marks', 'constitutional', 'unregistered', 'contract', 'drugs', 'proprietor', 'similar', 'penalty', 'company', 'criminal']\n",
    "\n",
    "countVec = []\n",
    "\n",
    "\n",
    "Ww = np.array([[ 0.8594918 ],\n",
    "       [ 0.8459306 ],\n",
    "       [ 1.6249211 ],\n",
    "       [ 1.8483686 ],\n",
    "       [-0.36843148],\n",
    "       [ 1.751518  ]])\n",
    "bb = np.array([[-3.5971665]])\n",
    "\n",
    "scoreVec = []"
   ]
  },
  {
   "cell_type": "code",
   "execution_count": 2221,
   "metadata": {},
   "outputs": [],
   "source": [
    "def choose_file(event=None):\n",
    "    fileName.set(filedialog.askopenfilename())"
   ]
  },
  {
   "cell_type": "code",
   "execution_count": 2222,
   "metadata": {},
   "outputs": [],
   "source": [
    "def sigmoid(a):\n",
    "    return 1/(1+np.exp(-a))"
   ]
  },
  {
   "cell_type": "code",
   "execution_count": 2223,
   "metadata": {},
   "outputs": [],
   "source": [
    "def read_html(fileName):\n",
    "    html = io.open(fileName.get(), mode=\"r\", encoding=\"utf-8\")\n",
    "    soup = BeautifulSoup(html, 'html.parser') \n",
    "    return soup"
   ]
  },
  {
   "cell_type": "code",
   "execution_count": 2224,
   "metadata": {},
   "outputs": [],
   "source": [
    "def read_stop_words(stopFileName):\n",
    "    file = open(stopFileName, mode=\"r\", encoding=\"utf-8\")\n",
    "    words = list(map(lambda x: x[0:-1], file.readlines()))\n",
    "    return words"
   ]
  },
  {
   "cell_type": "code",
   "execution_count": 2225,
   "metadata": {},
   "outputs": [],
   "source": [
    "def class_contents(soup, className):\n",
    "    lst = soup.find_all(class_=className)\n",
    "    text = '\\n'.join([''.join(l.findAll(text=True)) + ' ' for l in lst])\n",
    "    return text"
   ]
  },
  {
   "cell_type": "code",
   "execution_count": 2226,
   "metadata": {},
   "outputs": [],
   "source": [
    "def clean_text(s, stopWords):\n",
    "    puncs = string.punctuation.translate({ord('('): None, ord(')'): None}) + '’' + '“' + '”' + '\\\\'\n",
    "    return list(map(lambda x: x.lower(), list(filter(lambda x:  4 < len(x) <= 16 and not any(p in x for p in puncs) and x not in stopWords and x.count('(') == x.count(')'), s.split(' ')))))"
   ]
  },
  {
   "cell_type": "code",
   "execution_count": 2227,
   "metadata": {},
   "outputs": [],
   "source": [
    "def word_counter_vectorizer(text, wordsBag):\n",
    "    vecLength = len(wordsBag)\n",
    "    vec = [None] * vecLength\n",
    "    for idx, word in enumerate(wordsBag):\n",
    "        vec[idx] = text.count(word)\n",
    "    return vec"
   ]
  },
  {
   "cell_type": "code",
   "execution_count": 2228,
   "metadata": {},
   "outputs": [],
   "source": [
    "def classify_case():\n",
    "    model = np.matmul(countVec, W) + b\n",
    "    prediction = np.sign(model)\n",
    "    global caseType\n",
    "    if prediction >= 0:\n",
    "        caseType.set('Trade Mark')\n",
    "    else:\n",
    "        caseType.set('None Trade Mark')"
   ]
  },
  {
   "cell_type": "code",
   "execution_count": 2229,
   "metadata": {},
   "outputs": [],
   "source": [
    "def create_data(className='txt-body', stopWords='./stopWords.txt'):\n",
    "    global countVec\n",
    "    global caseSum\n",
    "    if len(fileName.get()) > 0:\n",
    "        soup = read_html(fileName)\n",
    "        text = class_contents(soup, className)\n",
    "        caseSum.set('\\n'.join(list(filter(lambda x: len(x) < 220, text.split('\\n')))[:]))\n",
    "        cleanText = clean_text(text, read_stop_words(stopWords))\n",
    "        countVec = word_counter_vectorizer(cleanText, wordsBag)\n",
    "        countVec = np.array(countVec)\n",
    "        countVec.astype(np.float64)\n",
    "        classify_case()\n",
    "    else:\n",
    "        caseType.set('Choose a case first')  "
   ]
  },
  {
   "cell_type": "code",
   "execution_count": 2230,
   "metadata": {},
   "outputs": [],
   "source": [
    "def similarity_score(t, score):\n",
    "    def _record_score(v):\n",
    "        score.set(v)\n",
    "    s = tk.Scale(t, label='Score', from_=0, to=10, orient=tk.HORIZONTAL,\n",
    "             length=300, showvalue=0, tickinterval=1, resolution=0.5, command=_record_score)\n",
    "    s.pack()\n",
    "    l = tk.Label(t, \n",
    "        textvariable= score,\n",
    "        fg = '#9aacb8',\n",
    "        bg='#3c455c', \n",
    "        font=('Helvitica', 16)\n",
    "    )\n",
    "    l.pack() "
   ]
  },
  {
   "cell_type": "code",
   "execution_count": 2231,
   "metadata": {},
   "outputs": [],
   "source": [
    "def new_window(): # new window definition\n",
    "    newWin = tk.Toplevel(window)\n",
    "    newWin.title('Trade Mark Cases')\n",
    "    newWin.geometry('600x450')\n",
    "    l1 = tk.Label(newWin, text=\"Trade Mark Cases usually have three types.\")\n",
    "    l1.pack()\n",
    "    l2 = tk.Label(newWin, text=\"1. Text Logo\\n2. Image Logo\\n3. Text + Image Logo\")\n",
    "    l2.pack()\n",
    "    l3 = tk.Label(newWin, \n",
    "        text=\"And there are 6 criterion for trade mark cases:\\n1.Marks Similarity\\n2.Visual Similarity...\",\n",
    "        fg = '#9aacb8',\n",
    "        bg='#3c455c',)\n",
    "    l3.pack()\n",
    "    b1 = tk.Button(newWin, \n",
    "        text =\"Predict the Win Rate\", \n",
    "        command =new_tab, \n",
    "        width=15, height=2)\n",
    "    b1.pack()\n",
    "    newWin.mainloop()"
   ]
  },
  {
   "cell_type": "code",
   "execution_count": 2232,
   "metadata": {},
   "outputs": [],
   "source": [
    "def new_tab():\n",
    "    def _predict_result():\n",
    "        global scoreVec\n",
    "        global Ww\n",
    "        global bb\n",
    "        global winProb\n",
    "        global winOrLose\n",
    "        scoreVec = [score1.get(), score2.get(), score3.get(), score4.get(), score5.get(), score6.get()]\n",
    "        scoreVec = np.asarray(scoreVec)\n",
    "        scoreVec.astype(np.float64)\n",
    "        model = np.matmul(scoreVec, Ww) + bb\n",
    "        prediction = sigmoid(model)\n",
    "        winProb.set(prediction[0][0])\n",
    "        if winProb.get() >= 0.7:\n",
    "            winOrLose.set('Win')\n",
    "        else:\n",
    "            winOrLose.set('Lose')\n",
    "        l1 = tk.Label(tab6, text=str(winProb.get()))\n",
    "        l1.pack()\n",
    "        l2 = tk.Label(tab6, text=winOrLose.get())\n",
    "        l2.pack()\n",
    "        \n",
    "    newTab = tk.Toplevel(window)\n",
    "    newTab.title('Predict the Trade Mark Cases')\n",
    "    newTab.geometry('900x450')\n",
    "    # tab1\n",
    "    tabControl = ttk.Notebook(newTab)       \n",
    "    tab1 = ttk.Frame(tabControl)\n",
    "    l1 = tk.Label(tab1, text=\"Marks Similarity example...\")\n",
    "    l1.pack()\n",
    "    similarity_score(tab1, score1)\n",
    "    tabControl.add(tab1, text='Marks Similarity')\n",
    "    # tab2\n",
    "    tab2 = ttk.Frame(tabControl)\n",
    "    l2 = tk.Label(tab2, text=\"Visual Similarity example...\")\n",
    "    l2.pack()\n",
    "    similarity_score(tab2, score2)\n",
    "    tabControl.add(tab2, text='Visual Similarity')\n",
    "    # tab3\n",
    "    tab3 = ttk.Frame(tabControl)\n",
    "    l3 = tk.Label(tab3, text=\"Aural Similarity example...\")\n",
    "    l3.pack()\n",
    "    similarity_score(tab3, score3)\n",
    "    tabControl.add(tab3, text='Aural Similarity')\n",
    "    # tab4\n",
    "    tab4 = ttk.Frame(tabControl)\n",
    "    l4 = tk.Label(tab4, text=\"Conceptual Similarity example...\")\n",
    "    l4.pack()\n",
    "    similarity_score(tab4, score4)\n",
    "    tabControl.add(tab4, text='Conceptual Similarity')\n",
    "    # tab5\n",
    "    tab5 = ttk.Frame(tabControl)\n",
    "    l5 = tk.Label(tab5, text=\"G&S Similarity example...\")\n",
    "    l5.pack()\n",
    "    similarity_score(tab5, score5)\n",
    "    tabControl.add(tab5, text='G&S Similarity')\n",
    "    # tab6\n",
    "    tab6 = ttk.Frame(tabControl)\n",
    "    l6 = tk.Label(tab6, text=\"Likelyhood of Confusion example...\")\n",
    "    l6.pack()\n",
    "    similarity_score(tab6, score6)\n",
    "    b = tk.Button(tab6, \n",
    "        text =\"Predict the Win Rate\", \n",
    "        command =_predict_result, \n",
    "        width=15, height=2)\n",
    "    b.pack()\n",
    "    tabControl.add(tab6, text='Likelyhood of Confusion')\n",
    "    tabControl.pack(expand=1, fill=\"both\") \n",
    "    newTab.mainloop() "
   ]
  },
  {
   "cell_type": "code",
   "execution_count": 2233,
   "metadata": {},
   "outputs": [],
   "source": [
    "def predict_result():\n",
    "    global scoreVec\n",
    "    global W2\n",
    "    global b2\n",
    "    global winProb\n",
    "    global winOrLose\n",
    "    scoreVec = [score1.get(), score2.get(), score3.get(), score4.get(), score5.get(), score6.get()]\n",
    "    scoreVec = np.asarray(scoreVec)\n",
    "    scoreVec.astype(np.float64)\n",
    "    model = np.matmul(scoreVec, W2) + b2\n",
    "    winProb.set(model)\n",
    "    if winProb.get() >= 0.7:\n",
    "        winOrLose.set('Win')\n",
    "    else:\n",
    "        winOrLose.set('Lose')"
   ]
  },
  {
   "cell_type": "code",
   "execution_count": 2234,
   "metadata": {},
   "outputs": [],
   "source": [
    "window = tk.Tk()\n",
    "window.title('LIT')\n",
    "window.geometry('900x450')\n",
    "fileName = tk.StringVar()\n",
    "caseType = tk.StringVar()\n",
    "caseSum = tk.StringVar()\n",
    "score1 = tk.DoubleVar()\n",
    "score2 = tk.DoubleVar()\n",
    "score3 = tk.DoubleVar()\n",
    "score4 = tk.DoubleVar()\n",
    "score5 = tk.DoubleVar()\n",
    "score6 = tk.DoubleVar()\n",
    "winProb = tk.DoubleVar()\n",
    "winOrLose = tk.StringVar()"
   ]
  },
  {
   "cell_type": "code",
   "execution_count": 2235,
   "metadata": {},
   "outputs": [],
   "source": [
    "b1 = tk.Button(window, \n",
    "    text='Choose a Case',\n",
    "    width=15, height=2, \n",
    "    command=choose_file,)\n",
    "b1.pack()"
   ]
  },
  {
   "cell_type": "code",
   "execution_count": 2236,
   "metadata": {},
   "outputs": [],
   "source": [
    "l1 = tk.Label(window, \n",
    "    textvariable= fileName,\n",
    "    fg = '#9aacb8',\n",
    "    bg='#3c455c', \n",
    "    font=('Helvitica', 16)\n",
    "    )\n",
    "    #, width=50, height=5)\n",
    "l1.pack() "
   ]
  },
  {
   "cell_type": "code",
   "execution_count": 2237,
   "metadata": {},
   "outputs": [],
   "source": [
    "b2 = tk.Button(window, \n",
    "    text='Classify the Case', \n",
    "    command=create_data,\n",
    "    width=15, height=2)\n",
    "b2.pack()"
   ]
  },
  {
   "cell_type": "code",
   "execution_count": 2238,
   "metadata": {},
   "outputs": [],
   "source": [
    "l2 = tk.Label(window, \n",
    "    textvariable=caseType,\n",
    "    fg = '#9aacb8',\n",
    "    bg='#3c455c', \n",
    "    font=('Helvitica', 16))\n",
    "l2.pack()"
   ]
  },
  {
   "cell_type": "code",
   "execution_count": 2239,
   "metadata": {},
   "outputs": [],
   "source": [
    "l3 = tk.Label(window, \n",
    "    textvariable=caseSum,\n",
    "    fg = '#9aacb8',\n",
    "    bg='#3c455c', \n",
    "    font=('Helvitica', 12),\n",
    "    width=150, height=10)\n",
    "l3.pack()"
   ]
  },
  {
   "cell_type": "code",
   "execution_count": 2240,
   "metadata": {},
   "outputs": [],
   "source": [
    "b3 = tk.Button(window, \n",
    "    text =\"More Trade Mark Cases\", \n",
    "    command =new_window, \n",
    "    width=20, height=2)\n",
    "b3.pack()\n",
    "# b3.grid(row=9, column=1, sticky=S, ipady=30)\n",
    "# b3.grid(column=0, row=7, padx=20, pady=40)"
   ]
  },
  {
   "cell_type": "code",
   "execution_count": 2241,
   "metadata": {},
   "outputs": [],
   "source": [
    "window.mainloop()"
   ]
  }
 ],
 "metadata": {
  "kernelspec": {
   "display_name": "Python 3",
   "language": "python",
   "name": "python3"
  },
  "language_info": {
   "codemirror_mode": {
    "name": "ipython",
    "version": 3
   },
   "file_extension": ".py",
   "mimetype": "text/x-python",
   "name": "python",
   "nbconvert_exporter": "python",
   "pygments_lexer": "ipython3",
   "version": "3.6.8"
  }
 },
 "nbformat": 4,
 "nbformat_minor": 2
}
