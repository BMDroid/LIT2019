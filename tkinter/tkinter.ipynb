{
 "cells": [
  {
   "cell_type": "code",
   "execution_count": 4,
   "metadata": {},
   "outputs": [],
   "source": [
    "import tkinter as tk"
   ]
  },
  {
   "cell_type": "code",
   "execution_count": 5,
   "metadata": {},
   "outputs": [],
   "source": [
    "on_hit = False  # 默认初始状态为 False\n",
    "def hit_me():\n",
    "    global on_hit\n",
    "    if on_hit == False:     # 从 False 状态变成 True 状态\n",
    "        on_hit = True\n",
    "        var.set('you hit me')   # 设置标签的文字为 'you hit me'\n",
    "    else:       # 从 True 状态变成 False 状态\n",
    "        on_hit = False\n",
    "        var.set('') # 设置 文字为空"
   ]
  },
  {
   "cell_type": "code",
   "execution_count": 6,
   "metadata": {
    "scrolled": true
   },
   "outputs": [
    {
     "data": {
      "text/plain": [
       "''"
      ]
     },
     "execution_count": 6,
     "metadata": {},
     "output_type": "execute_result"
    }
   ],
   "source": [
    "window = tk.Tk()\n",
    "window.title('my window')\n",
    "window.geometry('600x450')"
   ]
  },
  {
   "cell_type": "code",
   "execution_count": 7,
   "metadata": {},
   "outputs": [],
   "source": [
    "l = tk.Label(window, \n",
    "    text='',    # 标签的文字\n",
    "    bg='green',     # 背景颜色\n",
    "    font=('Arial', 12),     # 字体和字体大小\n",
    "    width=15, height=2  # 标签长宽\n",
    "    )\n",
    "l.pack()    # 固定窗口位置"
   ]
  },
  {
   "cell_type": "code",
   "execution_count": 8,
   "metadata": {},
   "outputs": [],
   "source": [
    "var = tk.StringVar()    # 这时文字变量储存器\n",
    "l = tk.Label(window, \n",
    "    textvariable=var,   # 使用 textvariable 替换 text, 因为这个可以变化\n",
    "    bg='green', font=('Arial', 12), width=15, height=2)\n",
    "l.pack() "
   ]
  },
  {
   "cell_type": "code",
   "execution_count": 9,
   "metadata": {},
   "outputs": [],
   "source": [
    "b = tk.Button(window, \n",
    "    text='hit me',      # 显示在按钮上的文字\n",
    "    width=15, height=2, \n",
    "    command=hit_me)     # 点击按钮式执行的命令\n",
    "b.pack()    # 按钮位置"
   ]
  },
  {
   "cell_type": "code",
   "execution_count": 54,
   "metadata": {},
   "outputs": [],
   "source": [
    "window.mainloop()"
   ]
  },
  {
   "cell_type": "code",
   "execution_count": 11,
   "metadata": {},
   "outputs": [
    {
     "name": "stdout",
     "output_type": "stream",
     "text": [
      "/Users/bmdroid/Downloads/Legal Research API Documentation - v-1.0_SMU.docx\n"
     ]
    }
   ],
   "source": [
    "from tkinter.filedialog import askopenfilename\n",
    "\n",
    "# window.withdraw() # we don't want a full GUI, so keep the root window from appearing\n",
    "filename = askopenfilename() # show an \"Open\" dialog box and return the path to the selected file\n",
    "print(filename)"
   ]
  },
  {
   "cell_type": "code",
   "execution_count": null,
   "metadata": {},
   "outputs": [],
   "source": []
  }
 ],
 "metadata": {
  "kernelspec": {
   "display_name": "Python 3",
   "language": "python",
   "name": "python3"
  },
  "language_info": {
   "codemirror_mode": {
    "name": "ipython",
    "version": 3
   },
   "file_extension": ".py",
   "mimetype": "text/x-python",
   "name": "python",
   "nbconvert_exporter": "python",
   "pygments_lexer": "ipython3",
   "version": "3.6.8"
  }
 },
 "nbformat": 4,
 "nbformat_minor": 2
}
