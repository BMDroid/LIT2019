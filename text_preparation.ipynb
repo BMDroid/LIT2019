{
 "cells": [
  {
   "cell_type": "code",
   "execution_count": 45,
   "metadata": {},
   "outputs": [],
   "source": [
    "import os\n",
    "import string\n",
    "import operator\n",
    "import numpy as np\n",
    "from collections import Counter\n",
    "from bs4 import BeautifulSoup"
   ]
  },
  {
   "cell_type": "code",
   "execution_count": 47,
   "metadata": {},
   "outputs": [
    {
     "name": "stdout",
     "output_type": "stream",
     "text": [
      "['./Section 8(2)(b)/35_OF_1.html', './Section 8(2)(b)/36_OF_3.html', './Section 8(2)(b)/43_OS_3.html', './Section 8(2)(b)/38_OF_1.html', './Section 8(2)(b)/41_OF_3.html', './Section 8(2)(b)/19_OF_1.html', './Section 8(2)(b)/34_OS_3.html', './Section 8(2)(b)/11_OF_3.html', './Section 8(2)(b)/12_OF_1.html', './Section 8(2)(b)/45_OS_3.html', './Section 8(2)(b)/27_OF_1.html', './Section 8(2)(b)/24_OF_3.html', './Section 8(2)(b)/49_OF_1.html', './Section 8(2)(b)/09_OS_1.html', './Section 8(2)(b)/17_OF_2.html', './Section 8(2)(b)/53_OF_3.html', './Section 8(2)(b)/29_OF_3.html', './Section 8(2)(b)/47_OF_3.html', './Section 8(2)(b)/23_OF_3.html', './Section 8(2)(b)/40_OF_3.html', './Section 8(2)(b)/14_OS_3.html', './Section 8(2)(b)/22_OS_1.html', './Section 8(2)(b)/31_OF_3.html', './Section 8(2)(b)/26_OF_1.html', './Section 8(2)(b)/25_OF_3.html', './Section 8(2)(b)/33_OS_3.html', './Section 8(2)(b)/52_OF_3.html', './Section 8(2)(b)/28_OF_3.html', './Section 8(2)(b)/15_OF_3.html', './Section 8(2)(b)/20_OF_3.html', './Section 8(2)(b)/07_OS_1.htm', './Section 8(2)(b)/37_OF_1.html', './Section 8(2)(b)/06_OS_3.htm', './Section 8(2)(b)/39_OF_3.html', './Section 8(2)(b)/02_OF_3.htm', './Section 8(2)(b)/32_OF_3.html', './Section 8(2)(b)/48_OF_3.html', './Section 8(2)(b)/10_OF_1.html', './Section 8(2)(b)/18_OF_2.html', './Section 8(2)(b)/08_OF_3.htm', './Section 8(2)(b)/05_OF_3.htm', './Section 8(2)(b)/04_OF_3.htm', './Section 8(2)(b)/21_OF_3.html', './Section 8(2)(b)/42_OF_3.html', './Section 8(2)(b)/16_OS_3.html', './Section 8(2)(b)/30_OF_1.html', './Section 8(2)(b)/46_OS_3.html', './Section 8(2)(b)/51_OS_1.html', './Section 8(2)(b)/01_OS_3.htm', './Section 8(2)(b)/44_OF_3.html', './Section 8(2)(b)/50_OF_3.html']\n"
     ]
    }
   ],
   "source": [
    "filesList = os.listdir('./Section 8(2)(b)')\n",
    "if '.DS_store ' in filesList:\n",
    "    filesList.remove('.DS_store ')\n",
    "fileNameList = list(map(lambda x: './Section 8(2)(b)/' + x, filesList))\n",
    "print(fileNameList)"
   ]
  },
  {
   "cell_type": "markdown",
   "metadata": {},
   "source": [
    "### Functions"
   ]
  },
  {
   "cell_type": "code",
   "execution_count": 3,
   "metadata": {},
   "outputs": [],
   "source": [
    "def readHtml(fileName):\n",
    "    html = open(fileName)\n",
    "    soup = BeautifulSoup(html, 'html.parser') \n",
    "    return soup"
   ]
  },
  {
   "cell_type": "code",
   "execution_count": 4,
   "metadata": {},
   "outputs": [],
   "source": [
    "fileName = './Section 8(2)(b)/02_OF_3.html'\n",
    "soup = readHtml(fileName)"
   ]
  },
  {
   "cell_type": "code",
   "execution_count": 5,
   "metadata": {},
   "outputs": [],
   "source": [
    "def read_stop_words(stopFileName):\n",
    "    file = open(stopFileName)\n",
    "    words = list(map(lambda x: x[0:-1], file.readlines()))\n",
    "    return words"
   ]
  },
  {
   "cell_type": "code",
   "execution_count": 6,
   "metadata": {},
   "outputs": [],
   "source": [
    "stopFileName = 'stopWords.txt'\n",
    "stopWords = read_stop_words(stopFileName)"
   ]
  },
  {
   "cell_type": "code",
   "execution_count": 7,
   "metadata": {},
   "outputs": [],
   "source": [
    "def class_contents(className):\n",
    "    lst = soup.find_all(class_=className)\n",
    "    text = ''.join([''.join(l.findAll(text=True)) + ' ' for l in lst])\n",
    "    return text"
   ]
  },
  {
   "cell_type": "code",
   "execution_count": 9,
   "metadata": {},
   "outputs": [],
   "source": [
    "def list_classes():\n",
    "    classes = [value for element in soup.find_all(class_=True) for value in element[\"class\"]]\n",
    "    return classes"
   ]
  },
  {
   "cell_type": "code",
   "execution_count": 10,
   "metadata": {},
   "outputs": [],
   "source": [
    "classesList = list_classes()"
   ]
  },
  {
   "cell_type": "code",
   "execution_count": 11,
   "metadata": {},
   "outputs": [],
   "source": [
    "def found_in_class(className, value):\n",
    "    lst = soup.find_all(class_=className)\n",
    "    return any(value in l.findAll(text=True) for l in lst)"
   ]
  },
  {
   "cell_type": "code",
   "execution_count": 12,
   "metadata": {},
   "outputs": [
    {
     "data": {
      "text/plain": [
       "False"
      ]
     },
     "execution_count": 12,
     "metadata": {},
     "output_type": "execute_result"
    }
   ],
   "source": [
    "className = 'Judg-Heading-1'\n",
    "value = 'Conclusion'\n",
    "found_in_class(className, value)"
   ]
  },
  {
   "cell_type": "code",
   "execution_count": 13,
   "metadata": {},
   "outputs": [],
   "source": [
    "def found_in_text(lst, value):\n",
    "    lst = lst[::-1]\n",
    "    found = lst.index(value) if value in lst else None\n",
    "    if found:\n",
    "        return found\n",
    "    return None"
   ]
  },
  {
   "cell_type": "code",
   "execution_count": 14,
   "metadata": {},
   "outputs": [],
   "source": [
    "def clean_soup(soup):\n",
    "    case = list(soup.get_text().split())\n",
    "    puncs = string.punctuation.translate({ord('('): None, ord(')'): None}) + '’'\n",
    "    return list(map(lambda x: x.lower(), list(filter(lambda x:  4 < len(x) <= 20 and not any(p in x for p in puncs) and x not in stopWords and x.count('(') == x.count(')'), case))))"
   ]
  },
  {
   "cell_type": "code",
   "execution_count": 15,
   "metadata": {},
   "outputs": [],
   "source": [
    "def clean_text(lst):\n",
    "    puncs = string.punctuation.translate({ord('('): None, ord(')'): None}) + + '’'\n",
    "    return list(map(lambda x: x.lower(), list(filter(lambda x:  4 < len(x) <= 20 and not any(p in x for p in puncs) and x not in stopWords and x.count('(') == x.count(')'), case))))"
   ]
  },
  {
   "cell_type": "code",
   "execution_count": 16,
   "metadata": {},
   "outputs": [],
   "source": [
    "def get_classes(classesList):\n",
    "    lst = ['Judg-Heading-']\n",
    "    headingsList = set(filter(lambda x: x if lst[0] in x else None, classesList))\n",
    "    return headingsList"
   ]
  },
  {
   "cell_type": "code",
   "execution_count": 99,
   "metadata": {},
   "outputs": [
    {
     "name": "stdout",
     "output_type": "stream",
     "text": [
      "{'Judg-Heading-5', 'Judg-Heading-1', 'Judg-Heading-3', 'Judg-Heading-2', 'Judg-Heading-4'}\n"
     ]
    }
   ],
   "source": [
    "headingsList = get_classes(classesList)\n",
    "print(headingsList)"
   ]
  },
  {
   "cell_type": "code",
   "execution_count": 100,
   "metadata": {},
   "outputs": [
    {
     "name": "stdout",
     "output_type": "stream",
     "text": [
      "(a)   Whether the plain F1 mark is a descriptive mark that has not acquired distinctiveness (b)   Whether the plain F1 mark is well known in singapore (a)   The application mark: F1H20 (a)   No similarity between “F1H20” and “F1” \n",
      "Tribunal Appeal No 22 of 2013 (“TA 22”) The AR’s decisions The appellant’s arguments on appeal The decision of the court Conclusion \n",
      "Whether the plain F1 mark is an earlier trade mark Section 8(2)(b) Section 8(4)  Section 8(7)(a) \n",
      "The appellant’s earlier trade marks The grounds of opposition \n",
      "(1)   Whether the plain F1 mark is a well known trade mark (1)   Whether the marks are similar (2)   Whether the goods or services are identical or similar (3)   Whether there exists a likelihood of confusion (1)   Section 8(4)(b)(i) (2)   Section 8(4)(b)(ii) (1)   Goodwill (2)   Misrepresentation and damage (3)   Section 7(6) \n"
     ]
    }
   ],
   "source": [
    "for c in headingsList:\n",
    "    print(class_contents(c))"
   ]
  },
  {
   "cell_type": "markdown",
   "metadata": {},
   "source": [
    "# A. Section of the law"
   ]
  },
  {
   "cell_type": "code",
   "execution_count": 19,
   "metadata": {},
   "outputs": [
    {
     "name": "stdout",
     "output_type": "stream",
     "text": [
      "Tribunal Appeal No 12 of 2015 29 March 2016 High Court  George Wei J   Prithipal Singh and Chow Jian Hong (Mirandah Law LLP) for the appellant; Melvin Pang (Amica Law LLC) for the respondent.   CAESARSTONE SDOT-YAM LTD — CERAMICHE CAESAR SpA  Evidence – Proof of evidence – Judicial notice – Applicant tendered Accounting and Corporate Regulatory Authority report showing number of entities whose names contained common denominator “Caesar” – Whether judicial notice should be taken of such fact Trade Marks and Trade Names – Registration criteria – Conflicts with earlier marks – Registration of trade mark opposed based on earlier trade mark – Whether trade mark similar – Whether likelihood of confusion arising – Whether trade mark well known – Sections 2(7), 2(8), 8(2)(b) and 8(4)(b)(i) Trade Marks Act (Cap 332, 2005 Rev Ed) \n"
     ]
    }
   ],
   "source": [
    "print(class_contents('txt-body'))"
   ]
  },
  {
   "cell_type": "markdown",
   "metadata": {},
   "source": [
    "# B. Conclusion exits?"
   ]
  },
  {
   "cell_type": "code",
   "execution_count": 20,
   "metadata": {},
   "outputs": [
    {
     "data": {
      "text/plain": [
       "False"
      ]
     },
     "execution_count": 20,
     "metadata": {},
     "output_type": "execute_result"
    }
   ],
   "source": [
    "className = 'Judg-Heading-1'\n",
    "value = 'Conclusion'\n",
    "found_in_class(className, value)"
   ]
  },
  {
   "cell_type": "markdown",
   "metadata": {},
   "source": [
    "# Clean the text"
   ]
  },
  {
   "cell_type": "code",
   "execution_count": 21,
   "metadata": {},
   "outputs": [
    {
     "name": "stdout",
     "output_type": "stream",
     "text": [
      "14151\n"
     ]
    }
   ],
   "source": [
    "# get all the text from the html\n",
    "case = list(soup.get_text().split())\n",
    "print(len(case))"
   ]
  },
  {
   "cell_type": "code",
   "execution_count": 22,
   "metadata": {},
   "outputs": [
    {
     "name": "stdout",
     "output_type": "stream",
     "text": [
      "4036\n"
     ]
    }
   ],
   "source": [
    "case = clean_soup(soup)\n",
    "print(len(case))"
   ]
  },
  {
   "cell_type": "code",
   "execution_count": 23,
   "metadata": {},
   "outputs": [],
   "source": [
    "# Find the last 'Conclustion' index\n",
    "lst = case\n",
    "value = 'Conclusion'\n",
    "idx = found_in_text(lst, value)\n",
    "if idx is not None:  \n",
    "    print(case[-idx:])"
   ]
  },
  {
   "cell_type": "markdown",
   "metadata": {},
   "source": [
    "# Make Dataset"
   ]
  },
  {
   "cell_type": "code",
   "execution_count": 48,
   "metadata": {},
   "outputs": [],
   "source": [
    "wordsBag = []\n",
    "for fileName in fileNameList:\n",
    "    soup = readHtml(fileName)\n",
    "    wordsBag += clean_soup(soup)\n",
    "wordsBagHist = dict(Counter(wordsBag))\n",
    "sortedBag = sorted(wordsBagHist.items(), key=operator.itemgetter(1))"
   ]
  },
  {
   "cell_type": "code",
   "execution_count": 49,
   "metadata": {},
   "outputs": [
    {
     "data": {
      "text/plain": [
       "12486"
      ]
     },
     "execution_count": 49,
     "metadata": {},
     "output_type": "execute_result"
    }
   ],
   "source": [
    "len(wordsBagHist)"
   ]
  },
  {
   "cell_type": "code",
   "execution_count": 58,
   "metadata": {},
   "outputs": [],
   "source": [
    "mostFreqWords = list(filter(lambda x: x[1] > 127, sortedBag))"
   ]
  },
  {
   "cell_type": "code",
   "execution_count": 59,
   "metadata": {},
   "outputs": [],
   "source": [
    "wordsBag = list(map(lambda x: x[0], mostFreqWords))"
   ]
  },
  {
   "cell_type": "code",
   "execution_count": 60,
   "metadata": {},
   "outputs": [],
   "source": [
    "wordsBag.remove('(refd)')\n",
    "wordsBag.remove('(iii)')\n",
    "wordsBag.remove('slr(r)')"
   ]
  },
  {
   "cell_type": "code",
   "execution_count": 61,
   "metadata": {},
   "outputs": [
    {
     "data": {
      "text/plain": [
       "295"
      ]
     },
     "execution_count": 61,
     "metadata": {},
     "output_type": "execute_result"
    }
   ],
   "source": [
    "len(wordsBag)\n",
    "# wordsBag"
   ]
  },
  {
   "cell_type": "code",
   "execution_count": 139,
   "metadata": {},
   "outputs": [],
   "source": [
    "def tf_idf_vectorizer(cleanSoup, wordsBag):\n",
    "    length = len(cleanSoup)\n",
    "    vec = np.zeros(298) # win or lose then 299\n",
    "    for idx, word in enumerate(wordsBag):\n",
    "        vec[idx] = 1000 * cleanSoup.count(word) / length\n",
    "    return vec"
   ]
  },
  {
   "cell_type": "code",
   "execution_count": 140,
   "metadata": {},
   "outputs": [],
   "source": [
    "vec = tf_idf_vectorizer(case, wordsBag)"
   ]
  },
  {
   "cell_type": "code",
   "execution_count": 141,
   "metadata": {},
   "outputs": [
    {
     "data": {
      "text/plain": [
       "array([ 0.        ,  0.24777007,  1.23885035,  0.        ,  1.23885035,\n",
       "        0.        ,  0.74331021,  0.99108028,  0.        ,  0.        ,\n",
       "        2.97324083,  0.74331021,  0.49554014,  0.        ,  0.        ,\n",
       "        0.49554014,  0.24777007,  0.74331021,  0.99108028,  0.        ,\n",
       "        1.98216056,  0.49554014,  0.24777007,  0.24777007,  0.99108028,\n",
       "        1.48662042,  0.        ,  0.24777007,  0.        ,  0.24777007,\n",
       "        1.98216056,  1.73439049,  0.74331021,  0.        ,  0.        ,\n",
       "        0.24777007,  1.23885035,  0.        ,  0.        ,  0.        ,\n",
       "        0.99108028,  0.49554014,  2.97324083,  0.49554014,  0.49554014,\n",
       "        0.        ,  1.98216056,  0.74331021,  0.        ,  1.98216056,\n",
       "        0.99108028,  0.24777007,  1.48662042,  0.        ,  0.        ,\n",
       "        0.99108028,  0.49554014,  0.24777007,  0.24777007,  2.22993062,\n",
       "        0.49554014,  0.74331021,  0.74331021,  0.        ,  1.48662042,\n",
       "        1.73439049,  0.49554014,  0.        ,  0.49554014,  0.74331021,\n",
       "        0.74331021,  0.24777007,  0.24777007,  0.49554014,  0.99108028,\n",
       "        0.99108028,  0.        ,  0.        ,  0.        ,  0.49554014,\n",
       "        0.24777007,  0.74331021,  0.        ,  2.72547076,  2.22993062,\n",
       "        0.74331021,  0.        ,  0.74331021,  0.99108028,  0.99108028,\n",
       "        2.72547076,  0.24777007,  0.24777007,  0.49554014,  3.2210109 ,\n",
       "        0.        ,  0.        ,  0.        ,  2.97324083,  0.99108028,\n",
       "        0.24777007,  0.24777007,  2.22993062,  0.24777007,  0.49554014,\n",
       "       15.85728444,  1.23885035,  0.74331021,  0.74331021,  0.99108028,\n",
       "        0.        ,  0.49554014,  0.99108028,  0.        ,  0.74331021,\n",
       "        0.24777007,  0.49554014,  0.74331021,  1.23885035,  0.        ,\n",
       "        0.49554014,  1.23885035,  0.        ,  0.        ,  0.        ,\n",
       "        2.22993062,  1.73439049,  0.        ,  2.47770069,  0.99108028,\n",
       "        0.49554014,  1.23885035,  0.49554014,  0.        ,  0.        ,\n",
       "        1.98216056,  1.23885035,  0.24777007,  0.        ,  0.49554014,\n",
       "        1.98216056,  1.48662042,  0.49554014,  0.        ,  0.24777007,\n",
       "       18.33498513,  1.73439049,  3.71655104,  0.49554014,  0.74331021,\n",
       "        0.24777007,  0.49554014,  0.49554014,  1.23885035,  0.24777007,\n",
       "        2.97324083,  1.23885035,  1.23885035,  1.73439049,  0.24777007,\n",
       "        0.        ,  0.99108028,  1.98216056,  2.22993062,  0.49554014,\n",
       "        1.73439049,  0.99108028,  0.49554014,  0.        ,  0.49554014,\n",
       "        0.24777007,  0.        ,  0.99108028,  1.73439049,  3.2210109 ,\n",
       "        0.99108028,  0.49554014,  0.49554014,  0.        ,  2.47770069,\n",
       "        0.74331021,  1.48662042,  1.73439049,  3.46878097,  0.99108028,\n",
       "        0.49554014,  0.        ,  0.        ,  0.74331021,  0.24777007,\n",
       "        0.74331021,  0.99108028,  0.        ,  0.99108028,  1.48662042,\n",
       "        0.49554014,  0.74331021,  5.94648167,  0.        ,  1.98216056,\n",
       "        0.49554014,  2.22993062,  0.74331021,  1.23885035,  0.99108028,\n",
       "        0.24777007,  1.73439049,  0.49554014,  0.74331021,  0.        ,\n",
       "        1.23885035,  0.49554014,  4.21209118,  1.23885035,  0.        ,\n",
       "        2.22993062,  0.99108028,  0.49554014,  0.        ,  0.74331021,\n",
       "        2.72547076,  1.48662042,  1.23885035,  0.        ,  1.98216056,\n",
       "        0.74331021,  2.47770069,  0.74331021,  0.        ,  1.73439049,\n",
       "        0.74331021,  0.49554014,  1.73439049,  1.48662042,  0.24777007,\n",
       "        2.97324083,  2.97324083,  1.23885035,  2.72547076,  4.95540139,\n",
       "        5.6987116 ,  1.48662042,  3.2210109 ,  1.48662042,  0.49554014,\n",
       "        0.49554014,  0.        ,  1.73439049,  4.21209118,  2.47770069,\n",
       "        3.71655104,  3.71655104,  0.        ,  3.46878097,  3.96432111,\n",
       "        1.23885035,  2.22993062,  4.45986125,  4.21209118,  0.24777007,\n",
       "        3.46878097,  0.99108028,  6.4420218 ,  8.42418236,  4.45986125,\n",
       "        2.97324083,  2.47770069,  3.71655104, 10.40634291,  6.68979187,\n",
       "        9.41526264,  6.68979187,  8.17641229,  2.22993062,  0.        ,\n",
       "        9.91080278,  8.9197225 , 11.39742319,  3.46878097,  0.49554014,\n",
       "        5.20317146,  7.92864222,  4.95540139,  7.43310208,  4.70763132,\n",
       "        4.70763132,  0.74331021,  7.43310208,  7.68087215, 10.40634291,\n",
       "        7.92864222,  8.67195243, 11.64519326, 19.57383548, 19.57383548,\n",
       "        0.        ,  0.        ,  0.        ])"
      ]
     },
     "execution_count": 141,
     "metadata": {},
     "output_type": "execute_result"
    }
   ],
   "source": [
    "vec"
   ]
  },
  {
   "cell_type": "code",
   "execution_count": 142,
   "metadata": {},
   "outputs": [],
   "source": [
    "def case_class(fileName):\n",
    "    return fileName[-fileName[::-1].index('.') - 2]"
   ]
  },
  {
   "cell_type": "code",
   "execution_count": 143,
   "metadata": {},
   "outputs": [
    {
     "name": "stdout",
     "output_type": "stream",
     "text": [
      "3\n"
     ]
    }
   ],
   "source": [
    "print(case_class(fileName))"
   ]
  },
  {
   "cell_type": "code",
   "execution_count": 144,
   "metadata": {},
   "outputs": [],
   "source": [
    "def has_conclusion(headingsList):\n",
    "    for heading in headingsList:\n",
    "        if found_in_class(heading, 'Conclusion'):\n",
    "            return True\n",
    "    return False  "
   ]
  },
  {
   "cell_type": "code",
   "execution_count": 145,
   "metadata": {},
   "outputs": [
    {
     "name": "stdout",
     "output_type": "stream",
     "text": [
      "True\n"
     ]
    }
   ],
   "source": [
    "print(has_conclusion(headingsList))"
   ]
  },
  {
   "cell_type": "code",
   "execution_count": 146,
   "metadata": {},
   "outputs": [],
   "source": [
    "vec[295] = int(has_conclusion(headingsList))\n",
    "vec[296] = 1 if 'OS' in fileName else 0\n",
    "vec[297] = case_class(fileName)"
   ]
  },
  {
   "cell_type": "code",
   "execution_count": 147,
   "metadata": {},
   "outputs": [
    {
     "data": {
      "text/plain": [
       "array([ 0.        ,  0.24777007,  1.23885035,  0.        ,  1.23885035,\n",
       "        0.        ,  0.74331021,  0.99108028,  0.        ,  0.        ,\n",
       "        2.97324083,  0.74331021,  0.49554014,  0.        ,  0.        ,\n",
       "        0.49554014,  0.24777007,  0.74331021,  0.99108028,  0.        ,\n",
       "        1.98216056,  0.49554014,  0.24777007,  0.24777007,  0.99108028,\n",
       "        1.48662042,  0.        ,  0.24777007,  0.        ,  0.24777007,\n",
       "        1.98216056,  1.73439049,  0.74331021,  0.        ,  0.        ,\n",
       "        0.24777007,  1.23885035,  0.        ,  0.        ,  0.        ,\n",
       "        0.99108028,  0.49554014,  2.97324083,  0.49554014,  0.49554014,\n",
       "        0.        ,  1.98216056,  0.74331021,  0.        ,  1.98216056,\n",
       "        0.99108028,  0.24777007,  1.48662042,  0.        ,  0.        ,\n",
       "        0.99108028,  0.49554014,  0.24777007,  0.24777007,  2.22993062,\n",
       "        0.49554014,  0.74331021,  0.74331021,  0.        ,  1.48662042,\n",
       "        1.73439049,  0.49554014,  0.        ,  0.49554014,  0.74331021,\n",
       "        0.74331021,  0.24777007,  0.24777007,  0.49554014,  0.99108028,\n",
       "        0.99108028,  0.        ,  0.        ,  0.        ,  0.49554014,\n",
       "        0.24777007,  0.74331021,  0.        ,  2.72547076,  2.22993062,\n",
       "        0.74331021,  0.        ,  0.74331021,  0.99108028,  0.99108028,\n",
       "        2.72547076,  0.24777007,  0.24777007,  0.49554014,  3.2210109 ,\n",
       "        0.        ,  0.        ,  0.        ,  2.97324083,  0.99108028,\n",
       "        0.24777007,  0.24777007,  2.22993062,  0.24777007,  0.49554014,\n",
       "       15.85728444,  1.23885035,  0.74331021,  0.74331021,  0.99108028,\n",
       "        0.        ,  0.49554014,  0.99108028,  0.        ,  0.74331021,\n",
       "        0.24777007,  0.49554014,  0.74331021,  1.23885035,  0.        ,\n",
       "        0.49554014,  1.23885035,  0.        ,  0.        ,  0.        ,\n",
       "        2.22993062,  1.73439049,  0.        ,  2.47770069,  0.99108028,\n",
       "        0.49554014,  1.23885035,  0.49554014,  0.        ,  0.        ,\n",
       "        1.98216056,  1.23885035,  0.24777007,  0.        ,  0.49554014,\n",
       "        1.98216056,  1.48662042,  0.49554014,  0.        ,  0.24777007,\n",
       "       18.33498513,  1.73439049,  3.71655104,  0.49554014,  0.74331021,\n",
       "        0.24777007,  0.49554014,  0.49554014,  1.23885035,  0.24777007,\n",
       "        2.97324083,  1.23885035,  1.23885035,  1.73439049,  0.24777007,\n",
       "        0.        ,  0.99108028,  1.98216056,  2.22993062,  0.49554014,\n",
       "        1.73439049,  0.99108028,  0.49554014,  0.        ,  0.49554014,\n",
       "        0.24777007,  0.        ,  0.99108028,  1.73439049,  3.2210109 ,\n",
       "        0.99108028,  0.49554014,  0.49554014,  0.        ,  2.47770069,\n",
       "        0.74331021,  1.48662042,  1.73439049,  3.46878097,  0.99108028,\n",
       "        0.49554014,  0.        ,  0.        ,  0.74331021,  0.24777007,\n",
       "        0.74331021,  0.99108028,  0.        ,  0.99108028,  1.48662042,\n",
       "        0.49554014,  0.74331021,  5.94648167,  0.        ,  1.98216056,\n",
       "        0.49554014,  2.22993062,  0.74331021,  1.23885035,  0.99108028,\n",
       "        0.24777007,  1.73439049,  0.49554014,  0.74331021,  0.        ,\n",
       "        1.23885035,  0.49554014,  4.21209118,  1.23885035,  0.        ,\n",
       "        2.22993062,  0.99108028,  0.49554014,  0.        ,  0.74331021,\n",
       "        2.72547076,  1.48662042,  1.23885035,  0.        ,  1.98216056,\n",
       "        0.74331021,  2.47770069,  0.74331021,  0.        ,  1.73439049,\n",
       "        0.74331021,  0.49554014,  1.73439049,  1.48662042,  0.24777007,\n",
       "        2.97324083,  2.97324083,  1.23885035,  2.72547076,  4.95540139,\n",
       "        5.6987116 ,  1.48662042,  3.2210109 ,  1.48662042,  0.49554014,\n",
       "        0.49554014,  0.        ,  1.73439049,  4.21209118,  2.47770069,\n",
       "        3.71655104,  3.71655104,  0.        ,  3.46878097,  3.96432111,\n",
       "        1.23885035,  2.22993062,  4.45986125,  4.21209118,  0.24777007,\n",
       "        3.46878097,  0.99108028,  6.4420218 ,  8.42418236,  4.45986125,\n",
       "        2.97324083,  2.47770069,  3.71655104, 10.40634291,  6.68979187,\n",
       "        9.41526264,  6.68979187,  8.17641229,  2.22993062,  0.        ,\n",
       "        9.91080278,  8.9197225 , 11.39742319,  3.46878097,  0.49554014,\n",
       "        5.20317146,  7.92864222,  4.95540139,  7.43310208,  4.70763132,\n",
       "        4.70763132,  0.74331021,  7.43310208,  7.68087215, 10.40634291,\n",
       "        7.92864222,  8.67195243, 11.64519326, 19.57383548, 19.57383548,\n",
       "        1.        ,  0.        ,  3.        ])"
      ]
     },
     "execution_count": 147,
     "metadata": {},
     "output_type": "execute_result"
    }
   ],
   "source": [
    "vec"
   ]
  },
  {
   "cell_type": "code",
   "execution_count": 148,
   "metadata": {},
   "outputs": [
    {
     "data": {
      "text/plain": [
       "(298,)"
      ]
     },
     "execution_count": 148,
     "metadata": {},
     "output_type": "execute_result"
    }
   ],
   "source": [
    "np.shape(vec)"
   ]
  },
  {
   "cell_type": "code",
   "execution_count": 150,
   "metadata": {},
   "outputs": [],
   "source": [
    "np.savetxt(\"data.txt\", tuple([vec, vec]))"
   ]
  },
  {
   "cell_type": "code",
   "execution_count": null,
   "metadata": {},
   "outputs": [],
   "source": []
  }
 ],
 "metadata": {
  "kernelspec": {
   "display_name": "Python 3",
   "language": "python",
   "name": "python3"
  },
  "language_info": {
   "codemirror_mode": {
    "name": "ipython",
    "version": 3
   },
   "file_extension": ".py",
   "mimetype": "text/x-python",
   "name": "python",
   "nbconvert_exporter": "python",
   "pygments_lexer": "ipython3",
   "version": "3.7.1"
  }
 },
 "nbformat": 4,
 "nbformat_minor": 2
}
