{
 "cells": [
  {
   "cell_type": "code",
   "execution_count": 2,
   "metadata": {},
   "outputs": [],
   "source": [
    "%matplotlib inline"
   ]
  },
  {
   "cell_type": "code",
   "execution_count": 3,
   "metadata": {},
   "outputs": [],
   "source": [
    "import numpy as np\n",
    "# import seaborn as sns\n",
    "import pandas as pd\n",
    "import matplotlib.pyplot as plt\n",
    "import tensorflow as tf"
   ]
  },
  {
   "cell_type": "code",
   "execution_count": 4,
   "metadata": {},
   "outputs": [],
   "source": [
    "iris = pd.read_csv('dataNew.csv')"
   ]
  },
  {
   "cell_type": "code",
   "execution_count": 5,
   "metadata": {},
   "outputs": [
    {
     "data": {
      "text/plain": [
       "(101, 10)"
      ]
     },
     "execution_count": 5,
     "metadata": {},
     "output_type": "execute_result"
    }
   ],
   "source": [
    "iris.shape"
   ]
  },
  {
   "cell_type": "code",
   "execution_count": 6,
   "metadata": {},
   "outputs": [
    {
     "data": {
      "text/html": [
       "<div>\n",
       "<style scoped>\n",
       "    .dataframe tbody tr th:only-of-type {\n",
       "        vertical-align: middle;\n",
       "    }\n",
       "\n",
       "    .dataframe tbody tr th {\n",
       "        vertical-align: top;\n",
       "    }\n",
       "\n",
       "    .dataframe thead th {\n",
       "        text-align: right;\n",
       "    }\n",
       "</style>\n",
       "<table border=\"1\" class=\"dataframe\">\n",
       "  <thead>\n",
       "    <tr style=\"text-align: right;\">\n",
       "      <th></th>\n",
       "      <th>likelyhood</th>\n",
       "      <th>trade</th>\n",
       "      <th>confusion</th>\n",
       "      <th>copyright</th>\n",
       "      <th>intellectual</th>\n",
       "      <th>office</th>\n",
       "      <th>marks</th>\n",
       "      <th>constitutional</th>\n",
       "      <th>similar</th>\n",
       "      <th>Label</th>\n",
       "    </tr>\n",
       "  </thead>\n",
       "  <tbody>\n",
       "    <tr>\n",
       "      <th>0</th>\n",
       "      <td>0</td>\n",
       "      <td>1</td>\n",
       "      <td>0</td>\n",
       "      <td>0</td>\n",
       "      <td>1</td>\n",
       "      <td>1</td>\n",
       "      <td>0</td>\n",
       "      <td>0</td>\n",
       "      <td>0</td>\n",
       "      <td>1</td>\n",
       "    </tr>\n",
       "    <tr>\n",
       "      <th>1</th>\n",
       "      <td>0</td>\n",
       "      <td>1</td>\n",
       "      <td>0</td>\n",
       "      <td>0</td>\n",
       "      <td>1</td>\n",
       "      <td>1</td>\n",
       "      <td>0</td>\n",
       "      <td>0</td>\n",
       "      <td>0</td>\n",
       "      <td>1</td>\n",
       "    </tr>\n",
       "    <tr>\n",
       "      <th>2</th>\n",
       "      <td>0</td>\n",
       "      <td>1</td>\n",
       "      <td>0</td>\n",
       "      <td>0</td>\n",
       "      <td>1</td>\n",
       "      <td>1</td>\n",
       "      <td>0</td>\n",
       "      <td>0</td>\n",
       "      <td>0</td>\n",
       "      <td>1</td>\n",
       "    </tr>\n",
       "    <tr>\n",
       "      <th>3</th>\n",
       "      <td>0</td>\n",
       "      <td>1</td>\n",
       "      <td>0</td>\n",
       "      <td>0</td>\n",
       "      <td>1</td>\n",
       "      <td>1</td>\n",
       "      <td>0</td>\n",
       "      <td>0</td>\n",
       "      <td>0</td>\n",
       "      <td>1</td>\n",
       "    </tr>\n",
       "    <tr>\n",
       "      <th>4</th>\n",
       "      <td>0</td>\n",
       "      <td>1</td>\n",
       "      <td>0</td>\n",
       "      <td>0</td>\n",
       "      <td>1</td>\n",
       "      <td>1</td>\n",
       "      <td>0</td>\n",
       "      <td>0</td>\n",
       "      <td>0</td>\n",
       "      <td>1</td>\n",
       "    </tr>\n",
       "  </tbody>\n",
       "</table>\n",
       "</div>"
      ],
      "text/plain": [
       "   likelyhood  trade  confusion  copyright  intellectual  office  marks  \\\n",
       "0           0      1          0          0             1       1      0   \n",
       "1           0      1          0          0             1       1      0   \n",
       "2           0      1          0          0             1       1      0   \n",
       "3           0      1          0          0             1       1      0   \n",
       "4           0      1          0          0             1       1      0   \n",
       "\n",
       "   constitutional  similar  Label  \n",
       "0               0        0      1  \n",
       "1               0        0      1  \n",
       "2               0        0      1  \n",
       "3               0        0      1  \n",
       "4               0        0      1  "
      ]
     },
     "execution_count": 6,
     "metadata": {},
     "output_type": "execute_result"
    }
   ],
   "source": [
    "iris.head()"
   ]
  },
  {
   "cell_type": "code",
   "execution_count": 7,
   "metadata": {},
   "outputs": [],
   "source": [
    "iris = iris.sort_values(by=['Label'])"
   ]
  },
  {
   "cell_type": "code",
   "execution_count": 8,
   "metadata": {},
   "outputs": [
    {
     "data": {
      "text/html": [
       "<div>\n",
       "<style scoped>\n",
       "    .dataframe tbody tr th:only-of-type {\n",
       "        vertical-align: middle;\n",
       "    }\n",
       "\n",
       "    .dataframe tbody tr th {\n",
       "        vertical-align: top;\n",
       "    }\n",
       "\n",
       "    .dataframe thead th {\n",
       "        text-align: right;\n",
       "    }\n",
       "</style>\n",
       "<table border=\"1\" class=\"dataframe\">\n",
       "  <thead>\n",
       "    <tr style=\"text-align: right;\">\n",
       "      <th></th>\n",
       "      <th>likelyhood</th>\n",
       "      <th>trade</th>\n",
       "      <th>confusion</th>\n",
       "      <th>copyright</th>\n",
       "      <th>intellectual</th>\n",
       "      <th>office</th>\n",
       "      <th>marks</th>\n",
       "      <th>constitutional</th>\n",
       "      <th>similar</th>\n",
       "      <th>Label</th>\n",
       "    </tr>\n",
       "  </thead>\n",
       "  <tbody>\n",
       "    <tr>\n",
       "      <th>100</th>\n",
       "      <td>0</td>\n",
       "      <td>0</td>\n",
       "      <td>0</td>\n",
       "      <td>0</td>\n",
       "      <td>0</td>\n",
       "      <td>0</td>\n",
       "      <td>0</td>\n",
       "      <td>0</td>\n",
       "      <td>0</td>\n",
       "      <td>0</td>\n",
       "    </tr>\n",
       "    <tr>\n",
       "      <th>72</th>\n",
       "      <td>0</td>\n",
       "      <td>0</td>\n",
       "      <td>0</td>\n",
       "      <td>0</td>\n",
       "      <td>0</td>\n",
       "      <td>0</td>\n",
       "      <td>0</td>\n",
       "      <td>0</td>\n",
       "      <td>0</td>\n",
       "      <td>0</td>\n",
       "    </tr>\n",
       "    <tr>\n",
       "      <th>71</th>\n",
       "      <td>0</td>\n",
       "      <td>0</td>\n",
       "      <td>0</td>\n",
       "      <td>0</td>\n",
       "      <td>0</td>\n",
       "      <td>0</td>\n",
       "      <td>0</td>\n",
       "      <td>0</td>\n",
       "      <td>0</td>\n",
       "      <td>0</td>\n",
       "    </tr>\n",
       "    <tr>\n",
       "      <th>70</th>\n",
       "      <td>0</td>\n",
       "      <td>0</td>\n",
       "      <td>0</td>\n",
       "      <td>0</td>\n",
       "      <td>0</td>\n",
       "      <td>0</td>\n",
       "      <td>0</td>\n",
       "      <td>0</td>\n",
       "      <td>0</td>\n",
       "      <td>0</td>\n",
       "    </tr>\n",
       "    <tr>\n",
       "      <th>69</th>\n",
       "      <td>0</td>\n",
       "      <td>0</td>\n",
       "      <td>0</td>\n",
       "      <td>0</td>\n",
       "      <td>0</td>\n",
       "      <td>0</td>\n",
       "      <td>0</td>\n",
       "      <td>0</td>\n",
       "      <td>0</td>\n",
       "      <td>0</td>\n",
       "    </tr>\n",
       "  </tbody>\n",
       "</table>\n",
       "</div>"
      ],
      "text/plain": [
       "     likelyhood  trade  confusion  copyright  intellectual  office  marks  \\\n",
       "100           0      0          0          0             0       0      0   \n",
       "72            0      0          0          0             0       0      0   \n",
       "71            0      0          0          0             0       0      0   \n",
       "70            0      0          0          0             0       0      0   \n",
       "69            0      0          0          0             0       0      0   \n",
       "\n",
       "     constitutional  similar  Label  \n",
       "100               0        0      0  \n",
       "72                0        0      0  \n",
       "71                0        0      0  \n",
       "70                0        0      0  \n",
       "69                0        0      0  "
      ]
     },
     "execution_count": 8,
     "metadata": {},
     "output_type": "execute_result"
    }
   ],
   "source": [
    "iris.head()"
   ]
  },
  {
   "cell_type": "code",
   "execution_count": 9,
   "metadata": {},
   "outputs": [
    {
     "data": {
      "text/plain": [
       "<matplotlib.legend.Legend at 0xb23ee3390>"
      ]
     },
     "execution_count": 9,
     "metadata": {},
     "output_type": "execute_result"
    },
    {
     "data": {
      "image/png": "[encoded data removed]",
      "text/plain": [
       "<Figure size 432x288 with 1 Axes>"
      ]
     },
     "metadata": {
      "needs_background": "light"
     },
     "output_type": "display_data"
    }
   ],
   "source": [
    "plt.scatter(iris[:50].trade, iris[:50].constitutional, label='Non-Trade mark')\n",
    "plt.scatter(iris[50:].trade, iris[50:].constitutional, label='Trade Mark')\n",
    "plt.xlabel('trade')\n",
    "plt.ylabel('constitutional')\n",
    "plt.legend(loc='best')"
   ]
  },
  {
   "cell_type": "code",
   "execution_count": 12,
   "metadata": {},
   "outputs": [],
   "source": [
    "X = iris.drop(labels=['Label'], axis=1).values\n",
    "Y = iris.Label.values"
   ]
  },
  {
   "cell_type": "code",
   "execution_count": 13,
   "metadata": {},
   "outputs": [],
   "source": [
    "# set seed for numpy and tensorflow\n",
    "# set for reproducible results\n",
    "seed = 5\n",
    "np.random.seed(seed)\n",
    "tf.set_random_seed(seed)"
   ]
  },
  {
   "cell_type": "code",
   "execution_count": 14,
   "metadata": {},
   "outputs": [],
   "source": [
    "# set replace=False, Avoid double sampling\n",
    "trainIndex = np.random.choice(len(X), round(len(X) * 0.8), replace=False)"
   ]
  },
  {
   "cell_type": "code",
   "execution_count": 15,
   "metadata": {},
   "outputs": [],
   "source": [
    "# diff set\n",
    "testIndex = np.array(list(set(range(len(X))) - set(trainIndex)))\n",
    "trainX = X[trainIndex]\n",
    "trainY = Y[trainIndex]\n",
    "testX = X[testIndex]\n",
    "testY = Y[testIndex]"
   ]
  },
  {
   "cell_type": "code",
   "execution_count": 16,
   "metadata": {},
   "outputs": [],
   "source": [
    "# Define the normalized function\n",
    "def min_max_normalized(data):\n",
    "    colMax = np.max(data, axis=0)\n",
    "    colMin = np.min(data, axis=0)\n",
    "    return np.divide(data - colMin, colMax - colMin)"
   ]
  },
  {
   "cell_type": "code",
   "execution_count": 17,
   "metadata": {},
   "outputs": [
    {
     "name": "stderr",
     "output_type": "stream",
     "text": [
      "/Users/bmdroid/anaconda3/lib/python3.6/site-packages/ipykernel_launcher.py:5: RuntimeWarning: invalid value encountered in true_divide\n",
      "  \"\"\"\n"
     ]
    }
   ],
   "source": [
    "# Normalized processing, must be placed after the data set segmentation, \n",
    "# otherwise the test set will be affected by the training set\n",
    "# trainX = min_max_normalized(trainX)\n",
    "# testX = min_max_normalized(testX)"
   ]
  },
  {
   "cell_type": "code",
   "execution_count": 15,
   "metadata": {},
   "outputs": [],
   "source": [
    "# Begin building the model framework\n",
    "# Declare the variables that need to be learned and initialization\n",
    "# There are 6 features here, A's dimension is (6, 1)\n",
    "W = tf.Variable(tf.random_normal(shape=[6, 1]), name='W')\n",
    "b = tf.Variable(tf.random_normal(shape=[1, 1]), name= 'b')\n",
    "init = tf.global_variables_initializer()\n",
    "sess = tf.Session()\n",
    "sess.run(init)"
   ]
  },
  {
   "cell_type": "code",
   "execution_count": 16,
   "metadata": {},
   "outputs": [],
   "source": [
    "# Define placeholders\n",
    "data = tf.placeholder(dtype=tf.float32, shape=[None, 6])\n",
    "target = tf.placeholder(dtype=tf.float32, shape=[None, 1])"
   ]
  },
  {
   "cell_type": "code",
   "execution_count": 17,
   "metadata": {},
   "outputs": [],
   "source": [
    "# Declare the model you need to learn\n",
    "model = tf.matmul(data, W) + b"
   ]
  },
  {
   "cell_type": "code",
   "execution_count": 18,
   "metadata": {},
   "outputs": [],
   "source": [
    "# Declare loss function\n",
    "# Use the sigmoid cross-entropy loss function,\n",
    "# first doing a sigmoid on the model result and then using the cross-entropy loss function\n",
    "loss = tf.reduce_mean(tf.nn.sigmoid_cross_entropy_with_logits(logits=model, labels=target))"
   ]
  },
  {
   "cell_type": "code",
   "execution_count": 19,
   "metadata": {},
   "outputs": [],
   "source": [
    "# Define the learning rate， batch_size etc.\n",
    "learning_rate = 0.003\n",
    "batch_size = 40\n",
    "iter_num = 10000"
   ]
  },
  {
   "cell_type": "code",
   "execution_count": 20,
   "metadata": {},
   "outputs": [],
   "source": [
    "# Define the optimizer\n",
    "optimizer = tf.train.GradientDescentOptimizer(learning_rate)"
   ]
  },
  {
   "cell_type": "code",
   "execution_count": 21,
   "metadata": {},
   "outputs": [],
   "source": [
    "# Define the goal\n",
    "goal = optimizer.minimize(loss)"
   ]
  },
  {
   "cell_type": "code",
   "execution_count": 22,
   "metadata": {},
   "outputs": [],
   "source": [
    "# Define the accuracy\n",
    "# The default threshold is 0.5, rounded off directly\n",
    "prediction = tf.round(tf.sigmoid(model))\n",
    "# Bool into float32 type\n",
    "correct = tf.cast(tf.equal(prediction, target), dtype=tf.float32)\n",
    "# Average\n",
    "accuracy = tf.reduce_mean(correct)\n",
    "# End of the definition of the model framework"
   ]
  },
  {
   "cell_type": "code",
   "execution_count": 23,
   "metadata": {},
   "outputs": [],
   "source": [
    "# Start training model\n",
    "# Define the variable that stores the result\n",
    "loss_trace = []\n",
    "train_acc = []\n",
    "test_acc = []"
   ]
  },
  {
   "cell_type": "code",
   "execution_count": 24,
   "metadata": {},
   "outputs": [
    {
     "name": "stdout",
     "output_type": "stream",
     "text": [
      "epoch:  300 loss: 0.836580 train_acc: 0.612903 test_acc: 0.375000\n",
      "epoch:  600 loss: 0.934743 train_acc: 0.612903 test_acc: 0.375000\n",
      "epoch:  900 loss: 0.800662 train_acc: 0.709677 test_acc: 0.500000\n",
      "epoch: 1200 loss: 0.672350 train_acc: 0.774194 test_acc: 0.500000\n",
      "epoch: 1500 loss: 0.767192 train_acc: 0.774194 test_acc: 0.625000\n",
      "epoch: 1800 loss: 0.739319 train_acc: 0.774194 test_acc: 0.625000\n",
      "epoch: 2100 loss: 0.687752 train_acc: 0.774194 test_acc: 0.625000\n",
      "epoch: 2400 loss: 0.661069 train_acc: 0.774194 test_acc: 0.625000\n",
      "epoch: 2700 loss: 0.515982 train_acc: 0.774194 test_acc: 0.625000\n",
      "epoch: 3000 loss: 0.631673 train_acc: 0.774194 test_acc: 0.625000\n",
      "epoch: 3300 loss: 0.585346 train_acc: 0.774194 test_acc: 0.625000\n",
      "epoch: 3600 loss: 0.536225 train_acc: 0.774194 test_acc: 0.625000\n",
      "epoch: 3900 loss: 0.467615 train_acc: 0.774194 test_acc: 0.625000\n",
      "epoch: 4200 loss: 0.538889 train_acc: 0.774194 test_acc: 0.625000\n",
      "epoch: 4500 loss: 0.502705 train_acc: 0.774194 test_acc: 0.625000\n",
      "epoch: 4800 loss: 0.465616 train_acc: 0.838710 test_acc: 0.625000\n",
      "epoch: 5100 loss: 0.378600 train_acc: 0.838710 test_acc: 0.750000\n",
      "epoch: 5400 loss: 0.381101 train_acc: 0.838710 test_acc: 0.750000\n",
      "epoch: 5700 loss: 0.524921 train_acc: 0.838710 test_acc: 0.750000\n",
      "epoch: 6000 loss: 0.406761 train_acc: 0.838710 test_acc: 0.750000\n",
      "epoch: 6300 loss: 0.405789 train_acc: 0.838710 test_acc: 0.750000\n",
      "epoch: 6600 loss: 0.487247 train_acc: 0.838710 test_acc: 0.875000\n",
      "epoch: 6900 loss: 0.417793 train_acc: 0.838710 test_acc: 0.875000\n",
      "epoch: 7200 loss: 0.344315 train_acc: 0.838710 test_acc: 1.000000\n",
      "epoch: 7500 loss: 0.402342 train_acc: 0.838710 test_acc: 1.000000\n",
      "epoch: 7800 loss: 0.302946 train_acc: 0.838710 test_acc: 1.000000\n",
      "epoch: 8100 loss: 0.333170 train_acc: 0.870968 test_acc: 1.000000\n",
      "epoch: 8400 loss: 0.305012 train_acc: 0.870968 test_acc: 1.000000\n",
      "epoch: 8700 loss: 0.319895 train_acc: 0.870968 test_acc: 1.000000\n",
      "epoch: 9000 loss: 0.312836 train_acc: 0.870968 test_acc: 1.000000\n",
      "epoch: 9300 loss: 0.242064 train_acc: 0.870968 test_acc: 1.000000\n",
      "epoch: 9600 loss: 0.306234 train_acc: 0.870968 test_acc: 1.000000\n",
      "epoch: 9900 loss: 0.275721 train_acc: 0.870968 test_acc: 1.000000\n"
     ]
    }
   ],
   "source": [
    "# training model\n",
    "for epoch in range(iter_num):\n",
    "    # Generate random batch index\n",
    "    batchIndex = np.random.choice(len(trainX), size=batch_size)\n",
    "    batchTrainX = trainX[batchIndex]\n",
    "    batchTrainY = np.matrix(trainY[batchIndex]).T\n",
    "    sess.run(goal, feed_dict={data: batchTrainX, target: batchTrainY})\n",
    "    temp_loss = sess.run(loss, feed_dict={data: batchTrainX, target: batchTrainY})\n",
    "    # convert into a matrix, and the shape of the placeholder to correspond\n",
    "    temp_train_acc = sess.run(accuracy, feed_dict={data: trainX, target: np.matrix(trainY).T})\n",
    "    temp_test_acc = sess.run(accuracy, feed_dict={data: testX, target: np.matrix(testY).T})\n",
    "    # recode the result\n",
    "    loss_trace.append(temp_loss)\n",
    "    train_acc.append(temp_train_acc)\n",
    "    test_acc.append(temp_test_acc)\n",
    "    # output\n",
    "    if (epoch + 1) % 300 == 0:\n",
    "        print('epoch: {:4d} loss: {:5f} train_acc: {:5f} test_acc: {:5f}'.format(epoch + 1, temp_loss,\n",
    "                                                                          temp_train_acc, temp_test_acc))"
   ]
  },
  {
   "cell_type": "code",
   "execution_count": 25,
   "metadata": {},
   "outputs": [
    {
     "data": {
      "image/png": "[encoded data removed]",
      "text/plain": [
       "<Figure size 432x288 with 1 Axes>"
      ]
     },
     "metadata": {
      "needs_background": "light"
     },
     "output_type": "display_data"
    }
   ],
   "source": [
    "# Visualization of the results\n",
    "# loss function\n",
    "plt.plot(loss_trace)\n",
    "plt.title('Cross Entropy Loss')\n",
    "plt.xlabel('epoch')\n",
    "plt.ylabel('loss')\n",
    "plt.show()"
   ]
  },
  {
   "cell_type": "code",
   "execution_count": 27,
   "metadata": {},
   "outputs": [
    {
     "data": {
      "image/png": "[encoded data removed]",
      "text/plain": [
       "<Figure size 432x288 with 1 Axes>"
      ]
     },
     "metadata": {
      "needs_background": "light"
     },
     "output_type": "display_data"
    }
   ],
   "source": [
    "# accuracy\n",
    "plt.plot(train_acc, 'b-', label='train accuracy')\n",
    "plt.plot(test_acc, 'k-', label='test accuracy')\n",
    "plt.xlabel('epoch')\n",
    "plt.ylabel('accuracy')\n",
    "plt.title('Train and Test Accuracy')\n",
    "plt.legend(loc='best')\n",
    "plt.show()"
   ]
  },
  {
   "cell_type": "code",
   "execution_count": 40,
   "metadata": {},
   "outputs": [],
   "source": [
    "# vars = tf.trainable_variables()\n",
    "# vars_vals = sess.run(vars)\n",
    "# for var, val in zip(vars, vars_vals):\n",
    "#    print(\"var: {}, value: {}\".format(var.name, val))"
   ]
  },
  {
   "cell_type": "code",
   "execution_count": 41,
   "metadata": {},
   "outputs": [
    {
     "data": {
      "text/plain": [
       "array([[ 0.48942786],\n",
       "       [ 0.6954342 ],\n",
       "       [ 1.4197769 ],\n",
       "       [ 1.716354  ],\n",
       "       [-0.37889588],\n",
       "       [ 1.1567221 ]], dtype=float32)"
      ]
     },
     "execution_count": 41,
     "metadata": {},
     "output_type": "execute_result"
    }
   ],
   "source": [
    "sess.run(W)"
   ]
  },
  {
   "cell_type": "code",
   "execution_count": 42,
   "metadata": {},
   "outputs": [
    {
     "data": {
      "text/plain": [
       "array([[-2.956316]], dtype=float32)"
      ]
     },
     "execution_count": 42,
     "metadata": {},
     "output_type": "execute_result"
    }
   ],
   "source": [
    "sess.run(b)"
   ]
  },
  {
   "cell_type": "code",
   "execution_count": null,
   "metadata": {},
   "outputs": [],
   "source": []
  }
 ],
 "metadata": {
  "kernelspec": {
   "display_name": "Python 3",
   "language": "python",
   "name": "python3"
  },
  "language_info": {
   "codemirror_mode": {
    "name": "ipython",
    "version": 3
   },
   "file_extension": ".py",
   "mimetype": "text/x-python",
   "name": "python",
   "nbconvert_exporter": "python",
   "pygments_lexer": "ipython3",
   "version": "3.6.8"
  }
 },
 "nbformat": 4,
 "nbformat_minor": 2
}
