{
 "cells": [
  {
   "cell_type": "code",
   "execution_count": 8,
   "metadata": {},
   "outputs": [],
   "source": [
    "import io\n",
    "import os\n",
    "import pickle\n",
    "import string\n",
    "import operator\n",
    "import numpy as np\n",
    "import matplotlib.pyplot as plt\n",
    "from collections import Counter\n",
    "from bs4 import BeautifulSoup"
   ]
  },
  {
   "cell_type": "code",
   "execution_count": 13,
   "metadata": {},
   "outputs": [],
   "source": [
    "def file_name_list(cate):\n",
    "    fileList = os.listdir('./{}'.format(cate))\n",
    "    if '.DS_store' in fileList:\n",
    "        fileList.remove('.DS_store ')\n",
    "    fileNameList = list(map(lambda x: './{}/{}'.format(cate, x), fileList))\n",
    "    return fileNameList"
   ]
  },
  {
   "cell_type": "code",
   "execution_count": 57,
   "metadata": {},
   "outputs": [
    {
     "name": "stdout",
     "output_type": "stream",
     "text": [
      "['./A/A_23.html', './A/A_35.html', './A/A_9.html', './A/A_19.html', './A/A_39.html', './A/A_15.html', './A/A_42.html', './A/A_43.html', './A/A_14.html', './A/A_38.html', './A/A_18.html', './A/A_8.html', './A/A_34.html', './A/A_22.html', './A/A_3.htm', './A/A_29.html', './A/A_13.html', './A/A_44.html', './A/A_2.htm', './A/A_25.html', './A/A_33.html', './A/A_48.html', './A/A_1.htm', './A/A_5.htm', './A/A_49.html', './A/A_32.html', './A/A_24.html', './A/A_4.htm', './A/A_6.htm', './A/A_45.html', './A/A_12.html', './A/A_28.html', './A/A_7.htm', './A/A_50.html', './A/A_46.html', './A/A_11.html', './A/A_31.html', './A/A_27.html', './A/A_26.html', './A/A_30.html', './A/A_10.html', './A/A_47.html', './A/A_51.html', './A/A_37.html', './A/A_21.html', './A/A_40.html', './A/A_17.html', './A/A_16.html', './A/A_41.html', './A/A_20.html', './A/A_36.html']\n"
     ]
    }
   ],
   "source": [
    "cate = 'A'\n",
    "fileNameList = file_name_list(cate)\n",
    "print(fileNameList)"
   ]
  },
  {
   "cell_type": "code",
   "execution_count": 58,
   "metadata": {},
   "outputs": [],
   "source": [
    "def read_html(fileName):\n",
    "    html = io.open(fileName, mode=\"r\", encoding=\"utf-8\")\n",
    "    soup = BeautifulSoup(html, 'html.parser') \n",
    "    return soup"
   ]
  },
  {
   "cell_type": "code",
   "execution_count": 59,
   "metadata": {},
   "outputs": [],
   "source": [
    "def read_stop_words(stopFileName):\n",
    "    file = open(stopFileName, mode=\"r\", encoding=\"utf-8\")\n",
    "    words = list(map(lambda x: x[0:-1], file.readlines()))\n",
    "    return words"
   ]
  },
  {
   "cell_type": "code",
   "execution_count": 139,
   "metadata": {},
   "outputs": [],
   "source": [
    "def clean_soup(soup, stopWords):\n",
    "    case = list(soup.get_text().split())\n",
    "    puncs = string.punctuation.translate({ord('('): None, ord(')'): None}) + '’' + '“' + '”'\n",
    "    return list(map(lambda x: x.lower(), list(filter(lambda x:  4 < len(x) <= 20 and not any(p in x for p in puncs) and x not in stopWords and x.count('(') == x.count(')'), case))))"
   ]
  },
  {
   "cell_type": "code",
   "execution_count": 151,
   "metadata": {},
   "outputs": [],
   "source": [
    "def clean_text(s, stopWords):\n",
    "    puncs = string.punctuation.translate({ord('('): None, ord(')'): None}) + '’' + '“' + '”' + '\\\\'\n",
    "    return list(map(lambda x: x.lower(), list(filter(lambda x:  4 < len(x) <= 16 and not any(p in x for p in puncs) and x not in stopWords and x.count('(') == x.count(')'), s.split(' ')))))"
   ]
  },
  {
   "cell_type": "code",
   "execution_count": 152,
   "metadata": {},
   "outputs": [],
   "source": [
    "def class_contents(soup, className):\n",
    "    lst = soup.find_all(class_=className)\n",
    "    text = ''.join([''.join(l.findAll(text=True)) + ' ' for l in lst])\n",
    "    return text"
   ]
  },
  {
   "cell_type": "code",
   "execution_count": 153,
   "metadata": {},
   "outputs": [
    {
     "name": "stdout",
     "output_type": "stream",
     "text": [
      "./B/B_33.html\n"
     ]
    }
   ],
   "source": [
    "fileName = fileNameList[0]\n",
    "print(fileName)"
   ]
  },
  {
   "cell_type": "code",
   "execution_count": 154,
   "metadata": {},
   "outputs": [],
   "source": [
    "soup = read_html(fileName)"
   ]
  },
  {
   "cell_type": "code",
   "execution_count": 155,
   "metadata": {},
   "outputs": [
    {
     "name": "stdout",
     "output_type": "stream",
     "text": [
      "Criminal Appeal No 20 of 2010 09 April 2012 Court of Appeal  Chao Hick Tin JA; Andrew Phang Boon Leong JA; V K Rajah JA   Eugene Thuraisingam and Daniel Chia (Stamford Law Corporation) for the appellant; Lee Lit Cheng with Dennis Tan and Darryl Soh (Deputy Public Prosecutor) for the respondent   Quek Hock Lye — Public Prosecutor  Constitutional Law – Attorney-General – Prosecutorial discretion – Whether Art 12(1) Constitution of the Republic of Singapore (1985 Rev Ed, 1999 Reprint) (“the Constitution”) was violated by Public Prosecutor’s exercise of prosecutorial discretion in preferring different charges against two parties to same criminal conspiracy – Article 12(1) Constitution of the Republic of Singapore (1985 Rev Ed, 1999 Reprint) Constitutional Law – Equality before the law – Whether selection of punishment for members of a “class” of offenders was for the Judiciary by virtue of Art 93 of the Constitution – Whether Public Prosecutor’s actions in formulating drug trafficking charge against co-conspirator, which was just under amount necessary to trigger mandatory death penalty, contravened doctrine of separation of powers and breached Art 93 of the Constitution by usurping judicial function of sentencing – Article 93 Constitution of the Republic of Singapore (1985 Rev Ed, 1999 Reprint) Criminal Law – Criminal conspiracy – Propriety of amended charge on which appellant was convicted – Whether there was indeed agreement between co-conspirators to traffic in 62.14g of diamorphine found – Whether incongruity in charges faced by both conspirators impacted their underlying agreement to traffic in 62.14g of diamorphine Criminal Procedure and Sentencing – Appeal – Plea of guilt – Appellant alleged trial judge erred in law by failing to follow procedural safeguards set out in ss 139 and 187 Criminal Procedure Code (Cap 68, 1985 Rev Ed) in relation to recording of his plea of guilt – Sections 139 and 187 Criminal Procedure Code (Cap 68, 1985 Rev Ed) \n"
     ]
    }
   ],
   "source": [
    "className = 'txt-body'\n",
    "text = class_contents(soup, className)\n",
    "print(text)"
   ]
  },
  {
   "cell_type": "code",
   "execution_count": 156,
   "metadata": {},
   "outputs": [
    {
     "name": "stdout",
     "output_type": "stream",
     "text": [
      "Introduction Background First ground of appeal Second ground of appeal The use of criminal conspiracy in Quek’s amended charge \n"
     ]
    }
   ],
   "source": [
    "className = 'Judg-Heading-1'\n",
    "text = class_contents(soup, className)\n",
    "print(text)"
   ]
  },
  {
   "cell_type": "code",
   "execution_count": 157,
   "metadata": {},
   "outputs": [],
   "source": [
    "cate = 'A'\n",
    "fileNameListA = file_name_list(cate)"
   ]
  },
  {
   "cell_type": "code",
   "execution_count": 158,
   "metadata": {},
   "outputs": [],
   "source": [
    "classNameList = ['txt-body']#, 'Judg-Heading-1']"
   ]
  },
  {
   "cell_type": "code",
   "execution_count": 159,
   "metadata": {},
   "outputs": [],
   "source": [
    "stopWords = read_stop_words('./stopWords.txt')"
   ]
  },
  {
   "cell_type": "code",
   "execution_count": 165,
   "metadata": {},
   "outputs": [],
   "source": [
    "wordsBag = []\n",
    "for fileName in fileNameListA:\n",
    "    soup = read_html(fileName)\n",
    "    text = ''\n",
    "    for className in classNameList:\n",
    "        text += class_contents(soup, className) + ' '\n",
    "    text = clean_text(text, stopWords)\n",
    "    wordsBag.extend(text)\n",
    "wordsBagHist = dict(Counter(wordsBag))\n",
    "sortedBag = sorted(wordsBagHist.items(), key=operator.itemgetter(1), reverse=True)"
   ]
  },
  {
   "cell_type": "code",
   "execution_count": 173,
   "metadata": {},
   "outputs": [
    {
     "name": "stdout",
     "output_type": "stream",
     "text": [
      "[('trade', 152), ('marks', 54), ('singapore', 48), ('intellectual', 43), ('property', 43), ('office', 42), ('2005\\xa0rev', 24), ('earlier', 21), ('opponents', 18), ('napier', 12), ('sandy', 11), ('widjaja', 11), ('registered', 11), ('refusal', 11), ('singh', 10), ('court', 10), ('names\\xa0–\\xa0grounds', 10), ('limited', 9), ('opponent', 9), ('gabriel', 8), ('appeal', 8), ('application', 7), ('company', 7), ('likelihood', 7), ('october', 6), ('prithipal', 6), ('november', 6), ('applicants', 6), ('march', 6), ('melvin', 5), ('august', 5), ('cheong', 5), ('applicant', 5), ('sheng', 5), ('monster', 5), ('energy', 5), ('proprietor', 5), ('similar', 5), ('based', 5), ('tribunal', 5), ('mark\\xa0–\\xa0whether', 5), ('confusion', 5), ('denise', 4), ('gledhill', 4), ('sukumar', 4), ('karuppiah', 4), ('corporation', 4), ('gillian', 4), ('diyanah', 4), ('binte', 4), ('baharudin', 4), ('amanda', 4), ('february', 4), ('goods', 4), ('holdings', 4), ('burkinshaw', 4), ('opposed', 4), ('unregistered', 4), ('grounds', 4), ('seeking', 4), ('registration', 4), ('dedar', 3), ('united', 3), ('nicholas', 3), ('yvonne', 3), ('international', 3), ('marketing', 3), ('services', 3), ('murgiana', 3), ('september', 3), ('clerk', 3), ('december', 3), ('george', 3), ('defendant', 3), ('allegedly', 3), ('infringing', 3), ('plaintiff', 3), ('liable', 3), ('goodwill', 3), ('chian', 3), ('marcus', 3), ('caesarstone', 3), ('ceramiche', 3), ('caesar', 3), ('existed', 3), ('respect', 3), ('hotel', 3), ('opposition', 3), ('april', 3), ('january', 3), ('industri', 2), ('zechariah', 2), ('joyce', 2), ('states', 2), ('association', 2), ('kabushiki', 2), ('kaisha', 2), ('ferzana', 2), ('street', 2), ('william', 2), ('dhiviya', 2), ('mohan', 2), ('francine', 2), ('aaron', 2), ('restaurant', 2), ('marks\\xa0–\\xa0whether', 2), ('common', 2), ('business', 2), ('shang', 2), ('tobacco', 2), ('philip', 2), ('products', 2), ('8(4)(b)(i)', 2), ('legal', 2), ('apple', 2), ('group', 2), ('kwang', 2), ('licensing', 2), ('register', 2), ('passing', 2), ('connection', 2), ('civil', 2), ('appeals', 2), ('sundaresh', 2), ('menon', 2), ('rajah', 2), ('elaine', 2), ('starwood', 2), ('hotels', 2), ('resorts', 2), ('sheraton', 2), ('staywell', 2), ('hospitality', 2), ('establish', 2), ('mirandah', 2), ('david', 2), ('llewelyn', 2), ('industries', 2), ('chang', 2), ('prevented', 2), ('copyright', 2), ('seiko', 2), ('penelope', 2), ('global', 2), ('bridgestone', 2), ('t1002552c', 1), ('bacardi', 1), ('t1320771a', 1), ('karet', 1), ('qingdao', 1), ('sentury', 1), ('t1321153j', 1), ('vignesh', 1), ('vaerhn', 1), ('jasper', 1), ('megaport', 1), ('(services)', 1), ('t1215440a', 1), ('premsai', 1), ('chandrasekaran', 1), ('miranda', 1), ('t1317050h', 1), ('lorraine', 1), ('starbucks', 1), ('morinaga', 1), ('nyugyo', 1), ('40201508728t', 1), ('lorenda', 1), ('adidas', 1), ('lutong', 1), ('enterprise', 1), ('t1114593z', 1), ('t1114594h', 1), ('china', 1), ('agency', 1), ('ferrero', 1), ('dochirnie', 1), ('pidpryiemstvo', 1), ('korporatsiia', 1), ('t1308820h', 1), ('eileen', 1), ('chong', 1), ('abercrombie', 1), ('fitch', 1), ('europe', 1), ('t0503948a', 1), ('lijun', 1), ('t1212601g', 1), ('gloria', 1), ('ziying', 1), ('stora', 1), ('purinusa', 1), ('ekapersada', 1), ('pabrik', 1), ('kertas', 1), ('tjiwi', 1), ('kimia', 1), ('40201506548y', 1), ('t1205572a', 1), ('daidoh', 1), ('yorker', 1), ('jeans', 1), ('t1401233g', 1), ('eunice', 1), ('maaland', 1), ('dooyeon', 1), ('t1114738z', 1), ('janet', 1), ('worldwide', 1), ('royal', 1), ('county', 1), ('berkshire', 1), ('cheryl', 1), ('huiling', 1), ('chambers', 1), ('suresh', 1), ('damodara', 1), ('hazra', 1), ('gusttimo', 1), ('world', 1), ('requested', 1), ('cease', 1), ('existing', 1), ('sign\\xa0–\\xa0whether', 1), ('making', 1), ('groundless', 1), ('threat', 1), ('infringement', 1), ('owners\\xa0–\\xa0whether', 1), ('relation', 1), ('identical', 1), ('incapable\\xa0of', 1), ('distinguishing', 1), ('23(1)', 1), ('names\\xa0–\\xa0passing', 1), ('off\\xa0–\\xa0plaintiff', 1), ('carried', 1), ('attached', 1), ('created', 1), ('suffered', 1), ('damage', 1), ('consequence', 1), ('t1403091b', 1), ('michael', 1), ('estelle', 1), ('vicki', 1), ('apptitude', 1), ('software', 1), ('40201518266u', 1), ('sieng', 1), ('tencent', 1), ('t1101909h', 1), ('t1101910a', 1), ('japan', 1), ('morris', 1), ('evidence\\xa0–\\xa0proof', 1), ('tendered', 1), ('accounting', 1), ('corporate', 1), ('regulatory', 1), ('authority', 1), ('report', 1), ('showing', 1), ('number', 1), ('entities', 1), ('names', 1), ('contained', 1), ('denominator', 1), ('judicial', 1), ('notice', 1), ('8(2)(b)', 1), ('t1405403z', 1), ('regina', 1), ('shawn', 1), ('nigel', 1), ('xiaomi', 1), ('samuel', 1), ('huang', 1), ('clarins', 1), ('fragrance', 1), ('thierry', 1), ('mugler', 1), ('parfums', 1), ('materials', 1), ('raymund', 1), ('anthony', 1), ('formula', 1), ('meaning', 1), ('s\\xa08(2)', 1), ('extended', 1), ('public', 1), ('large', 1), ('names\\xa0–\\xa0well', 1), ('qualified', 1), ('absolute', 1), ('davinder', 1), ('appellant', 1), ('respondent', 1), ('jiawei', 1), ('darrell', 1), ('magdalene', 1), ('respondents', 1), ('appellants', 1), ('amicus', 1), ('s\\xa08(2)(b)', 1), ('section\\xa08(2)(b)', 1), ('s\\xa08(4)(b)(i)', 1), ('s\\xa08(7)(a)', 1), ('section\\xa08(7)(a)', 1), ('tort\\xa0–\\xa0passing', 1), ('activity', 1), ('sufficient', 1), ('andrew', 1), ('phang', 1), ('leong', 1), ('public\\xa0–\\xa0whether', 1), ('8(4)(a)', 1), ('error', 1), ('required', 1), ('appellate', 1), ('intervention', 1), ('warranted', 1), ('r\\xa04(2)', 1), ('rules', 1), ('2014\\xa0rev', 1), ('t1414543d', 1), ('molly', 1), ('wenqiang', 1), ('guccio', 1), ('gucci', 1), ('guccitech', 1), ('kevin', 1), ('t1202934h', 1), ('martin', 1), ('schweiger', 1), ('jacinthe', 1), ('cheah', 1), ('faith', 1), ('christie', 1), ('manson', 1), ('woods', 1), ('chritrs', 1), ('auction', 1), ('haider', 1), ('sithawalla', 1), ('rovio', 1), ('entertainment', 1), ('kimanis', 1), ('marks\\xa0–\\xa0snack', 1), ('applying', 1), ('known\\xa0–\\xa0whether', 1), ('off\\xa0–\\xa0whether', 1), ('2006\\xa0rev', 1), ('8(7)(a)', 1), ('8(7)(b)', 1), ('t1315141d', 1), ('cheng', 1), ('haridas', 1), ('projects', 1), ('t1005905c', 1), ('redsun', 1), ('hsieh', 1), ('t1005795f', 1), ('gilbert', 1), ('alvin', 1), ('t1100145h', 1), ('teresa', 1), ('henry', 1), ('shishu', 1), ('choice', 1), ('fortune', 1), ('zhishu', 1), ('glamco', 1), ('t1305626h', 1), ('trading', 1), ('chuan', 1), ('t1306610g', 1), ('jonathan', 1), ('liang', 1), ('nurul', 1), ('asyikin', 1), ('jeremiah', 1), ('40201522634s', 1), ('40201523105x', 1), ('swatch', 1), ('sa)(swatch', 1), ('originating', 1), ('summons', 1), ('aedit', 1), ('abdullah', 1), ('davidson', 1), ('stanley', 1), ('clara', 1), ('glenhill', 1), ('jamal', 1), ('abdulnaser', 1), ('mahmoud', 1), ('mahamid', 1), ('manufacturers', 1), ('(international)', 1), ('t1100008g', 1), ('zhong', 1), ('t0912371a', 1), ('winnie', 1), ('societe', 1), ('produits', 1), ('nestle', 1), ('liwayway', 1), ('aural', 1), ('similarity', 1), ('major', 1), ('factor', 1), ('present', 1), ('t0903014d', 1), ('intel', 1), ('intelsteer', 1), ('40201402247q', 1), ('burton', 1), ('t1100417a', 1), ('angeline', 1), ('carolina', 1), ('lacoste', 1), ('t1015606g', 1), ('ravindran', 1), ('associates', 1), ('donaldson', 1), ('pirelli', 1), ('t1215563g', 1), ('jaswin', 1), ('khosa', 1), ('t0705265e', 1), ('choon', 1), ('radakrishnan', 1), ('instructed', 1), ('virtus', 1), ('arthur', 1), ('converse', 1), ('southern', 1), ('rubber', 1), ('works', 1), ('t1210862j', 1), ('gretchen', 1), ('bridget', 1), ('beats', 1), ('electronics', 1), ('40201501932u', 1), ('shern', 1), ('deestone', 1), ('t0812097b', 1), ('ramdas', 1), ('proprietors', 1), ('represented', 1), ('sports', 1), ('eigerindo', 1), ('multi', 1), ('produk', 1), ('t1300669d', 1), ('candice', 1), ('consolidated', 1), ('artists', 1), ('thefaceshop', 1)]\n"
     ]
    }
   ],
   "source": [
    "print(sortedBag)\n",
    "# wordsbag = list(filter(lambda x: x[1] >=5, sortedBag))"
   ]
  },
  {
   "cell_type": "code",
   "execution_count": 162,
   "metadata": {},
   "outputs": [],
   "source": [
    "cate = 'B'\n",
    "fileNameListB = file_name_list(cate)"
   ]
  },
  {
   "cell_type": "code",
   "execution_count": 163,
   "metadata": {},
   "outputs": [],
   "source": [
    "wordsBag = []\n",
    "for fileName in fileNameList:\n",
    "    soup = read_html(fileName)\n",
    "    text = ''\n",
    "    for className in classNameList:\n",
    "        text += class_contents(soup, className) + ' '\n",
    "    text = clean_text(text, stopWords)\n",
    "    wordsBag.extend(text)\n",
    "wordsBagHist = dict(Counter(wordsBag))\n",
    "sortedBag = sorted(wordsBagHist.items(), key=operator.itemgetter(1), reverse=True)"
   ]
  },
  {
   "cell_type": "code",
   "execution_count": 164,
   "metadata": {},
   "outputs": [
    {
     "name": "stdout",
     "output_type": "stream",
     "text": [
      "[('court', 80), ('appeal', 58), ('singapore', 58), ('constitution', 56), ('republic', 54), ('criminal', 51), ('public', 45), ('constitutional', 42), ('breach', 40), ('drugs', 36), ('misuse', 34), ('civil', 32), ('prosecutor', 30), ('fiduciary', 30), ('respondent', 27), ('procedure', 25), ('contract', 22), ('company', 20), ('andrew', 19), ('leong', 19), ('mandatory', 19), ('penalty', 19), ('international', 18), ('duties', 18), ('confidential', 18), ('phang', 16), ('trafficking', 16), ('death', 16), ('singh', 16), ('2008\\xa0rev', 16), ('law\\xa0–\\xa0whether', 15), ('party', 15), ('art\\xa09(1)', 15), ('equity', 14), ('force', 14), ('personal', 14), ('other', 14), ('serious', 14), ('crimes', 14), ('2000\\xa0rev', 14), ('appellant', 13), ('interest', 13), ('property', 13), ('defendant', 13), ('information', 13), ('agreement', 12), ('power', 12), ('evidence', 12), ('cheng', 11), ('companies', 11), ('majeure', 11), ('order', 11), ('violated', 10), ('legal', 10), ('resulting', 10), ('concrete', 10), ('supply', 10), ('contact', 10), ('trust', 10), ('security', 10), ('rajah', 9), ('breached', 9), ('1985\\xa0rev', 9), ('appeals', 9), ('price', 9), ('keong', 9), ('plaintiff', 9), ('director', 9), ('caning', 9), ('internal', 9), ('discretion', 8), ('doctrine', 8), ('chong', 8), ('equitable', 8), ('rights', 8), ('seeking', 8), ('protection', 8), ('accordance', 8), ('meaning', 8), ('2001\\xa0rev', 8), ('rival', 8), ('april', 7), ('charges', 7), ('parties', 7), ('judicial', 7), ('purchase', 7), ('october', 7), ('failure', 7), ('originating', 7), ('summons', 7), ('entitled', 7), ('statutory', 7), ('making', 7), ('questions', 7), ('clause', 7), ('costs', 7), ('motion', 7), ('customary', 7), ('manufacturer', 7), ('punishment', 6), ('january', 6), ('kumar', 6), ('land\\xa0–\\xa0whether', 6), ('investment', 6), ('sundaresh', 6), ('menon', 6), ('business', 6), ('prakash', 6), ('appellants', 6), ('respondents', 6), ('minimum', 6), ('deprived', 6), ('november', 6), ('amounting', 6), ('rules', 6), ('interpretation', 6), ('subject', 6), ('directors', 6), ('courts', 6), ('unconstitutional', 6), ('properties', 6), ('judgment', 6), ('inhuman', 6), ('expression', 6), ('affairs', 6), ('exercise', 5), ('trial', 5), ('relief', 5), ('granted', 5), ('receiving', 5), ('possession', 5), ('frustrated', 5), ('performance', 5), ('export', 5), ('amounted', 5), ('challenging', 5), ('applied', 5), ('thean', 5), ('judith', 5), ('law\\xa0–\\xa0judicial', 5), ('frustration', 5), ('legislation', 5), ('proceedings', 5), ('buyer', 5), ('proceeds', 5), ('innocent', 5), ('injunction', 5), ('review', 5), ('detention', 5), ('1997\\xa0rev', 5), ('eugene', 4), ('prosecutorial', 4), ('law\\xa0–\\xa0equality', 4), ('charge', 4), ('separation', 4), ('joseph', 4), ('vessel', 4), ('holdings', 4), ('payment', 4), ('forfeiture', 4), ('contracts', 4), ('february', 4), ('payments', 4), ('limitation', 4), ('duties\\xa0–\\xa0whether', 4), ('claim', 4), ('knowing', 4), ('trustee', 4), ('money', 4), ('francis', 4), ('napier', 4), ('supplier', 4), ('agreements', 4), ('august', 4), ('contractual', 4), ('elected', 4), ('presidency', 4), ('ground', 4), ('inconsistent', 4), ('basic', 4), ('secret', 4), ('direct', 4), ('suffering', 4), ('landlord', 4), ('claiming', 4), ('employment', 4), ('appellate', 4), ('jurisdiction', 4), ('consent', 4), ('supreme', 4), ('application', 4), ('environmental', 4), ('health', 4), ('words', 4), ('principle', 4), ('law\\xa0–\\xa0equal', 4), ('equal', 4), ('prior', 4), ('power\\xa0–\\xa0whether', 4), ('abdul', 4), ('discharge', 4), ('ramakrishnan', 4), ('gledhill', 4), ('benefit', 4), ('michael', 4), ('prohibition', 4), ('crime', 4), ('confiscation', 4), ('provided', 4), ('relevant', 4), ('statements', 4), ('machines', 4), ('documents', 4), ('means', 4), ('dishonestly', 4), ('assisted', 4), ('concluded', 4), ('presumption', 4), ('commercial', 4), ('applicants', 4), ('(amendment)', 4), ('thuraisingam', 3), ('daniel', 3), ('art\\xa012(1)', 3), ('powers', 3), ('diamorphine', 3), ('conspirators', 3), ('judge', 3), ('failing', 3), ('steven', 3), ('anthony', 3), ('seismic', 3), ('provide', 3), ('incorporated', 3), ('practice', 3), ('representation', 3), ('1994\\xa0rev', 3), ('philip', 3), ('davidson', 3), ('liable', 3), ('constructive', 3), ('dishonest', 3), ('receipt', 3), ('coupled', 3), ('equity\\xa0–\\xa0whether', 3), ('terminated', 3), ('reasonable', 3), ('indonesia', 3), ('december', 3), ('damages', 3), ('contractors', 3), ('proprietary', 3), ('estoppel', 3), ('satisfied', 3), ('scheme', 3), ('structure', 3), ('district', 3), ('houses', 3), ('2006\\xa0rev', 3), ('salary', 3), ('separate', 3), ('recover', 3), ('karthigesu', 3), ('gordon', 3), ('exercising', 3), ('required', 3), ('amendment', 3), ('judicature', 3), ('1988\\xa0rev', 3), ('andre', 3), ('executive', 3), ('accorded', 3), ('offender', 3), ('obtained', 3), ('taking', 3), ('david', 3), ('march', 3), ('chargee', 3), ('common', 3), ('elias', 3), ('purchaser', 3), ('developers', 3), ('alleging', 3), ('building', 3), ('cheong', 3), ('acquisition', 3), ('fourth', 3), ('liang', 3), ('parakou', 3), ('financial', 3), ('related', 3), ('owned', 3), ('selling', 3), ('corporate', 3), ('profits', 3), ('christopher', 3), ('whether', 3), ('approach', 3), ('violet', 3), ('torture', 3), ('arbitrary', 3), ('environment', 3), ('recycling', 3), ('citiraya', 3), ('industries', 3), ('satisfy', 3), ('retention', 3), ('guarantee', 3), ('terminate', 3), ('ordered', 3), ('applying', 3), ('creditor', 3), ('human', 3), ('differentia', 3), ('included', 3), ('violating', 3), ('consular', 3), ('department', 3), ('conduct', 3), ('intention', 3), ('defendants', 3), ('remedy', 3), ('s\\xa033b(2)(b)', 3), ('justice', 3), ('conflict', 3), ('laws\\xa0–\\xa0choice', 3), ('choice', 3), ('foreign', 3), ('suang', 3), ('grounds', 3), ('amendments', 3), ('mortgagor', 3), ('lease', 3), ('shares', 3), ('applicant', 3), ('clauses', 3), ('investor', 3), ('offenders', 2), ('art\\xa093', 2), ('actions', 2), ('amount', 2), ('traffic', 2), ('alleged', 2), ('procedural', 2), ('relation', 2), ('(instructed)', 2), ('charterer', 2), ('services', 2), ('shareholder', 2), ('procuring', 2), ('charter', 2), ('original', 2), ('option', 2), ('s\\xa0391', 2), ('remedies', 2), ('alliance', 2), ('transfer', 2), ('title', 2), ('precedent', 2), ('balance', 2), ('deposit', 2), ('interests', 2), ('purchasers', 2), ('mortgagee', 2), ('siang', 2), ('winston', 2), ('trading', 2), ('salary\\xa0–\\xa0whether', 2), ('employer', 2), ('breaching', 2), ('trust\\xa0–\\xa0whether', 2), ('mental', 2), ('funds', 2), ('misappropriated', 2), ('september', 2), ('choor', 2), ('kirpal', 2), ('thian', 2), ('remain', 2), ('expectation', 2), ('acted', 2), ('licensor', 2), ('licensee', 2), ('licence', 2), ('notice', 2), ('cavinder', 2), ('kogyo', 2), ('discharged', 2), ('chandra', 2), ('mohan', 2), ('(singapore)', 2), ('originally', 2), ('economic', 2), ('unenforceable', 2), ('entered', 2), ('caused', 2), ('raised', 2), ('subsequent', 2), ('language', 2), ('standing', 2), ('art\\xa012(2)', 2), ('theng', 2), ('built', 2), ('estopped', 2), ('recovering', 2), ('tenancy', 2), ('consented', 2), ('davinder', 2), ('wyser', 2), ('beyonics', 2), ('technology', 2), ('competitors', 2), ('received', 2), ('diverting', 2), ('claims', 2), ('valid', 2), ('unjustified', 2), ('result', 2), ('owing', 2), ('it\\xa0–\\xa0whether', 2), ('parent', 2), ('reference', 2), ('alter', 2), ('fresh', 2), ('health\\xa0–\\xa0illegal', 2), ('20(5)', 2), ('amicus', 2), ('mohammad', 2), ('33a(1)(d)', 2), ('33a(1)(e)', 2), ('constituted', 2), ('legislative', 2), ('art\\xa012', 2), ('treatment', 2), ('liberty', 2), ('inherent', 2), ('land\\xa0–\\xa0sale', 2), ('completion', 2), ('obtain', 2), ('planning', 2), ('approval', 2), ('date\\xa0–\\xa0whether', 2), ('developer', 2), ('project', 2), ('invoke', 2), ('justify', 2), ('perform', 2), ('rubin', 2), ('unable', 2), ('ahmad', 2), ('conferring', 2), ('subsidiary', 2), ('rectify', 2), ('intentions', 2), ('argument', 2), ('losses', 2), ('standard', 2), ('foundation', 2), ('housing', 2), ('kenneth', 2), ('capable', 2), ('existence', 2), ('compulsory', 2), ('sixth', 2), ('justin', 2), ('facto', 2), ('parlous', 2), ('situation', 2), ('wholly', 2), ('continuing', 2), ('businesses', 2), ('account', 2), ('josephine', 2), ('parameters', 2), ('leonard', 2), ('resources', 2), ('seller', 2), ('repudiatory', 2), ('circumstances', 2), ('complying', 2), ('invoking', 2), ('drawn', 2), ('extent', 2), ('kwang', 2), ('sentenced', 2), ('deprivation', 2), ('ramesh', 2), ('ramasamy', 2), ('jeffrey', 2), ('nandwani', 2), ('manoj', 2), ('centillion', 2), ('asserting', 2), ('realise', 2), ('cdsa\\xa0–\\xa0whether', 2), ('satisfaction', 2), ('operation', 2), ('media', 2), ('advertising', 2), ('applicable', 2), ('kertar', 2), ('assert', 2), ('sought', 2), ('officer', 2), ('electronic', 2), ('scrap', 2), ('computer', 2), ('chips', 2), ('jaswant', 2), ('interpreted', 2), ('implied', 2), ('domestic', 2), ('prohibiting', 2), ('justified', 2), ('nature\\xa0–\\xa0whether', 2), ('law\\xa0–\\xa0human', 2), ('rights\\xa0–\\xa0whether', 2), ('existed', 2), ('isaac', 2), ('hanging', 2), ('universal', 2), ('declaration', 2), ('vienna', 2), ('convention', 2), ('relations', 2), ('maximum', 2), ('sentence', 2), ('quality', 2), ('interim', 2), ('period', 2), ('position', 2), ('spincasting', 2), ('express', 2), ('software', 2), ('commissioning', 2), ('commissioned', 2), ('obligation', 2), ('converted', 2), ('properly', 2), ('matter', 2), ('belinda', 2), ('ultra', 2), ('accused', 2), ('natural', 2), ('appeal\\xa0–\\xa0whether', 2), ('reopen', 2), ('orders', 2), ('defence', 2), ('counsel', 2), ('prosecution', 2), ('interfere', 2), ('facility', 2), ('country', 2), ('r\\xa016(3)', 2), ('2014\\xa0rev', 2), ('patrick', 2), ('seong', 2), ('joyce', 2), ('minister', 2), ('administrative', 2), ('habeas', 2), ('faith', 2), ('justiciable', 2), ('preventive', 2), ('peter', 2), ('aware', 2), ('exercised', 2), ('persons', 2), ('conveyancing', 2), ('molly', 2), ('melissa', 2), ('costs\\xa0–\\xa0whether', 2), ('honestly', 2), ('transferring', 2), ('rebutted', 2), ('motions', 2), ('adrian', 2), ('transferred', 2), ('subordinate', 2), ('charged', 2), ('185(1)', 2), ('effect', 2), ('arising', 2), ('society', 2), ('findings', 2), ('procure', 2), ('improper', 2), ('actionability', 2), ('action', 2), ('potential', 2), ('deceive', 2), ('false', 2), ('jerrie', 2), ('wijaya', 2), ('chuang', 2), ('33b(4)', 2), ('campos', 2), ('sending', 2), ('letters', 2), ('dennis', 1), ('darryl', 1), ('preferring', 1), ('selection', 1), ('members', 1), ('judiciary', 1), ('virtue', 1), ('formulating', 1), ('trigger', 1), ('contravened', 1), ('usurping', 1), ('function', 1), ('law\\xa0–\\xa0criminal', 1), ('amended', 1), ('found\\xa0–\\xa0whether', 1), ('incongruity', 1), ('faced', 1), ('impacted', 1), ('underlying', 1), ('erred', 1), ('follow', 1), ('safeguards', 1), ('ss\\xa0139', 1), ('recording', 1), ('joanna', 1), ('solutions', 1), ('nordic', 1), ('limited', 1), ('morten', 1), ('innhaug', 1), ('venture', 1), ('shareholders', 1), ('operate', 1), ('survey', 1), ('vessel\\xa0–\\xa0company', 1), ('chartering', 1), ('user\\xa0–\\xa0director', 1), ('negotiating', 1), ('assign', 1), ('purported', 1), ('causing', 1), ('withholding', 1), ('payable', 1), ('profiting', 1), ('intending', 1), ('profit', 1), ('vessel\\xa0–\\xa0whether', 1), ('liability', 1), ('ratified', 1), ('timothy', 1), ('harish', 1), ('metro', 1), ('equities', 1), ('westlb', 1), ('assignment', 1), ('beneficial', 1), ('condition', 1), ('discharging', 1), ('unconnected', 1), ('unconscionable', 1), ('vinodh', 1), ('coomaraswamy', 1), ('yarni', 1), ('angelina', 1), ('keppel', 1), ('tatlee', 1), ('reliance', 1), ('denied', 1), ('registered', 1), ('priority', 1), ('titles', 1), ('singa', 1), ('retnam', 1), ('tayabali', 1), ('nirmala', 1), ('ravindran', 1), ('jeyaretnam', 1), ('daryl', 1), ('burton', 1), ('kheng', 1), ('panweld', 1), ('placing', 1), ('payroll', 1), ('company\\xa0–\\xa0wife', 1), ('genuine', 1), ('approved', 1), ('actions\\xa0–\\xa0equity', 1), ('characterised', 1), ('compensation', 1), ('analogy', 1), ('1996\\xa0rev', 1), ('state\\xa0–\\xa0wife', 1), ('assistance', 1), ('dispose', 1), ('longer', 1), ('class\\xa01', 1), ('class\\xa02', 1), ('unclean', 1), ('hands', 1), ('encouragement', 1), ('expend', 1), ('xavier', 1), ('muthu', 1), ('choon', 1), ('avinash', 1), ('istyana', 1), ('ibrahim', 1), ('sheng', 1), ('colin', 1), ('rajaram', 1), ('vikram', 1), ('banned\\xa0–\\xa0supply', 1), ('banned\\xa0–\\xa0whether', 1), ('jesudevan', 1), ('chung', 1), ('khoon', 1), ('jasmin', 1), ('holcim', 1), ('construction', 1), ('terms\\xa0–\\xa0express', 1), ('terms\\xa0–\\xa0', 1), ('\\xa0–\\xa0contract', 1), ('duress', 1), ('valuable', 1), ('consideration', 1), ('steps', 1), ('mitigate', 1), ('pillai', 1), ('kelvin', 1), ('shiok', 1), ('precision', 1), ('terms\\xa0–\\xa0whether', 1), ('conferred', 1), ('exist', 1), ('alongside', 1), ('formal', 1), ('displaced', 1), ('term\\xa0–\\xa0whether', 1), ('rectification', 1), ('mistake', 1), ('summonses', 1), ('deputy', 1), ('aurill', 1), ('germaine', 1), ('jamie', 1), ('madasamy', 1), ('arguing', 1), ('art\\xa019', 1), ('art\\xa019b', 1), ('stand', 1), ('formed', 1), ('doris', 1), ('damaris', 1), ('marilyn', 1), ('oommen', 1), ('mathew', 1), ('victim', 1), ('damage', 1), ('deceit\\xa0–\\xa0whether', 1), ('basis', 1), ('ownership', 1), ('ganesan', 1), ('carlose', 1), ('induced', 1), ('encouraged', 1), ('tenant', 1), ('construct', 1), ('leases\\xa0–\\xa0tenant', 1), ('land\\xa0–\\xa0landlord', 1), ('vacant', 1), ('jaikanth', 1), ('alcina', 1), ('jedidiah', 1), ('yihui', 1), ('kristy', 1), ('capital', 1), ('supplied', 1), ('baseplate', 1), ('component', 1), ('drives', 1), ('close', 1), ('customer', 1), ('suppliers', 1), ('wrongfully', 1), ('expense', 1), ('law\\xa0–\\xa0contract', 1), ('tendered', 1), ('resignation', 1), ('reclaimable', 1), ('personality', 1), ('concept', 1), ('single', 1), ('entity', 1), ('sowaran', 1), ('garmaz', 1), ('pakhar', 1), ('charge\\xa0–\\xa0limits', 1), ('charge\\xa0–\\xa0whether', 1), ('1993\\xa0rev', 1), ('of\\xa0–\\xa0whether', 1), ('court\\xa0–\\xa0extent', 1), ('shaiffudin', 1), ('saruwan', 1), ('teong', 1), ('dumping\\xa0–\\xa0order', 1), ('20(1)', 1), ('special', 1), ('seraphina', 1), ('jeremy', 1), ('shenglong', 1), ('faizal', 1), ('sabtu', 1), ('powers\\xa0–\\xa0whether', 1), ('embodied', 1), ('s\\xa033a(1)(a)', 1), ('impermissible', 1), ('intrusion', 1), ('subjecting', 1), ('admissions', 1), ('rehabilitation', 1), ('centre', 1), ('manifestly', 1), ('disproportionate', 1), ('imposition', 1), ('sentencing', 1), ('pheng', 1), ('marina', 1), ('raymond', 1), ('cheung', 1), ('investments', 1), ('development', 1), ('land\\xa0–\\xa0condition', 1), ('rescinded', 1), ('advantage', 1), ('wrong', 1), ('subcontractor', 1), ('subcontract', 1), ('providing', 1), ('contingency', 1), ('mohideen', 1), ('rasheed', 1), ('proceed', 1), ('trial\\xa0–\\xa0whether', 1), ('discretionary', 1), ('prosecute', 1), ('townsing', 1), ('henry', 1), ('george', 1), ('jenton', 1), ('overseas', 1), ('conflicting', 1), ('reflect', 1), ('reflective', 1), ('introduced', 1), ('initiative', 1), ('engelin', 1), ('harry', 1), ('chris', 1), ('yumianto', 1), ('consequence', 1), ('severe', 1), ('instalments', 1), ('fails', 1), ('instalment', 1), ('completed', 1), ('refers', 1), ('entire', 1), ('unit\\xa0–\\xa0form', 1), ('maker', 1), ('called', 1), ('testify', 1), ('question', 1), ('dealt', 1), ('summary', 1), ('warren', 1), ('sheriffa', 1), ('taibah', 1), ('rahman', 1), ('land\\xa0–\\xa0test', 1), ('1970\\xa0rev', 1), ('convey', 1), ('siraj', 1), ('premalatha', 1), ('silwaraju', 1), ('natalie', 1), ('huang', 1), ('chambers', 1), ('edwin', 1), ('nigel', 1), ('rebecca', 1), ('shipmanagement', 1), ('shipping', 1), ('jianguo', 1), ('\\xa0–\\xa0president', 1), ('managerial', 1), ('implementing', 1), ('board', 1), ('bonus', 1), ('increases', 1), ('repaying', 1), ('debts', 1), ('incurring', 1), ('commencing', 1), ('stave', 1), ('unlawful', 1), ('substantial', 1), ('vehicle', 1), ('stepping', 1), ('divesting', 1), ('shareholdings', 1), ('wield', 1), ('influence', 1), ('shadow', 1), ('insolvency', 1), ('law\\xa0–\\xa0avoidance', 1), ('undervalue', 1), ('transactions', 1), ('reddy', 1), ('jasbendar', 1), ('bridges', 1), ('nature', 1), ('stated', 1), ('conviction', 1), ('quashed', 1), ('case\\xa0–\\xa0power', 1), ('refer', 1), ('rajendran', 1), ('manjit', 1), ('samuel', 1), ('chacko', 1), ('magenta', 1), ('china', 1), ('goods\\xa0–\\xa0whether', 1), ('goods\\xa0–\\xa0contract', 1), ('extending', 1), ('god\\xa0–\\xa0political', 1), ('upheaval', 1), ('deliver', 1), ('goods', 1), ('calling', 1), ('falling', 1), ('ambit', 1), ('requirements', 1), ('mabel', 1), ('distinction', 1), ('finding', 1), ('drawing', 1), ('inference', 1), ('house', 1), ('expended', 1), ('house\\xa0–\\xa0whether', 1), ('permanently', 1), ('protected', 1), ('occupation', 1), ('take\\xa0–\\xa0whether', 1), ('established', 1), ('sarala', 1), ('subramaniam', 1), ('scott', 1), ('exclusion', 1), ('50\\xa0years', 1), ('women', 1), ('caning\\xa0–\\xa0whether', 1), ('impermissibly', 1), ('discriminates', 1), ('50\\xa0–\\xa0whether', 1), ('15\\xa0strokes', 1), ('cane\\xa0–\\xa0whether', 1), ('contrary', 1), ('unenumerated', 1), ('right\\xa0–\\xa0whether', 1), ('irrational', 1), ('shannon', 1), ('third', 1), ('instituting', 1), ('succeeded', 1), ('execute', 1), ('donee', 1), ('realisable', 1), ('ziliang', 1), ('sunil', 1), ('mabelle', 1), ('jiahui', 1), ('nimbus', 1), ('retained', 1), ('restitutionary', 1), ('principles', 1), ('payer', 1), ('ching', 1), ('stanley', 1), ('hakam', 1), ('guljar', 1), ('sandhu', 1), ('chwee', 1), ('carrying', 1), ('investigated', 1), ('offences', 1), ('coming', 1), ('whereabouts', 1), ('unknown', 1), ('efforts', 1), ('locate', 1), ('him\\xa0–\\xa0direct', 1), ('produced', 1), ('benefits', 1), ('conduct\\xa0–\\xa0public', 1), ('s\\xa05(1)', 1), ('definition', 1), ('derived', 1), ('s\\xa08(1)(a)', 1), ('8(1)(a)', 1), ('realisation', 1), ('enforcement', 1), ('cdsa\\xa0–\\xa0sections', 1), ('12(8)', 1), ('chief', 1), ('president', 1), ('entrusted', 1), ('misappropriating', 1), ('them\\xa0–\\xa0whether', 1), ('traceable', 1), ('walter', 1), ('davinia', 1), ('norms', 1), ('consistently', 1), ('distinctions', 1), ('trafficked', 1), ('amounts', 1), ('intelligible', 1), ('rational', 1), ('social', 1), ('object', 1), ('expressly', 1), ('impliedly', 1), ('prohibited', 1), ('interpret', 1), ('considered', 1), ('inclusion', 1), ('rejected', 1), ('needed', 1), ('regarded', 1), ('enacted', 1), ('statutes', 1), ('include', 1), ('prescribing', 1), ('validity', 1), ('extensive', 1), ('virtually', 1), ('uniform', 1), ('state', 1), ('opinio', 1), ('juris', 1), ('necessitatis', 1), ('supporting', 1), ('theseira', 1), ('shane', 1), ('kuang', 1), ('nguyen', 1), ('tuong', 1), ('constituting', 1), ('cruel', 1), ('art\\xa05', 1), ('enshrined', 1), ('law\\xa0–\\xa0statutory', 1), ('access', 1), ('recorded', 1), ('art\\xa036(1)', 1), ('1963\\xa0–\\xa0whether', 1), ('contents', 1), ('cautioned', 1), ('statement', 1), ('law\\xa0–\\xa0article\\xa05', 1), ('act\\xa0–\\xa0purposive', 1), ('intent', 1), ('parliament', 1), ('statutes\\xa0–\\xa0death', 1), ('act\\xa0\\xa0–\\xa0whether', 1), ('nadia', 1), ('crystal', 1), ('douglas', 1), ('palmer', 1), ('ninth', 1), ('jason', 1), ('melvin', 1), ('seventh', 1), ('eighth', 1), ('clearlab', 1), ('rathinaraj', 1), ('aquilus', 1), ('central', 1), ('global', 1), ('cencorp', 1), ('engineering', 1), ('yuexin', 1), ('supplying', 1), ('merchantable', 1), ('trial\\xa0–\\xa0contact', 1), ('permanent', 1), ('future', 1), ('wrotham', 1), ('confidence', 1), ('began', 1), ('onwards', 1), ('arise', 1), ('senior', 1), ('possessing', 1), ('employees', 1), ('exposed', 1), ('work\\xa0–\\xa0whether', 1), ('demonstrated', 1), ('propensity', 1), ('difficulty', 1), ('enforcing', 1), ('continued', 1), ('blanket', 1), ('protect', 1), ('covenant', 1), ('restraining', 1), ('short', 1), ('trade', 1), ('acquiring', 1), ('profiling', 1), ('independent', 1), ('modify', 1), ('existing', 1), ('design', 1), ('possessed', 1), ('unauthorised', 1), ('individually', 1), ('proved', 1), ('combined', 1), ('steal', 1), ('conspired', 1), ('casts', 1), ('found', 1), ('premises', 1), ('inducement', 1), ('obtaining', 1), ('exploit', 1), ('founder', 1), ('promise', 1), ('higher', 1), ('shares\\xa0–\\xa0whether', 1), ('request', 1), ('receipt\\xa0–\\xa0rival', 1), ('rupert', 1), ('senthilkumaran', 1), ('sabapathy', 1), ('kahar', 1), ('othman', 1), ('vires', 1), ('usurpation', 1), ('law\\xa0–\\xa0natural', 1), ('reopening', 1), ('succeed', 1), ('appeal\\xa0–\\xa0power', 1), ('jabing', 1), ('applications', 1), ('urging', 1), ('amaladass', 1), ('arjan', 1), ('informing', 1), ('decision', 1), ('recommencement', 1), ('336(1)', 1), ('tiang', 1), ('shanmugan', 1), ('anand', 1), ('bayerische', 1), ('landesbank', 1), ('girozentrale', 1), ('connecting', 1), ('factors', 1), ('proper', 1), ('effective', 1), ('legal\\xa0–\\xa0whether', 1), ('purpose', 1), ('avoid', 1), ('illegal', 1), ('malaysian', 1), ('performed', 1), ('comity', 1), ('allegedly', 1), ('moneylending', 1), ('control', 1), ('(revised–1969)', 1), ('(revised–1989)', 1), ('deborah', 1), ('barker', 1), ('ushan', 1), ('premaratne', 1), ('junyi', 1), ('aedit', 1), ('abdullah', 1), ('xiulin', 1), ('jurena', 1), ('lester', 1), ('roslina', 1), ('review\\xa0–\\xa0writ', 1), ('national', 1), ('allegation', 1), ('notwithstanding', 1), ('inconsistency', 1), ('fundamental', 1), ('features', 1), ('law\\xa0–\\xa0amendments', 1), ('emergency', 1), ('provisions', 1), ('discriminatory', 1), ('law\\xa0–\\xa0article\\xa012', 1), ('fides', 1), ('context', 1), ('salehah', 1), ('johari', 1), ('joharah', 1), ('wahab', 1), ('bekerjasama', 1), ('perumahan', 1), ('kebangsaan', 1), ('land\\xa0–\\xa0party', 1), ('claimed', 1), ('mortgaged', 1), ('lessee\\xa0–\\xa0lessor', 1), ('pursuant', 1), ('lessor', 1), ('deemed', 1), ('sale\\xa0–\\xa0whether', 1), ('default', 1), ('evidencing', 1), ('malay', 1), ('instrument', 1), ('effectual', 1), ('land\\xa0–\\xa0interest', 1), ('land\\xa0–\\xa0owner', 1), ('mortgage', 1), ('conveyed', 1), ('binds', 1), ('it\\xa0–\\xa0mortgagee', 1), ('acquired', 1), ('30(2)', 1), ('carren', 1), ('thung', 1), ('rodyk', 1), ('keith', 1), ('qiuyu', 1), ('desmond', 1), ('advisors', 1), ('litigant', 1), ('indemnity', 1), ('refusing', 1), ('removing', 1), ('beneficiaries', 1), ('positions', 1), ('depriving', 1), ('beneficiary', 1), ('office', 1), ('space', 1), ('trustees', 1), ('beneficially', 1), ('favour', 1), ('admissible', 1), ('trusts\\xa0–\\xa0express', 1), ('forgery', 1), ('notes\\xa0–\\xa0whether', 1), ('notes', 1), ('forged', 1), ('trusts\\xa0–\\xa0asset', 1), ('funded', 1), ('loan\\xa0–\\xa0no', 1), ('clear', 1), ('repaid\\xa0–\\xa0whether', 1), ('trusts\\xa0–\\xa0father', 1), ('allotting', 1), ('directing', 1), ('transfers', 1), ('objectively', 1), ('advancement', 1), ('rebut', 1), ('share', 1), ('eldest', 1), ('hamidul', 1), ('jansen', 1), ('sambo', 1), ('krishnasamy', 1), ('warranty', 1), ('entitling', 1), ('excluded', 1), ('incurred', 1), ('party\\xa0–\\xa0whether', 1), ('flowing', 1), ('directly', 1), ('naturally', 1), ('krishnan', 1), ('balagopal', 1), ('katherine', 1), ('compromise', 1), ('supervened', 1), ('previous', 1), ('forward', 1), ('maxim', 1), ('seeks', 1), ('janus', 1), ('unrepresented', 1), ('estate', 1), ('claim\\xa0–\\xa0whether', 1), ('adopt', 1), ('assessing', 1), ('arisen', 1), ('muralidharan', 1), ('soong', 1), ('julian', 1), ('jerome', 1), ('robert', 1), ('darius', 1), ('bragassam', 1), ('phyllis', 1), ('founded', 1), ('entrapment', 1), ('abuse', 1), ('process', 1), ('warranting', 1), ('private', 1), ('reject', 1), ('terms', 1), ('summit', 1), ('ltd\\xa0v', 1), ('pp\\xa0–\\xa0exception', 1), ('smsummitholdings', 1), ('reconsidered', 1), ('fact\\xa0\\xa0–\\xa0when', 1), ('three', 1), ('judges', 1), ('inadmissible', 1), ('illegally', 1), ('improperly', 1), ('motive', 1), ('instigating', 1), ('sting', 1), ('action\\xa0–\\xa0lawyer', 1), ('attempting', 1), ('offering', 1), ('monetary', 1), ('reward', 1), ('individuals', 1), ('referring', 1), ('her\\xa0–\\xa0lawyer', 1), ('pleaded', 1), ('guilty', 1), ('grossly', 1), ('professional', 1), ('brought', 1), ('light', 1), ('mitigating', 1), ('83(2)(h)', 1), ('profession', 1), ('facilitative', 1), ('jacob', 1), ('beloff', 1), ('vincent', 1), ('of\\xa0–\\xa0detainee', 1), ('corpus\\xa0–\\xa0whether', 1), ('reviewed', 1), ('irrationality', 1), ('vires\\xa0–\\xa0whether', 1), ('sufficiency', 1), ('relevancy', 1), ('issues', 1), ('amending', 1), ('limiting', 1), ('scope', 1), ('cases\\xa0–\\xa0whether', 1), ('altered', 1), ('alvin', 1), ('xinping', 1), ('debra', 1), ('haridass', 1), ('ajaib', 1), ('haireez', 1), ('marinteknik', 1), ('shipbuilders', 1), ('rule\\xa0–\\xa0tort', 1), ('pleading', 1), ('raising', 1), ('issue', 1), ('dismissed', 1), ('plead', 1), ('taiwan', 1), ('participating', 1), ('banks', 1), ('financing', 1), ('creation', 1), ('combination', 1), ('mislead', 1), ('contemplated', 1), ('element', 1), ('shipbuilder', 1), ('kwong', 1), ('prabagaran', 1), ('srivijayan', 1), ('nagaenthran', 1), ('dharmalingam', 1), ('muhammad', 1), ('ridzuan', 1), ('jeefrey', 1), ('jamil', 1), ('ss\\xa033b(2)(b)', 1), ('respective', 1), ('sentences', 1), ('godwin', 1), ('gilbert', 1), ('bryan', 1), ('gopalan', 1), ('raman', 1), ('(asia)', 1), ('(shanghai)', 1), ('customers', 1), ('paying', 1), ('commissions', 1), ('assisting', 1), ('assistant', 1), ('alternative', 1), ('acting', 1), ('concert', 1), ('unlawfully', 1), ('conspire', 1), ('furtherance', 1), ('conspiracy', 1), ('roderick', 1), ('martin', 1), ('indranee', 1), ('sabnani', 1), ('tokuhon', 1), ('(pte)', 1), ('duties\\xa0–\\xa0relief', 1), ('s\\xa0391(1)', 1), ('detailing', 1), ('conflicts', 1), ('habit', 1), ('disclosing', 1), ('distributorship', 1), ('subsequently', 1), ('awarded', 1), ('duty\\xa0–\\xa0correct', 1), ('determine', 1)]\n"
     ]
    }
   ],
   "source": [
    "print(sortedBag)"
   ]
  },
  {
   "cell_type": "code",
   "execution_count": 189,
   "metadata": {},
   "outputs": [],
   "source": [
    "wordsBagA = ['trade','marks','intellectual','property','opponents', 'company', 'likelyhood', 'proprietor', 'similar', 'confusion','unregistered', 'copyright']"
   ]
  },
  {
   "cell_type": "code",
   "execution_count": 190,
   "metadata": {},
   "outputs": [],
   "source": [
    "wordsBagB = ['constitution', 'criminal', 'public', 'constitutional', 'breach', 'drugs', 'misuse', 'fiduciary', 'contract', 'penalty', 'death', 'crimes', 'evidence']"
   ]
  },
  {
   "cell_type": "code",
   "execution_count": 191,
   "metadata": {},
   "outputs": [
    {
     "name": "stdout",
     "output_type": "stream",
     "text": [
      "12 13\n"
     ]
    }
   ],
   "source": [
    "print(len(wordsBagA), len(wordsBagB))"
   ]
  },
  {
   "cell_type": "code",
   "execution_count": 192,
   "metadata": {},
   "outputs": [],
   "source": [
    "wordsBagCombined = set(wordsBagA) | set(wordsBagB)"
   ]
  },
  {
   "cell_type": "code",
   "execution_count": 193,
   "metadata": {},
   "outputs": [
    {
     "name": "stdout",
     "output_type": "stream",
     "text": [
      "{'likelyhood', 'breach', 'trade', 'evidence', 'property', 'public', 'opponents', 'constitution', 'fiduciary', 'confusion', 'crimes', 'copyright', 'intellectual', 'misuse', 'death', 'marks', 'constitutional', 'unregistered', 'contract', 'drugs', 'proprietor', 'similar', 'penalty', 'company', 'criminal'} 25\n"
     ]
    }
   ],
   "source": [
    "print(wordsBagCombined, len(wordsBagCombined))"
   ]
  },
  {
   "cell_type": "code",
   "execution_count": null,
   "metadata": {},
   "outputs": [],
   "source": []
  }
 ],
 "metadata": {
  "kernelspec": {
   "display_name": "Python 3",
   "language": "python",
   "name": "python3"
  },
  "language_info": {
   "codemirror_mode": {
    "name": "ipython",
    "version": 3
   },
   "file_extension": ".py",
   "mimetype": "text/x-python",
   "name": "python",
   "nbconvert_exporter": "python",
   "pygments_lexer": "ipython3",
   "version": "3.6.8"
  }
 },
 "nbformat": 4,
 "nbformat_minor": 2
}
