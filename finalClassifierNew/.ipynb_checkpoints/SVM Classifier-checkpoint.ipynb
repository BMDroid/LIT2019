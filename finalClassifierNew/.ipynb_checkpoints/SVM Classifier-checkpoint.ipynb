{
 "cells": [
  {
   "cell_type": "code",
   "execution_count": 6,
   "metadata": {},
   "outputs": [],
   "source": [
    "%matplotlib inline"
   ]
  },
  {
   "cell_type": "code",
   "execution_count": 7,
   "metadata": {},
   "outputs": [],
   "source": [
    "import numpy as np\n",
    "import pandas as pd\n",
    "import matplotlib.pyplot as plt\n",
    "import tensorflow as tf"
   ]
  },
  {
   "cell_type": "code",
   "execution_count": 8,
   "metadata": {},
   "outputs": [],
   "source": [
    "df = pd.read_csv('data.csv')"
   ]
  },
  {
   "cell_type": "code",
   "execution_count": 9,
   "metadata": {},
   "outputs": [
    {
     "data": {
      "text/plain": [
       "(101, 26)"
      ]
     },
     "execution_count": 9,
     "metadata": {},
     "output_type": "execute_result"
    }
   ],
   "source": [
    "df.shape"
   ]
  },
  {
   "cell_type": "code",
   "execution_count": 36,
   "metadata": {},
   "outputs": [],
   "source": [
    "df = df.sort_values(by=['Label'])"
   ]
  },
  {
   "cell_type": "code",
   "execution_count": 11,
   "metadata": {},
   "outputs": [
    {
     "data": {
      "text/html": [
       "<div>\n",
       "<style scoped>\n",
       "    .dataframe tbody tr th:only-of-type {\n",
       "        vertical-align: middle;\n",
       "    }\n",
       "\n",
       "    .dataframe tbody tr th {\n",
       "        vertical-align: top;\n",
       "    }\n",
       "\n",
       "    .dataframe thead th {\n",
       "        text-align: right;\n",
       "    }\n",
       "</style>\n",
       "<table border=\"1\" class=\"dataframe\">\n",
       "  <thead>\n",
       "    <tr style=\"text-align: right;\">\n",
       "      <th></th>\n",
       "      <th># likelyhood</th>\n",
       "      <th>breach</th>\n",
       "      <th>trade</th>\n",
       "      <th>evidence</th>\n",
       "      <th>property</th>\n",
       "      <th>public</th>\n",
       "      <th>opponents</th>\n",
       "      <th>constitution</th>\n",
       "      <th>fiduciary</th>\n",
       "      <th>confusion</th>\n",
       "      <th>...</th>\n",
       "      <th>constitutional</th>\n",
       "      <th>unregistered</th>\n",
       "      <th>contract</th>\n",
       "      <th>drugs</th>\n",
       "      <th>proprietor</th>\n",
       "      <th>similar</th>\n",
       "      <th>penalty</th>\n",
       "      <th>company</th>\n",
       "      <th>criminal</th>\n",
       "      <th>Label</th>\n",
       "    </tr>\n",
       "  </thead>\n",
       "  <tbody>\n",
       "    <tr>\n",
       "      <th>0</th>\n",
       "      <td>0</td>\n",
       "      <td>0</td>\n",
       "      <td>1</td>\n",
       "      <td>0</td>\n",
       "      <td>1</td>\n",
       "      <td>0</td>\n",
       "      <td>1</td>\n",
       "      <td>0</td>\n",
       "      <td>0</td>\n",
       "      <td>0</td>\n",
       "      <td>...</td>\n",
       "      <td>0</td>\n",
       "      <td>0</td>\n",
       "      <td>0</td>\n",
       "      <td>0</td>\n",
       "      <td>0</td>\n",
       "      <td>0</td>\n",
       "      <td>0</td>\n",
       "      <td>1</td>\n",
       "      <td>0</td>\n",
       "      <td>1</td>\n",
       "    </tr>\n",
       "    <tr>\n",
       "      <th>1</th>\n",
       "      <td>0</td>\n",
       "      <td>0</td>\n",
       "      <td>1</td>\n",
       "      <td>0</td>\n",
       "      <td>1</td>\n",
       "      <td>0</td>\n",
       "      <td>1</td>\n",
       "      <td>0</td>\n",
       "      <td>0</td>\n",
       "      <td>0</td>\n",
       "      <td>...</td>\n",
       "      <td>0</td>\n",
       "      <td>0</td>\n",
       "      <td>0</td>\n",
       "      <td>0</td>\n",
       "      <td>0</td>\n",
       "      <td>0</td>\n",
       "      <td>0</td>\n",
       "      <td>0</td>\n",
       "      <td>0</td>\n",
       "      <td>1</td>\n",
       "    </tr>\n",
       "    <tr>\n",
       "      <th>2</th>\n",
       "      <td>0</td>\n",
       "      <td>0</td>\n",
       "      <td>1</td>\n",
       "      <td>0</td>\n",
       "      <td>1</td>\n",
       "      <td>0</td>\n",
       "      <td>0</td>\n",
       "      <td>0</td>\n",
       "      <td>0</td>\n",
       "      <td>0</td>\n",
       "      <td>...</td>\n",
       "      <td>0</td>\n",
       "      <td>0</td>\n",
       "      <td>0</td>\n",
       "      <td>0</td>\n",
       "      <td>0</td>\n",
       "      <td>0</td>\n",
       "      <td>0</td>\n",
       "      <td>0</td>\n",
       "      <td>0</td>\n",
       "      <td>1</td>\n",
       "    </tr>\n",
       "    <tr>\n",
       "      <th>3</th>\n",
       "      <td>0</td>\n",
       "      <td>0</td>\n",
       "      <td>1</td>\n",
       "      <td>0</td>\n",
       "      <td>1</td>\n",
       "      <td>0</td>\n",
       "      <td>1</td>\n",
       "      <td>0</td>\n",
       "      <td>0</td>\n",
       "      <td>0</td>\n",
       "      <td>...</td>\n",
       "      <td>0</td>\n",
       "      <td>0</td>\n",
       "      <td>0</td>\n",
       "      <td>0</td>\n",
       "      <td>0</td>\n",
       "      <td>0</td>\n",
       "      <td>0</td>\n",
       "      <td>0</td>\n",
       "      <td>0</td>\n",
       "      <td>1</td>\n",
       "    </tr>\n",
       "    <tr>\n",
       "      <th>4</th>\n",
       "      <td>0</td>\n",
       "      <td>0</td>\n",
       "      <td>1</td>\n",
       "      <td>0</td>\n",
       "      <td>1</td>\n",
       "      <td>0</td>\n",
       "      <td>0</td>\n",
       "      <td>0</td>\n",
       "      <td>0</td>\n",
       "      <td>0</td>\n",
       "      <td>...</td>\n",
       "      <td>0</td>\n",
       "      <td>0</td>\n",
       "      <td>0</td>\n",
       "      <td>0</td>\n",
       "      <td>0</td>\n",
       "      <td>0</td>\n",
       "      <td>0</td>\n",
       "      <td>0</td>\n",
       "      <td>0</td>\n",
       "      <td>1</td>\n",
       "    </tr>\n",
       "  </tbody>\n",
       "</table>\n",
       "<p>5 rows × 26 columns</p>\n",
       "</div>"
      ],
      "text/plain": [
       "   # likelyhood  breach  trade  evidence  property  public  opponents  \\\n",
       "0             0       0      1         0         1       0          1   \n",
       "1             0       0      1         0         1       0          1   \n",
       "2             0       0      1         0         1       0          0   \n",
       "3             0       0      1         0         1       0          1   \n",
       "4             0       0      1         0         1       0          0   \n",
       "\n",
       "   constitution  fiduciary  confusion  ...  constitutional  unregistered  \\\n",
       "0             0          0          0  ...               0             0   \n",
       "1             0          0          0  ...               0             0   \n",
       "2             0          0          0  ...               0             0   \n",
       "3             0          0          0  ...               0             0   \n",
       "4             0          0          0  ...               0             0   \n",
       "\n",
       "   contract  drugs  proprietor  similar  penalty  company  criminal  Label  \n",
       "0         0      0           0        0        0        1         0      1  \n",
       "1         0      0           0        0        0        0         0      1  \n",
       "2         0      0           0        0        0        0         0      1  \n",
       "3         0      0           0        0        0        0         0      1  \n",
       "4         0      0           0        0        0        0         0      1  \n",
       "\n",
       "[5 rows x 26 columns]"
      ]
     },
     "execution_count": 11,
     "metadata": {},
     "output_type": "execute_result"
    }
   ],
   "source": [
    "df.head()"
   ]
  },
  {
   "cell_type": "code",
   "execution_count": 16,
   "metadata": {},
   "outputs": [
    {
     "data": {
      "text/plain": [
       "<matplotlib.legend.Legend at 0xb27a96e10>"
      ]
     },
     "execution_count": 16,
     "metadata": {},
     "output_type": "execute_result"
    },
    {
     "data": {
      "image/png": "[encoded data removed]",
      "text/plain": [
       "<Figure size 432x288 with 1 Axes>"
      ]
     },
     "metadata": {
      "needs_background": "light"
     },
     "output_type": "display_data"
    }
   ],
   "source": [
    "plt.scatter(df[:50].trade, df[:50].constitution, label='Non-Trade mark')\n",
    "plt.scatter(df[50:].trade, df[50:].constitution, label='Trade Mark')\n",
    "plt.xlabel('trade')\n",
    "plt.ylabel('constitution')\n",
    "plt.legend(loc='best')"
   ]
  },
  {
   "cell_type": "code",
   "execution_count": 17,
   "metadata": {},
   "outputs": [],
   "source": [
    "X = df.drop(labels=['Label'], axis=1).values\n",
    "Y = df.Label.values"
   ]
  },
  {
   "cell_type": "code",
   "execution_count": 18,
   "metadata": {},
   "outputs": [],
   "source": [
    "seed = 5\n",
    "np.random.seed(seed)\n",
    "tf.set_random_seed(seed)"
   ]
  },
  {
   "cell_type": "code",
   "execution_count": 19,
   "metadata": {},
   "outputs": [],
   "source": [
    "trainIndex = np.random.choice(len(X), round(len(X) * 0.8), replace=False)"
   ]
  },
  {
   "cell_type": "code",
   "execution_count": 20,
   "metadata": {},
   "outputs": [],
   "source": [
    "testIndex = np.array(list(set(range(len(X))) - set(trainIndex)))\n",
    "trainX = X[trainIndex]\n",
    "trainY = Y[trainIndex]\n",
    "testX = X[testIndex]\n",
    "testY = Y[testIndex]"
   ]
  },
  {
   "cell_type": "code",
   "execution_count": 21,
   "metadata": {},
   "outputs": [],
   "source": [
    "W = tf.Variable(tf.random_normal(shape=[25, 1]), name='W')\n",
    "b = tf.Variable(tf.random_normal(shape=[1, 1]), name= 'b')\n",
    "init = tf.global_variables_initializer()"
   ]
  },
  {
   "cell_type": "code",
   "execution_count": 22,
   "metadata": {},
   "outputs": [],
   "source": [
    "data = tf.placeholder(dtype=tf.float32, shape=[None, 25])\n",
    "target = tf.placeholder(dtype=tf.float32, shape=[None, 1])"
   ]
  },
  {
   "cell_type": "code",
   "execution_count": 23,
   "metadata": {},
   "outputs": [],
   "source": [
    "model = tf.matmul(data, W) + b"
   ]
  },
  {
   "cell_type": "code",
   "execution_count": 24,
   "metadata": {},
   "outputs": [],
   "source": [
    "# l2 norm\n",
    "l2_norm = tf.reduce_sum(tf.square(W))"
   ]
  },
  {
   "cell_type": "code",
   "execution_count": 25,
   "metadata": {},
   "outputs": [],
   "source": [
    "# loss function\n",
    "alpha = tf.constant([0.01])\n",
    "# margin term in loss\n",
    "classification_term = tf.reduce_mean(tf.maximum(0., tf.subtract(1., tf.multiply(model, target))))\n",
    "# loss\n",
    "loss = tf.add(classification_term, tf.multiply(alpha, l2_norm))"
   ]
  },
  {
   "cell_type": "code",
   "execution_count": 26,
   "metadata": {},
   "outputs": [],
   "source": [
    "prediction = tf.sign(model)\n",
    "accuracy = tf.reduce_mean(tf.cast(tf.equal(prediction, target), tf.float32))"
   ]
  },
  {
   "cell_type": "code",
   "execution_count": 27,
   "metadata": {},
   "outputs": [],
   "source": [
    "optimizer = tf.train.GradientDescentOptimizer(0.01)\n",
    "goal = optimizer.minimize(loss)"
   ]
  },
  {
   "cell_type": "code",
   "execution_count": 28,
   "metadata": {},
   "outputs": [],
   "source": [
    "batch_size = 10\n",
    "iter_num = 1000"
   ]
  },
  {
   "cell_type": "code",
   "execution_count": 29,
   "metadata": {},
   "outputs": [],
   "source": [
    "loss_trace = []\n",
    "train_acc = []\n",
    "test_acc = []"
   ]
  },
  {
   "cell_type": "code",
   "execution_count": 30,
   "metadata": {},
   "outputs": [],
   "source": [
    "sess = tf.Session()\n",
    "sess.run(init)"
   ]
  },
  {
   "cell_type": "code",
   "execution_count": 31,
   "metadata": {},
   "outputs": [
    {
     "name": "stdout",
     "output_type": "stream",
     "text": [
      "30 Epoch: (loss: [0.33040744] train_acc: 0.8271605 test_acc: 0.75)\n",
      "60 Epoch: (loss: [0.519143] train_acc: 0.8271605 test_acc: 0.75)\n",
      "90 Epoch: (loss: [0.9138305] train_acc: 0.83950615 test_acc: 0.75)\n",
      "120 Epoch: (loss: [1.0033667] train_acc: 0.83950615 test_acc: 0.75)\n",
      "150 Epoch: (loss: [0.5252076] train_acc: 0.9259259 test_acc: 0.9)\n",
      "180 Epoch: (loss: [0.23483497] train_acc: 0.9259259 test_acc: 0.9)\n",
      "210 Epoch: (loss: [0.61186326] train_acc: 0.9259259 test_acc: 0.9)\n",
      "240 Epoch: (loss: [0.59292084] train_acc: 0.9259259 test_acc: 0.9)\n",
      "270 Epoch: (loss: [0.4622388] train_acc: 0.962963 test_acc: 0.95)\n",
      "300 Epoch: (loss: [0.26787913] train_acc: 0.97530866 test_acc: 1.0)\n",
      "330 Epoch: (loss: [0.40352577] train_acc: 1.0 test_acc: 1.0)\n",
      "360 Epoch: (loss: [0.50586087] train_acc: 1.0 test_acc: 1.0)\n",
      "390 Epoch: (loss: [0.34980136] train_acc: 1.0 test_acc: 1.0)\n",
      "420 Epoch: (loss: [0.21584958] train_acc: 1.0 test_acc: 1.0)\n",
      "450 Epoch: (loss: [0.45883736] train_acc: 1.0 test_acc: 1.0)\n",
      "480 Epoch: (loss: [0.21838161] train_acc: 1.0 test_acc: 1.0)\n",
      "510 Epoch: (loss: [0.26414254] train_acc: 1.0 test_acc: 1.0)\n",
      "540 Epoch: (loss: [0.26042503] train_acc: 1.0 test_acc: 1.0)\n",
      "570 Epoch: (loss: [0.3050929] train_acc: 1.0 test_acc: 1.0)\n",
      "600 Epoch: (loss: [0.20327105] train_acc: 1.0 test_acc: 1.0)\n",
      "630 Epoch: (loss: [0.20126098] train_acc: 1.0 test_acc: 1.0)\n",
      "660 Epoch: (loss: [0.22209111] train_acc: 1.0 test_acc: 1.0)\n",
      "690 Epoch: (loss: [0.2156566] train_acc: 1.0 test_acc: 1.0)\n",
      "720 Epoch: (loss: [0.28475332] train_acc: 1.0 test_acc: 1.0)\n",
      "750 Epoch: (loss: [0.20329976] train_acc: 1.0 test_acc: 1.0)\n",
      "780 Epoch: (loss: [0.23102483] train_acc: 1.0 test_acc: 1.0)\n",
      "810 Epoch: (loss: [0.2524306] train_acc: 1.0 test_acc: 1.0)\n",
      "840 Epoch: (loss: [0.21543705] train_acc: 1.0 test_acc: 1.0)\n",
      "870 Epoch: (loss: [0.18616676] train_acc: 1.0 test_acc: 1.0)\n",
      "900 Epoch: (loss: [0.18415464] train_acc: 1.0 test_acc: 1.0)\n",
      "930 Epoch: (loss: [0.18230839] train_acc: 1.0 test_acc: 1.0)\n",
      "960 Epoch: (loss: [0.20253333] train_acc: 1.0 test_acc: 1.0)\n",
      "990 Epoch: (loss: [0.17858614] train_acc: 1.0 test_acc: 1.0)\n"
     ]
    }
   ],
   "source": [
    "for epoch in range(iter_num):\n",
    "    batchIndex = np.random.choice(len(trainX), size=batch_size)\n",
    "    batchTrainX = trainX[batchIndex]\n",
    "    batchTrainY = np.matrix(trainY[batchIndex]).T\n",
    "    sess.run(goal, feed_dict={data: batchTrainX, target: batchTrainY})\n",
    "\n",
    "    temp_loss = sess.run(loss, feed_dict={data: batchTrainX, target: batchTrainY})\n",
    "    temp_train_acc = sess.run(accuracy, feed_dict={data: trainX, target: np.matrix(trainY).T})\n",
    "    temp_test_acc = sess.run(accuracy, feed_dict={data: testX, target: np.matrix(testY).T})\n",
    "    \n",
    "    loss_trace.append(temp_loss)\n",
    "    train_acc.append(temp_train_acc)\n",
    "    test_acc.append(temp_test_acc)\n",
    "\n",
    "    if (epoch + 1) % 30 == 0:\n",
    "        print('{:d} Epoch: (loss: {:s} train_acc: {:s} test_acc: {:s})'.format(epoch + 1, str(temp_loss), str(temp_train_acc), str(temp_test_acc)))"
   ]
  },
  {
   "cell_type": "code",
   "execution_count": 32,
   "metadata": {},
   "outputs": [
    {
     "data": {
      "image/png": "[encoded data removed]",
      "text/plain": [
       "<Figure size 432x288 with 1 Axes>"
      ]
     },
     "metadata": {
      "needs_background": "light"
     },
     "output_type": "display_data"
    }
   ],
   "source": [
    "# Visualization of the results\n",
    "# loss function\n",
    "plt.plot(loss_trace)\n",
    "plt.title('Cross Entropy Loss')\n",
    "plt.xlabel('epoch')\n",
    "plt.ylabel('loss')\n",
    "plt.show()"
   ]
  },
  {
   "cell_type": "code",
   "execution_count": 33,
   "metadata": {},
   "outputs": [
    {
     "data": {
      "image/png": "[encoded data removed]",
      "text/plain": [
       "<Figure size 432x288 with 1 Axes>"
      ]
     },
     "metadata": {
      "needs_background": "light"
     },
     "output_type": "display_data"
    }
   ],
   "source": [
    "# accuracy\n",
    "plt.plot(train_acc, 'b-', label='train accuracy')\n",
    "plt.plot(test_acc, 'k-', label='test accuracy')\n",
    "plt.xlabel('epoch')\n",
    "plt.ylabel('accuracy')\n",
    "plt.title('Train and Test Accuracy')\n",
    "plt.legend(loc='best')\n",
    "plt.show()"
   ]
  },
  {
   "cell_type": "code",
   "execution_count": 34,
   "metadata": {},
   "outputs": [
    {
     "data": {
      "text/plain": [
       "array([[-1.1967139 ],\n",
       "       [-0.5195945 ],\n",
       "       [ 0.83942103],\n",
       "       [ 0.16315377],\n",
       "       [-0.1957843 ],\n",
       "       [-1.3194432 ],\n",
       "       [ 0.03194676],\n",
       "       [ 0.33766446],\n",
       "       [-0.12451633],\n",
       "       [ 0.06478509],\n",
       "       [-0.37518868],\n",
       "       [ 0.23158161],\n",
       "       [ 1.1551888 ],\n",
       "       [-0.74557376],\n",
       "       [ 1.0059838 ],\n",
       "       [ 0.250281  ],\n",
       "       [-0.9873172 ],\n",
       "       [-1.6941351 ],\n",
       "       [-0.26819497],\n",
       "       [-0.98626053],\n",
       "       [ 0.42784482],\n",
       "       [ 0.7898234 ],\n",
       "       [-1.3758271 ],\n",
       "       [ 0.00509228],\n",
       "       [-1.6405052 ]], dtype=float32)"
      ]
     },
     "execution_count": 34,
     "metadata": {},
     "output_type": "execute_result"
    }
   ],
   "source": [
    "sess.run(W)"
   ]
  },
  {
   "cell_type": "code",
   "execution_count": 35,
   "metadata": {},
   "outputs": [
    {
     "data": {
      "text/plain": [
       "array([[-0.7974787]], dtype=float32)"
      ]
     },
     "execution_count": 35,
     "metadata": {},
     "output_type": "execute_result"
    }
   ],
   "source": [
    "sess.run(b)"
   ]
  }
 ],
 "metadata": {
  "kernelspec": {
   "display_name": "Python 3",
   "language": "python",
   "name": "python3"
  },
  "language_info": {
   "codemirror_mode": {
    "name": "ipython",
    "version": 3
   },
   "file_extension": ".py",
   "mimetype": "text/x-python",
   "name": "python",
   "nbconvert_exporter": "python",
   "pygments_lexer": "ipython3",
   "version": "3.6.8"
  }
 },
 "nbformat": 4,
 "nbformat_minor": 2
}
