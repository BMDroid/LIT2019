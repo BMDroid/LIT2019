{
 "cells": [
  {
   "cell_type": "code",
   "execution_count": 174,
   "metadata": {},
   "outputs": [],
   "source": [
    "import os\n",
    "import csv\n",
    "import string\n",
    "import numpy as np"
   ]
  },
  {
   "cell_type": "code",
   "execution_count": 31,
   "metadata": {},
   "outputs": [],
   "source": [
    "def load_data_01(fileName):\n",
    "    with open(fileName, 'r') as f:\n",
    "        reader = csv.reader(f)\n",
    "        lst = list(reader)\n",
    "    return lst"
   ]
  },
  {
   "cell_type": "code",
   "execution_count": 96,
   "metadata": {},
   "outputs": [],
   "source": [
    "def load_data_02(fileName):\n",
    "    with open(fileName, 'r') as f:\n",
    "        reader = csv.reader(f)\n",
    "        lst = list(reader)\n",
    "    m = len(lst)\n",
    "    data = []\n",
    "    for l in lst[1:2]:\n",
    "        labels = list(map(int, l[8].strip().replace('X', '0').split('_')))\n",
    "        case = []\n",
    "        case.extend(labels) \n",
    "        case.extend(l[9:15])\n",
    "        data.append(case)\n",
    "    return data, m"
   ]
  },
  {
   "cell_type": "code",
   "execution_count": 119,
   "metadata": {},
   "outputs": [
    {
     "name": "stdout",
     "output_type": "stream",
     "text": [
      "30\n"
     ]
    }
   ],
   "source": [
    "fileName = './Data.csv'\n",
    "lst = load_data_01(fileName)\n",
    "print(len(lst[1]))"
   ]
  },
  {
   "cell_type": "code",
   "execution_count": 153,
   "metadata": {},
   "outputs": [
    {
     "data": {
      "text/plain": [
       "'33 We therefore see no reason to disturb the Judge’s finding that the marks had aural similarity. In fact we find that there is a high degree of aural similarity between the competing marks because of the distinctiveness of the common “Regis” component in both the technical and non-technical senses.37 However, we find that there is some conceptual similarity between the marks but for a different reason. There is some strength in the Opponents’ argument that both the Applicant and Opponent Marks evoke the idea of a place or location. Although the ST. REGIS mark might conjure the image of a saintly person, in Singapore by far the most common manifestation of saintly names is in relation to places ranging from schools (St Joseph’s Institution, St Margaret’s School), roads (St George’s Road, St Martins Lane), hospitals (St Luke’s Hospital) and condominiums (St Nicholas View, St Patrick’s Court), to an assortment of other public places (St Michael’s flatted factory, St James Power Station (bar), Le Saint Julien (restaurant)), many of which have no particular association whatsoever with the saintly character whose name they have adopted. Similarly, the word “Park”, as noted by the Judge, connotes the idea of a geographical location though not necessarily of any particular type (see [26] of the GD). Therefore, in the Singapore context, the marks share a tendency to connote a place or location or building which, as between the competing marks in question, are linked by the common reference to “Regis”.43 In relation to its Class 35 registration, the Judge accepted the PAR’s finding that Staywell’s advertising, marketing and business management services were adjunct to and inseparable from its primary services under Class 43, and therefore similar to the Opponent’s Class 43 services (GD ([8] supra) at [32]–[33]). We agree with the Judge’s reasoning to the extent that Staywell’s Class 35 services are closely related and indeed inseparable from its Class 43 hotel and restaurant services. This is not to say that Staywell’s application for registration under the two classes was to be considered and compared collectively as against the Opponents’ Class 43 services. Rather, the real question is whether Staywell’s services that were sought to be registered under Class 35 are similar to the Opponents’ services under Class 43, having regard to all relevant factors relating to the services themselves. Some of the factors set out in British Sugar plc v James Robertson & Sons Ltd [1996] RPC 281 (“British Sugar”) at 296 would be relevant at the goods-similarity stage of the inquiry, in particular the consideration of the uses and the end-users of the services. The question is how the services are regarded, as a practical matter, for the purposes of trade. Applying this approach, we agree with the PAR’s findings at [63] of the PAR’s GD. There is an overlap between the uses and users of Staywell’s Class 35 business management and administration services, and its Class 43 service of providing hotel venues for business conferences and receptions. As for the advertising and marketing services under Class 35, these relate to the promotion of the hotel and restaurant services under Class 43. Therefore we agree that there is similarity between Staywell’s services in Class 35 and the Opponents’ services in Class 43.117 Notwithstanding our rejection of the doctrine of initial interest confusion, we reverse the Judge’s dismissal of the opposition under s 8(2)(b) of the Act. We affirm her finding that the marks were, on the whole, similar, and that the services were in essence identical; but we disagree that this similarity did not give rise to a likelihood of confusion at the point of sale of the parties’ respective services. On the contrary, we are satisfied in the circumstances that there was a sufficient likelihood of confusion by reason of the similarity in the competing marks and the services. In our judgment, because of this similarity, the average customer would have likely been confused as to whether the owners of the competing marks were economically linked and it was therefore an impermissible infraction of the Opponents’ rights to permit the registration to proceed.'"
      ]
     },
     "execution_count": 153,
     "metadata": {},
     "output_type": "execute_result"
    }
   ],
   "source": [
    "data, m = load_data_02(fileName)\n",
    "case1 = data[0]\n",
    "case2 = data[0]\n",
    "''.join(case1[8::])"
   ]
  },
  {
   "cell_type": "code",
   "execution_count": 156,
   "metadata": {},
   "outputs": [],
   "source": [
    "def create_vocab_list(dataSet):\n",
    "    vocabSet = set()\n",
    "    for case in dataSet:\n",
    "        caseText = ' '.join(case[8::]).split(' ')\n",
    "        vocabSet = vocabSet | set(caseText)\n",
    "    return sorted(vocabSet)"
   ]
  },
  {
   "cell_type": "code",
   "execution_count": 163,
   "metadata": {},
   "outputs": [],
   "source": [
    "dataSetTest = [case1, case2]\n",
    "vocabLst = create_vocab_list(dataSetTest)"
   ]
  },
  {
   "cell_type": "code",
   "execution_count": 175,
   "metadata": {},
   "outputs": [],
   "source": [
    "def read_stop_words(stopFileName):\n",
    "    file = open(stopFileName)\n",
    "    stopWords = list(map(lambda x: x[0:-1], file.readlines()))\n",
    "    return stopWords"
   ]
  },
  {
   "cell_type": "code",
   "execution_count": 176,
   "metadata": {},
   "outputs": [],
   "source": [
    "def clean_text(lst, stopWords):\n",
    "    puncs = string.punctuation + '’' + '“' + '”'\n",
    "    return list(map(lambda x: x.lower(), list(filter(lambda x:  4 < len(x) <= 20 and not any(p in x for p in puncs) and x not in stopWords, lst)))) "
   ]
  },
  {
   "cell_type": "code",
   "execution_count": 179,
   "metadata": {},
   "outputs": [],
   "source": [
    "stopFileName = './stopWordsNot.txt'\n",
    "stopWords = read_stop_words(stopFileName)\n",
    "cleanVocabLst = clean_text(vocabLst, stopWords)"
   ]
  },
  {
   "cell_type": "code",
   "execution_count": 180,
   "metadata": {},
   "outputs": [
    {
     "data": {
      "text/plain": [
       "['although',\n",
       " 'applicant',\n",
       " 'applying',\n",
       " 'british',\n",
       " 'class',\n",
       " 'james',\n",
       " 'judge',\n",
       " 'julien',\n",
       " 'marks',\n",
       " 'martins',\n",
       " 'nicholas',\n",
       " 'notwithstanding',\n",
       " 'opponent',\n",
       " 'power',\n",
       " 'regis',\n",
       " 'robertson',\n",
       " 'saint',\n",
       " 'singapore',\n",
       " 'station',\n",
       " 'sugar',\n",
       " 'there',\n",
       " 'therefore',\n",
       " 'accepted',\n",
       " 'adjunct',\n",
       " 'administration',\n",
       " 'advertising',\n",
       " 'affirm',\n",
       " 'agree',\n",
       " 'application',\n",
       " 'argument',\n",
       " 'association',\n",
       " 'assortment',\n",
       " 'aural',\n",
       " 'average',\n",
       " 'building',\n",
       " 'business',\n",
       " 'character',\n",
       " 'circumstances',\n",
       " 'classes',\n",
       " 'closely',\n",
       " 'collectively',\n",
       " 'common',\n",
       " 'compared',\n",
       " 'competing',\n",
       " 'component',\n",
       " 'conceptual',\n",
       " 'condominiums',\n",
       " 'conferences',\n",
       " 'confused',\n",
       " 'confusion',\n",
       " 'conjure',\n",
       " 'connote',\n",
       " 'connotes',\n",
       " 'consideration',\n",
       " 'considered',\n",
       " 'customer',\n",
       " 'degree',\n",
       " 'disagree',\n",
       " 'dismissal',\n",
       " 'distinctiveness',\n",
       " 'disturb',\n",
       " 'doctrine',\n",
       " 'economically',\n",
       " 'essence',\n",
       " 'evoke',\n",
       " 'extent',\n",
       " 'factors',\n",
       " 'finding',\n",
       " 'findings',\n",
       " 'flatted',\n",
       " 'geographical',\n",
       " 'hospitals',\n",
       " 'hotel',\n",
       " 'image',\n",
       " 'impermissible',\n",
       " 'infraction',\n",
       " 'initial',\n",
       " 'inseparable',\n",
       " 'interest',\n",
       " 'likelihood',\n",
       " 'linked',\n",
       " 'location',\n",
       " 'management',\n",
       " 'manifestation',\n",
       " 'marketing',\n",
       " 'marks',\n",
       " 'names',\n",
       " 'necessarily',\n",
       " 'noted',\n",
       " 'opposition',\n",
       " 'overlap',\n",
       " 'owners',\n",
       " 'permit',\n",
       " 'place',\n",
       " 'places',\n",
       " 'point',\n",
       " 'practical',\n",
       " 'primary',\n",
       " 'promotion',\n",
       " 'providing',\n",
       " 'public',\n",
       " 'purposes',\n",
       " 'question',\n",
       " 'ranging',\n",
       " 'reason',\n",
       " 'reasoning',\n",
       " 'reference',\n",
       " 'regard',\n",
       " 'registered',\n",
       " 'registration',\n",
       " 'rejection',\n",
       " 'relate',\n",
       " 'related',\n",
       " 'relating',\n",
       " 'relation',\n",
       " 'relevant',\n",
       " 'respective',\n",
       " 'restaurant',\n",
       " 'reverse',\n",
       " 'rights',\n",
       " 'roads',\n",
       " 'saintly',\n",
       " 'satisfied',\n",
       " 'schools',\n",
       " 'service',\n",
       " 'services',\n",
       " 'share',\n",
       " 'similar',\n",
       " 'similarity',\n",
       " 'sought',\n",
       " 'stage',\n",
       " 'strength',\n",
       " 'sufficient',\n",
       " 'technical',\n",
       " 'tendency',\n",
       " 'users',\n",
       " 'venues',\n",
       " 'whatsoever']"
      ]
     },
     "execution_count": 180,
     "metadata": {},
     "output_type": "execute_result"
    }
   ],
   "source": [
    "cleanVocabLst"
   ]
  },
  {
   "cell_type": "code",
   "execution_count": null,
   "metadata": {},
   "outputs": [],
   "source": []
  }
 ],
 "metadata": {
  "kernelspec": {
   "display_name": "Python 3",
   "language": "python",
   "name": "python3"
  },
  "language_info": {
   "codemirror_mode": {
    "name": "ipython",
    "version": 3
   },
   "file_extension": ".py",
   "mimetype": "text/x-python",
   "name": "python",
   "nbconvert_exporter": "python",
   "pygments_lexer": "ipython3",
   "version": "3.7.1"
  }
 },
 "nbformat": 4,
 "nbformat_minor": 2
}
