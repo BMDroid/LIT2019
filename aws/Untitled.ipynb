{
 "cells": [
  {
   "cell_type": "code",
   "execution_count": 8,
   "metadata": {},
   "outputs": [],
   "source": [
    "import boto3\n",
    "import botocore"
   ]
  },
  {
   "cell_type": "code",
   "execution_count": 9,
   "metadata": {},
   "outputs": [],
   "source": [
    "from boto3.session import Session\n",
    "# from utils import is_blank\n",
    "# from config import config\n",
    "s3 = boto3.resource('s3')"
   ]
  },
  {
   "cell_type": "code",
   "execution_count": 10,
   "metadata": {},
   "outputs": [
    {
     "name": "stdout",
     "output_type": "stream",
     "text": [
      "lawnetdata\n",
      "lawnetdatalogs\n",
      "redirect-community.lawnet.sg\n",
      "saloidcadapters\n",
      "terms-and-conditions-lawnetdata\n",
      "www.lawnet.sg\n"
     ]
    }
   ],
   "source": [
    "for bucket in s3.buckets.all():\n",
    "    print(bucket.name)"
   ]
  },
  {
   "cell_type": "code",
   "execution_count": 17,
   "metadata": {},
   "outputs": [],
   "source": [
    "BUCKET_NAME = 'lawnetdata'\n",
    "KEY = 'lawnetdata'"
   ]
  },
  {
   "cell_type": "code",
   "execution_count": 19,
   "metadata": {},
   "outputs": [
    {
     "name": "stdout",
     "output_type": "stream",
     "text": [
      "The object does not exist.\n"
     ]
    }
   ],
   "source": [
    "try:\n",
    "    s3.Bucket(BUCKET_NAME).download_file(KEY, '*.*')\n",
    "except botocore.exceptions.ClientError as e:\n",
    "    if e.response['Error']['Code'] == \"404\":\n",
    "        print(\"The object does not exist.\")\n",
    "    else:\n",
    "        raise"
   ]
  },
  {
   "cell_type": "code",
   "execution_count": null,
   "metadata": {},
   "outputs": [],
   "source": [
    "def down_url_by_key(key: str):\n",
    "    \"\"\"\n",
    "    s3 key2url\n",
    "    :param key:\n",
    "    :return:\n",
    "    \"\"\"\n",
    "    if is_blank(key):\n",
    "        return None\n",
    "    return client.generate_presigned_url(ClientMethod='get_object', Params=dict(Bucket=bucket, Key=key), ExpiresIn=3600)"
   ]
  },
  {
   "cell_type": "code",
   "execution_count": null,
   "metadata": {},
   "outputs": [],
   "source": []
  }
 ],
 "metadata": {
  "kernelspec": {
   "display_name": "Python 3",
   "language": "python",
   "name": "python3"
  },
  "language_info": {
   "codemirror_mode": {
    "name": "ipython",
    "version": 3
   },
   "file_extension": ".py",
   "mimetype": "text/x-python",
   "name": "python",
   "nbconvert_exporter": "python",
   "pygments_lexer": "ipython3",
   "version": "3.6.8"
  }
 },
 "nbformat": 4,
 "nbformat_minor": 2
}
